{
 "cells": [
  {
   "cell_type": "markdown",
   "metadata": {},
   "source": [
    "# Creating a Sentiment Analysis Web App\n",
    "## Using PyTorch and SageMaker\n",
    "\n",
    "_Deep Learning Nanodegree Program | Deployment_\n",
    "\n",
    "---\n",
    "\n",
    "Now that we have a basic understanding of how SageMaker works we will try to use it to construct a complete project from end to end. Our goal will be to have a simple web page which a user can use to enter a movie review. The web page will then send the review off to our deployed model which will predict the sentiment of the entered review.\n",
    "\n",
    "## Instructions\n",
    "\n",
    "Some template code has already been provided for you, and you will need to implement additional functionality to successfully complete this notebook. You will not need to modify the included code beyond what is requested. Sections that begin with '**TODO**' in the header indicate that you need to complete or implement some portion within them. Instructions will be provided for each section and the specifics of the implementation are marked in the code block with a `# TODO: ...` comment. Please be sure to read the instructions carefully!\n",
    "\n",
    "In addition to implementing code, there will be questions for you to answer which relate to the task and your implementation. Each section where you will answer a question is preceded by a '**Question:**' header. Carefully read each question and provide your answer below the '**Answer:**' header by editing the Markdown cell.\n",
    "\n",
    "> **Note**: Code and Markdown cells can be executed using the **Shift+Enter** keyboard shortcut. In addition, a cell can be edited by typically clicking it (double-click for Markdown cells) or by pressing **Enter** while it is highlighted.\n",
    "\n",
    "## General Outline\n",
    "\n",
    "Recall the general outline for SageMaker projects using a notebook instance.\n",
    "\n",
    "1. Download or otherwise retrieve the data.\n",
    "2. Process / Prepare the data.\n",
    "3. Upload the processed data to S3.\n",
    "4. Train a chosen model.\n",
    "5. Test the trained model (typically using a batch transform job).\n",
    "6. Deploy the trained model.\n",
    "7. Use the deployed model.\n",
    "\n",
    "For this project, you will be following the steps in the general outline with some modifications. \n",
    "\n",
    "First, you will not be testing the model in its own step. You will still be testing the model, however, you will do it by deploying your model and then using the deployed model by sending the test data to it. One of the reasons for doing this is so that you can make sure that your deployed model is working correctly before moving forward.\n",
    "\n",
    "In addition, you will deploy and use your trained model a second time. In the second iteration you will customize the way that your trained model is deployed by including some of your own code. In addition, your newly deployed model will be used in the sentiment analysis web app."
   ]
  },
  {
   "cell_type": "code",
   "execution_count": 1,
   "metadata": {},
   "outputs": [
    {
     "name": "stdout",
     "output_type": "stream",
     "text": [
      "Collecting sagemaker==1.72.0\n",
      "  Downloading sagemaker-1.72.0.tar.gz (297 kB)\n",
      "\u001b[K     |████████████████████████████████| 297 kB 13.2 MB/s eta 0:00:01\n",
      "\u001b[?25hRequirement already satisfied: boto3>=1.14.12 in /home/ec2-user/anaconda3/envs/pytorch_p36/lib/python3.6/site-packages (from sagemaker==1.72.0) (1.16.19)\n",
      "Requirement already satisfied: numpy>=1.9.0 in /home/ec2-user/anaconda3/envs/pytorch_p36/lib/python3.6/site-packages (from sagemaker==1.72.0) (1.18.1)\n",
      "Requirement already satisfied: protobuf>=3.1 in /home/ec2-user/anaconda3/envs/pytorch_p36/lib/python3.6/site-packages (from sagemaker==1.72.0) (3.11.4)\n",
      "Requirement already satisfied: scipy>=0.19.0 in /home/ec2-user/anaconda3/envs/pytorch_p36/lib/python3.6/site-packages (from sagemaker==1.72.0) (1.4.1)\n",
      "Requirement already satisfied: protobuf3-to-dict>=0.1.5 in /home/ec2-user/anaconda3/envs/pytorch_p36/lib/python3.6/site-packages (from sagemaker==1.72.0) (0.1.5)\n",
      "Collecting smdebug-rulesconfig==0.1.4\n",
      "  Downloading smdebug_rulesconfig-0.1.4-py2.py3-none-any.whl (10 kB)\n",
      "Requirement already satisfied: importlib-metadata>=1.4.0 in /home/ec2-user/anaconda3/envs/pytorch_p36/lib/python3.6/site-packages (from sagemaker==1.72.0) (2.0.0)\n",
      "Requirement already satisfied: packaging>=20.0 in /home/ec2-user/anaconda3/envs/pytorch_p36/lib/python3.6/site-packages (from sagemaker==1.72.0) (20.1)\n",
      "Requirement already satisfied: s3transfer<0.4.0,>=0.3.0 in /home/ec2-user/anaconda3/envs/pytorch_p36/lib/python3.6/site-packages (from boto3>=1.14.12->sagemaker==1.72.0) (0.3.3)\n",
      "Requirement already satisfied: jmespath<1.0.0,>=0.7.1 in /home/ec2-user/anaconda3/envs/pytorch_p36/lib/python3.6/site-packages (from boto3>=1.14.12->sagemaker==1.72.0) (0.10.0)\n",
      "Requirement already satisfied: botocore<1.20.0,>=1.19.19 in /home/ec2-user/anaconda3/envs/pytorch_p36/lib/python3.6/site-packages (from boto3>=1.14.12->sagemaker==1.72.0) (1.19.19)\n",
      "Requirement already satisfied: six>=1.9 in /home/ec2-user/anaconda3/envs/pytorch_p36/lib/python3.6/site-packages (from protobuf>=3.1->sagemaker==1.72.0) (1.14.0)\n",
      "Requirement already satisfied: setuptools in /home/ec2-user/anaconda3/envs/pytorch_p36/lib/python3.6/site-packages (from protobuf>=3.1->sagemaker==1.72.0) (45.2.0.post20200210)\n",
      "Requirement already satisfied: zipp>=0.5 in /home/ec2-user/anaconda3/envs/pytorch_p36/lib/python3.6/site-packages (from importlib-metadata>=1.4.0->sagemaker==1.72.0) (2.2.0)\n",
      "Requirement already satisfied: pyparsing>=2.0.2 in /home/ec2-user/anaconda3/envs/pytorch_p36/lib/python3.6/site-packages (from packaging>=20.0->sagemaker==1.72.0) (2.4.6)\n",
      "Requirement already satisfied: urllib3<1.27,>=1.25.4 in /home/ec2-user/anaconda3/envs/pytorch_p36/lib/python3.6/site-packages (from botocore<1.20.0,>=1.19.19->boto3>=1.14.12->sagemaker==1.72.0) (1.25.10)\n",
      "Requirement already satisfied: python-dateutil<3.0.0,>=2.1 in /home/ec2-user/anaconda3/envs/pytorch_p36/lib/python3.6/site-packages (from botocore<1.20.0,>=1.19.19->boto3>=1.14.12->sagemaker==1.72.0) (2.8.1)\n",
      "Building wheels for collected packages: sagemaker\n",
      "  Building wheel for sagemaker (setup.py) ... \u001b[?25ldone\n",
      "\u001b[?25h  Created wheel for sagemaker: filename=sagemaker-1.72.0-py2.py3-none-any.whl size=386358 sha256=a4b5968505602770cbf52ddb84ffa319df9a0bf12c7ff80b2e5183646638bac8\n",
      "  Stored in directory: /home/ec2-user/.cache/pip/wheels/c3/58/70/85faf4437568bfaa4c419937569ba1fe54d44c5db42406bbd7\n",
      "Successfully built sagemaker\n",
      "Installing collected packages: smdebug-rulesconfig, sagemaker\n",
      "  Attempting uninstall: smdebug-rulesconfig\n",
      "    Found existing installation: smdebug-rulesconfig 0.1.6\n",
      "    Uninstalling smdebug-rulesconfig-0.1.6:\n",
      "      Successfully uninstalled smdebug-rulesconfig-0.1.6\n",
      "  Attempting uninstall: sagemaker\n",
      "    Found existing installation: sagemaker 2.16.4.dev0\n",
      "    Uninstalling sagemaker-2.16.4.dev0:\n",
      "      Successfully uninstalled sagemaker-2.16.4.dev0\n",
      "Successfully installed sagemaker-1.72.0 smdebug-rulesconfig-0.1.4\n",
      "\u001b[33mWARNING: You are using pip version 20.0.2; however, version 20.3.3 is available.\n",
      "You should consider upgrading via the '/home/ec2-user/anaconda3/envs/pytorch_p36/bin/python -m pip install --upgrade pip' command.\u001b[0m\n"
     ]
    }
   ],
   "source": [
    "# Make sure that we use SageMaker 1.x\n",
    "!pip install sagemaker==1.72.0"
   ]
  },
  {
   "cell_type": "markdown",
   "metadata": {},
   "source": [
    "## Step 1: Downloading the data\n",
    "\n",
    "As in the XGBoost in SageMaker notebook, we will be using the [IMDb dataset](http://ai.stanford.edu/~amaas/data/sentiment/)\n",
    "\n",
    "> Maas, Andrew L., et al. [Learning Word Vectors for Sentiment Analysis](http://ai.stanford.edu/~amaas/data/sentiment/). In _Proceedings of the 49th Annual Meeting of the Association for Computational Linguistics: Human Language Technologies_. Association for Computational Linguistics, 2011."
   ]
  },
  {
   "cell_type": "code",
   "execution_count": 2,
   "metadata": {},
   "outputs": [
    {
     "name": "stdout",
     "output_type": "stream",
     "text": [
      "mkdir: cannot create directory ‘../data’: File exists\n",
      "--2020-12-22 07:43:20--  http://ai.stanford.edu/~amaas/data/sentiment/aclImdb_v1.tar.gz\n",
      "Resolving ai.stanford.edu (ai.stanford.edu)... 171.64.68.10\n",
      "Connecting to ai.stanford.edu (ai.stanford.edu)|171.64.68.10|:80... connected.\n",
      "HTTP request sent, awaiting response... 200 OK\n",
      "Length: 84125825 (80M) [application/x-gzip]\n",
      "Saving to: ‘../data/aclImdb_v1.tar.gz’\n",
      "\n",
      "../data/aclImdb_v1. 100%[===================>]  80.23M  19.8MB/s    in 7.2s    \n",
      "\n",
      "2020-12-22 07:43:28 (11.2 MB/s) - ‘../data/aclImdb_v1.tar.gz’ saved [84125825/84125825]\n",
      "\n"
     ]
    }
   ],
   "source": [
    "%mkdir ../data\n",
    "!wget -O ../data/aclImdb_v1.tar.gz http://ai.stanford.edu/~amaas/data/sentiment/aclImdb_v1.tar.gz\n",
    "!tar -zxf ../data/aclImdb_v1.tar.gz -C ../data"
   ]
  },
  {
   "cell_type": "markdown",
   "metadata": {},
   "source": [
    "## Step 2: Preparing and Processing the data\n",
    "\n",
    "Also, as in the XGBoost notebook, we will be doing some initial data processing. The first few steps are the same as in the XGBoost example. To begin with, we will read in each of the reviews and combine them into a single input structure. Then, we will split the dataset into a training set and a testing set."
   ]
  },
  {
   "cell_type": "code",
   "execution_count": 3,
   "metadata": {},
   "outputs": [],
   "source": [
    "import os\n",
    "import glob\n",
    "\n",
    "def read_imdb_data(data_dir='../data/aclImdb'):\n",
    "    data = {}\n",
    "    labels = {}\n",
    "    \n",
    "    for data_type in ['train', 'test']:\n",
    "        data[data_type] = {}\n",
    "        labels[data_type] = {}\n",
    "        \n",
    "        for sentiment in ['pos', 'neg']:\n",
    "            data[data_type][sentiment] = []\n",
    "            labels[data_type][sentiment] = []\n",
    "            \n",
    "            path = os.path.join(data_dir, data_type, sentiment, '*.txt')\n",
    "            files = glob.glob(path)\n",
    "            \n",
    "            for f in files:\n",
    "                with open(f) as review:\n",
    "                    data[data_type][sentiment].append(review.read())\n",
    "                    # Here we represent a positive review by '1' and a negative review by '0'\n",
    "                    labels[data_type][sentiment].append(1 if sentiment == 'pos' else 0)\n",
    "                    \n",
    "            assert len(data[data_type][sentiment]) == len(labels[data_type][sentiment]), \\\n",
    "                    \"{}/{} data size does not match labels size\".format(data_type, sentiment)\n",
    "                \n",
    "    return data, labels"
   ]
  },
  {
   "cell_type": "code",
   "execution_count": 4,
   "metadata": {},
   "outputs": [
    {
     "name": "stdout",
     "output_type": "stream",
     "text": [
      "IMDB reviews: train = 12500 pos / 12500 neg, test = 12500 pos / 12500 neg\n"
     ]
    }
   ],
   "source": [
    "data, labels = read_imdb_data()\n",
    "print(\"IMDB reviews: train = {} pos / {} neg, test = {} pos / {} neg\".format(\n",
    "            len(data['train']['pos']), len(data['train']['neg']),\n",
    "            len(data['test']['pos']), len(data['test']['neg'])))"
   ]
  },
  {
   "cell_type": "markdown",
   "metadata": {},
   "source": [
    "Now that we've read the raw training and testing data from the downloaded dataset, we will combine the positive and negative reviews and shuffle the resulting records."
   ]
  },
  {
   "cell_type": "code",
   "execution_count": 5,
   "metadata": {},
   "outputs": [],
   "source": [
    "from sklearn.utils import shuffle\n",
    "\n",
    "def prepare_imdb_data(data, labels):\n",
    "    \"\"\"Prepare training and test sets from IMDb movie reviews.\"\"\"\n",
    "    \n",
    "    #Combine positive and negative reviews and labels\n",
    "    data_train = data['train']['pos'] + data['train']['neg']\n",
    "    data_test = data['test']['pos'] + data['test']['neg']\n",
    "    labels_train = labels['train']['pos'] + labels['train']['neg']\n",
    "    labels_test = labels['test']['pos'] + labels['test']['neg']\n",
    "    \n",
    "    #Shuffle reviews and corresponding labels within training and test sets\n",
    "    data_train, labels_train = shuffle(data_train, labels_train)\n",
    "    data_test, labels_test = shuffle(data_test, labels_test)\n",
    "    \n",
    "    # Return a unified training data, test data, training labels, test labets\n",
    "    return data_train, data_test, labels_train, labels_test"
   ]
  },
  {
   "cell_type": "code",
   "execution_count": 6,
   "metadata": {},
   "outputs": [
    {
     "name": "stdout",
     "output_type": "stream",
     "text": [
      "IMDb reviews (combined): train = 25000, test = 25000\n"
     ]
    }
   ],
   "source": [
    "train_X, test_X, train_y, test_y = prepare_imdb_data(data, labels)\n",
    "print(\"IMDb reviews (combined): train = {}, test = {}\".format(len(train_X), len(test_X)))"
   ]
  },
  {
   "cell_type": "markdown",
   "metadata": {},
   "source": [
    "Now that we have our training and testing sets unified and prepared, we should do a quick check and see an example of the data our model will be trained on. This is generally a good idea as it allows you to see how each of the further processing steps affects the reviews and it also ensures that the data has been loaded correctly."
   ]
  },
  {
   "cell_type": "code",
   "execution_count": 7,
   "metadata": {},
   "outputs": [
    {
     "name": "stdout",
     "output_type": "stream",
     "text": [
      "I just saw this cartoon for the first time and recognized the caricatures of famous black entertainers... Cab Calloway, Bessie Smith, (not Josephine Baker or Sophie Tucker, who was white), Thomas \"Fats\" Waller, Bill \"Bojangles\" Robinson, Stepin Fetchit (notwithstanding) Louis Armstrong and the chorus girls are out of the famed \"Cotton Club\" in Harlem. True... stereotypes are there, but this was the way it was... and these cartoons were meant as adult entertainment at your local cinema before the main feature. <br /><br />Harmann & Ising cartoons tended to be more \"cutesy\" and more upscale, (after all... we are talking about M-G-M) than the standard animated short done over at Warners, Paramount, Universal, Fox, RKO or lowly Columbia. Even Disney's very early Mickey Mouse had loads of barnyard humor before Uncle Walt cleaned him up just before he went \"Technicolor\".<br /><br />Disney had some cartoons with caricatures of black entertainers as well... for example, 1937's Silly Symphony \"Woodland Cafe\". But we have to remember that these films are part of a certain time and place. 50 years from now... clips of the Simpsons, Family Guy, and South Park will be also scrutinized, analyzed... and even vilified by future viewers.\n",
      "1\n"
     ]
    }
   ],
   "source": [
    "print(train_X[100])\n",
    "print(train_y[100])"
   ]
  },
  {
   "cell_type": "markdown",
   "metadata": {},
   "source": [
    "The first step in processing the reviews is to make sure that any html tags that appear should be removed. In addition we wish to tokenize our input, that way words such as *entertained* and *entertaining* are considered the same with regard to sentiment analysis."
   ]
  },
  {
   "cell_type": "code",
   "execution_count": 8,
   "metadata": {},
   "outputs": [],
   "source": [
    "import nltk\n",
    "from nltk.corpus import stopwords\n",
    "from nltk.stem.porter import *\n",
    "\n",
    "import re\n",
    "from bs4 import BeautifulSoup\n",
    "\n",
    "def review_to_words(review):\n",
    "    nltk.download(\"stopwords\", quiet=True)\n",
    "    stemmer = PorterStemmer()\n",
    "    \n",
    "    text = BeautifulSoup(review, \"html.parser\").get_text() # Remove HTML tags\n",
    "    text = re.sub(r\"[^a-zA-Z0-9]\", \" \", text.lower()) # Convert to lower case\n",
    "    words = text.split() # Split string into words\n",
    "    words = [w for w in words if w not in stopwords.words(\"english\")] # Remove stopwords\n",
    "    words = [PorterStemmer().stem(w) for w in words] # stem\n",
    "    \n",
    "    return words"
   ]
  },
  {
   "cell_type": "markdown",
   "metadata": {},
   "source": [
    "The `review_to_words` method defined above uses `BeautifulSoup` to remove any html tags that appear and uses the `nltk` package to tokenize the reviews. As a check to ensure we know how everything is working, try applying `review_to_words` to one of the reviews in the training set."
   ]
  },
  {
   "cell_type": "code",
   "execution_count": 9,
   "metadata": {},
   "outputs": [
    {
     "data": {
      "text/plain": [
       "['well',\n",
       " 'begin',\n",
       " 'guess',\n",
       " 'start',\n",
       " 'gener',\n",
       " 'complaint',\n",
       " 'regard',\n",
       " 'way',\n",
       " 'film',\n",
       " 'market',\n",
       " 'call',\n",
       " 'ignor',\n",
       " 'know',\n",
       " 'schneebaum',\n",
       " 'book',\n",
       " 'view',\n",
       " 'documentari',\n",
       " 'base',\n",
       " 'decid',\n",
       " 'live',\n",
       " 'kind',\n",
       " 'rock',\n",
       " 'blame',\n",
       " 'pick',\n",
       " 'movi',\n",
       " 'sinc',\n",
       " 'titl',\n",
       " 'descript',\n",
       " 'box',\n",
       " 'make',\n",
       " 'note',\n",
       " 'fact',\n",
       " 'documentari',\n",
       " 'actual',\n",
       " 'companion',\n",
       " 'said',\n",
       " 'book',\n",
       " 'yeah',\n",
       " 'felt',\n",
       " 'quit',\n",
       " 'stupid',\n",
       " 'view',\n",
       " 'littl',\n",
       " 'flick',\n",
       " 'see',\n",
       " 'reason',\n",
       " 'sat',\n",
       " 'watch',\n",
       " 'first',\n",
       " 'place',\n",
       " 'get',\n",
       " 'good',\n",
       " 'serv',\n",
       " 'modern',\n",
       " 'cannib',\n",
       " 'tale',\n",
       " 'mean',\n",
       " 'fool',\n",
       " 'expect',\n",
       " 'film',\n",
       " 'actual',\n",
       " 'cover',\n",
       " 'stori',\n",
       " 'behavior',\n",
       " 'cannib',\n",
       " 'jungl',\n",
       " 'tribe',\n",
       " 'certainli',\n",
       " 'expect',\n",
       " 'hour',\n",
       " 'forti',\n",
       " 'five',\n",
       " 'minut',\n",
       " 'one',\n",
       " 'old',\n",
       " 'geezer',\n",
       " 'kiss',\n",
       " 'ass',\n",
       " 'whine',\n",
       " 'everi',\n",
       " 'littl',\n",
       " 'detail',\n",
       " 'dull',\n",
       " 'worn',\n",
       " 'life',\n",
       " 'certainli',\n",
       " 'expect',\n",
       " 'insipid',\n",
       " 'direct',\n",
       " 'notabl',\n",
       " 'forese',\n",
       " 'laugh',\n",
       " 'hard',\n",
       " 'tobia',\n",
       " 'schneebaum',\n",
       " 'put',\n",
       " 'glori',\n",
       " 'schneebaum',\n",
       " 'inde',\n",
       " 'unlik',\n",
       " 'old',\n",
       " 'man',\n",
       " 'rambl',\n",
       " 'bitch',\n",
       " 'entir',\n",
       " 'film',\n",
       " 'make',\n",
       " 'whole',\n",
       " 'pictur',\n",
       " 'person',\n",
       " 'tale',\n",
       " 'even',\n",
       " 'though',\n",
       " 'even',\n",
       " 'interest',\n",
       " 'charact',\n",
       " 'fill',\n",
       " 'stori',\n",
       " 'oh',\n",
       " 'realli',\n",
       " 'cannib',\n",
       " 'nineti',\n",
       " 'percent',\n",
       " 'movi',\n",
       " 'focus',\n",
       " 'next',\n",
       " 'noth',\n",
       " 'regard',\n",
       " 'schneebaum',\n",
       " 'dirti',\n",
       " 'past',\n",
       " 'time',\n",
       " 'realli',\n",
       " 'get',\n",
       " 'see',\n",
       " 'cannib',\n",
       " 'action',\n",
       " 'tobia',\n",
       " 'final',\n",
       " 'break',\n",
       " 'littl',\n",
       " 'silent',\n",
       " 'treatment',\n",
       " 'happen',\n",
       " 'peru',\n",
       " 'say',\n",
       " 'small',\n",
       " 'piec',\n",
       " 'folk',\n",
       " 'nineti',\n",
       " 'minut',\n",
       " 'bull',\n",
       " 'later',\n",
       " 'tobia',\n",
       " 'schneebaum',\n",
       " 'cannib',\n",
       " 'three',\n",
       " 'inch',\n",
       " 'like',\n",
       " 'call',\n",
       " 'movi',\n",
       " 'life',\n",
       " 'true',\n",
       " 'juan',\n",
       " 'see',\n",
       " 'time',\n",
       " 'protagonist',\n",
       " 'said',\n",
       " 'film',\n",
       " 'someth',\n",
       " 'sexual',\n",
       " 'happen',\n",
       " 'colleg',\n",
       " 'play',\n",
       " 'tip',\n",
       " 'unbeliev',\n",
       " 'direct',\n",
       " 'inde',\n",
       " 'superbl',\n",
       " 'ghastli',\n",
       " 'flow',\n",
       " 'rhythm',\n",
       " 'stori',\n",
       " 'told',\n",
       " 'alright',\n",
       " 'understand',\n",
       " 'read',\n",
       " 'schneebaum',\n",
       " 'volum',\n",
       " 'watch',\n",
       " 'celluloid',\n",
       " 'tale',\n",
       " 'still',\n",
       " 'recogn',\n",
       " 'bad',\n",
       " 'pace',\n",
       " 'even',\n",
       " 'wors',\n",
       " 'edit',\n",
       " 'one',\n",
       " 'minut',\n",
       " 'schneebaum',\n",
       " 'talk',\n",
       " 'cruis',\n",
       " 'ship',\n",
       " 'tourism',\n",
       " 'next',\n",
       " 'go',\n",
       " 'drive',\n",
       " 'jump',\n",
       " 'talk',\n",
       " 'dead',\n",
       " 'rel',\n",
       " 'fail',\n",
       " 'miser',\n",
       " 'saga',\n",
       " 'life',\n",
       " 'mean',\n",
       " 'jesu',\n",
       " 'least',\n",
       " 'slam',\n",
       " 'back',\n",
       " 'stori',\n",
       " 'first',\n",
       " 'part',\n",
       " 'follow',\n",
       " 'stuff',\n",
       " 'cover',\n",
       " 'homosexu',\n",
       " 'end',\n",
       " 'hearti',\n",
       " 'look',\n",
       " 'visit',\n",
       " 'peru',\n",
       " 'also',\n",
       " 'particularli',\n",
       " 'care',\n",
       " 'much',\n",
       " 'schneebaum',\n",
       " 'insipid',\n",
       " 'littl',\n",
       " 'quip',\n",
       " 'life',\n",
       " 'live',\n",
       " 'least',\n",
       " 'implor',\n",
       " 'old',\n",
       " 'man',\n",
       " 'keep',\n",
       " 'consist',\n",
       " 'rambl',\n",
       " 'hear',\n",
       " 'guy',\n",
       " 'talk',\n",
       " 'prefer',\n",
       " 'life',\n",
       " 'jungl',\n",
       " 'expect',\n",
       " 'suddenli',\n",
       " 'bitch',\n",
       " 'moan',\n",
       " 'want',\n",
       " 'go',\n",
       " 'back',\n",
       " 'home',\n",
       " 'twenti',\n",
       " 'minut',\n",
       " 'later',\n",
       " 'absurd',\n",
       " 'anoth',\n",
       " 'note',\n",
       " 'direct',\n",
       " 'random',\n",
       " 'clip',\n",
       " 'stori',\n",
       " 'hand',\n",
       " 'small',\n",
       " 'littl',\n",
       " 'televis',\n",
       " 'appear',\n",
       " 'hero',\n",
       " 'appear',\n",
       " 'might',\n",
       " 'find',\n",
       " 'clip',\n",
       " 'fanci',\n",
       " 'littl',\n",
       " 'break',\n",
       " 'stori',\n",
       " 'director',\n",
       " 'overus',\n",
       " 'gimmick',\n",
       " 'broken',\n",
       " 'entir',\n",
       " 'film',\n",
       " 'piec',\n",
       " 'seemingli',\n",
       " 'attempt',\n",
       " 'place',\n",
       " 'effort',\n",
       " 'tell',\n",
       " 'stori',\n",
       " 'old',\n",
       " 'reel',\n",
       " 'bottom',\n",
       " 'line',\n",
       " 'tobia',\n",
       " 'schneebaum',\n",
       " 'fraud',\n",
       " 'pure',\n",
       " 'simpl',\n",
       " 'know',\n",
       " 'read',\n",
       " 'book',\n",
       " 'still',\n",
       " 'hold',\n",
       " 'argument',\n",
       " 'film',\n",
       " 'total',\n",
       " 'useless',\n",
       " 'note',\n",
       " 'good',\n",
       " 'film',\n",
       " 'must',\n",
       " 'stand',\n",
       " 'documentari',\n",
       " 'reli',\n",
       " 'way',\n",
       " 'much',\n",
       " 'assumpt',\n",
       " 'viewer',\n",
       " 'alreadi',\n",
       " 'avid',\n",
       " 'fan',\n",
       " 'schneebaum',\n",
       " 'work',\n",
       " 'instead',\n",
       " 'goe',\n",
       " 'assumpt',\n",
       " 'like',\n",
       " 'supplement',\n",
       " 'disk',\n",
       " 'found',\n",
       " 'dvd',\n",
       " 'schneebaum',\n",
       " 'arrog',\n",
       " 'bitchi',\n",
       " 'strike',\n",
       " 'sour',\n",
       " 'combin',\n",
       " 'mix',\n",
       " 'fact',\n",
       " 'stori',\n",
       " 'remark',\n",
       " 'un',\n",
       " 'rivet',\n",
       " 'look',\n",
       " 'solid',\n",
       " 'piec',\n",
       " 'natur',\n",
       " 'human',\n",
       " 'cannib',\n",
       " 'turn',\n",
       " 'away',\n",
       " 'keep',\n",
       " 'river',\n",
       " 'right',\n",
       " 'embarrassingli',\n",
       " 'hilari',\n",
       " 'self',\n",
       " 'serv',\n",
       " 'rant',\n",
       " 'man',\n",
       " 'long',\n",
       " 'overdu',\n",
       " 'straight',\n",
       " 'jacket',\n",
       " 'gag']"
      ]
     },
     "execution_count": 9,
     "metadata": {},
     "output_type": "execute_result"
    }
   ],
   "source": [
    "# TODO: Apply review_to_words to a review (train_X[100] or any other review)\n",
    "review_to_words(train_X[2])"
   ]
  },
  {
   "cell_type": "markdown",
   "metadata": {},
   "source": [
    "**Question:** Above we mentioned that `review_to_words` method removes html formatting and allows us to tokenize the words found in a review, for example, converting *entertained* and *entertaining* into *entertain* so that they are treated as though they are the same word. What else, if anything, does this method do to the input?"
   ]
  },
  {
   "cell_type": "markdown",
   "metadata": {},
   "source": [
    "**Answer:**  It removes the stopwords from the text, changes the review into a list of words and changes all words into lowercase"
   ]
  },
  {
   "cell_type": "markdown",
   "metadata": {},
   "source": [
    "The method below applies the `review_to_words` method to each of the reviews in the training and testing datasets. In addition it caches the results. This is because performing this processing step can take a long time. This way if you are unable to complete the notebook in the current session, you can come back without needing to process the data a second time."
   ]
  },
  {
   "cell_type": "code",
   "execution_count": 10,
   "metadata": {},
   "outputs": [],
   "source": [
    "import pickle\n",
    "\n",
    "cache_dir = os.path.join(\"../cache\", \"sentiment_analysis\")  # where to store cache files\n",
    "os.makedirs(cache_dir, exist_ok=True)  # ensure cache directory exists\n",
    "\n",
    "def preprocess_data(data_train, data_test, labels_train, labels_test,\n",
    "                    cache_dir=cache_dir, cache_file=\"preprocessed_data.pkl\"):\n",
    "    \"\"\"Convert each review to words; read from cache if available.\"\"\"\n",
    "\n",
    "    # If cache_file is not None, try to read from it first\n",
    "    cache_data = None\n",
    "    if cache_file is not None:\n",
    "        try:\n",
    "            with open(os.path.join(cache_dir, cache_file), \"rb\") as f:\n",
    "                cache_data = pickle.load(f)\n",
    "            print(\"Read preprocessed data from cache file:\", cache_file)\n",
    "        except:\n",
    "            pass  # unable to read from cache, but that's okay\n",
    "    \n",
    "    # If cache is missing, then do the heavy lifting\n",
    "    if cache_data is None:\n",
    "        # Preprocess training and test data to obtain words for each review\n",
    "        #words_train = list(map(review_to_words, data_train))\n",
    "        #words_test = list(map(review_to_words, data_test))\n",
    "        words_train = [review_to_words(review) for review in data_train]\n",
    "        words_test = [review_to_words(review) for review in data_test]\n",
    "        \n",
    "        # Write to cache file for future runs\n",
    "        if cache_file is not None:\n",
    "            cache_data = dict(words_train=words_train, words_test=words_test,\n",
    "                              labels_train=labels_train, labels_test=labels_test)\n",
    "            with open(os.path.join(cache_dir, cache_file), \"wb\") as f:\n",
    "                pickle.dump(cache_data, f)\n",
    "            print(\"Wrote preprocessed data to cache file:\", cache_file)\n",
    "    else:\n",
    "        # Unpack data loaded from cache file\n",
    "        words_train, words_test, labels_train, labels_test = (cache_data['words_train'],\n",
    "                cache_data['words_test'], cache_data['labels_train'], cache_data['labels_test'])\n",
    "    \n",
    "    return words_train, words_test, labels_train, labels_test"
   ]
  },
  {
   "cell_type": "code",
   "execution_count": 11,
   "metadata": {},
   "outputs": [
    {
     "name": "stdout",
     "output_type": "stream",
     "text": [
      "Read preprocessed data from cache file: preprocessed_data.pkl\n"
     ]
    }
   ],
   "source": [
    "# Preprocess data\n",
    "train_X, test_X, train_y, test_y = preprocess_data(train_X, test_X, train_y, test_y)"
   ]
  },
  {
   "cell_type": "markdown",
   "metadata": {},
   "source": [
    "## Transform the data\n",
    "\n",
    "In the XGBoost notebook we transformed the data from its word representation to a bag-of-words feature representation. For the model we are going to construct in this notebook we will construct a feature representation which is very similar. To start, we will represent each word as an integer. Of course, some of the words that appear in the reviews occur very infrequently and so likely don't contain much information for the purposes of sentiment analysis. The way we will deal with this problem is that we will fix the size of our working vocabulary and we will only include the words that appear most frequently. We will then combine all of the infrequent words into a single category and, in our case, we will label it as `1`.\n",
    "\n",
    "Since we will be using a recurrent neural network, it will be convenient if the length of each review is the same. To do this, we will fix a size for our reviews and then pad short reviews with the category 'no word' (which we will label `0`) and truncate long reviews."
   ]
  },
  {
   "cell_type": "markdown",
   "metadata": {},
   "source": [
    "### (TODO) Create a word dictionary\n",
    "\n",
    "To begin with, we need to construct a way to map words that appear in the reviews to integers. Here we fix the size of our vocabulary (including the 'no word' and 'infrequent' categories) to be `5000` but you may wish to change this to see how it affects the model.\n",
    "\n",
    "> **TODO:** Complete the implementation for the `build_dict()` method below. Note that even though the vocab_size is set to `5000`, we only want to construct a mapping for the most frequently appearing `4998` words. This is because we want to reserve the special labels `0` for 'no word' and `1` for 'infrequent word'."
   ]
  },
  {
   "cell_type": "code",
   "execution_count": 12,
   "metadata": {},
   "outputs": [],
   "source": [
    "import numpy as np\n",
    "\n",
    "def build_dict(data, vocab_size = 5000):\n",
    "    \"\"\"Construct and return a dictionary mapping each of the most frequently appearing words to a unique integer.\"\"\"\n",
    "    \n",
    "    # TODO: Determine how often each word appears in `data`. Note that `data` is a list of sentences and that a\n",
    "    #       sentence is a list of words.\n",
    "    \n",
    "    word_count = {} # A dict storing the words that appear in the reviews along with how often they occur\n",
    "\n",
    "    for sent in data:\n",
    "        for w in sent:\n",
    "            if w not in word_count:\n",
    "                word_count[w] = 1\n",
    "            else:\n",
    "                word_count[w] += 1\n",
    "    \n",
    "    # TODO: Sort the words found in `data` so that sorted_words[0] is the most frequently appearing word and\n",
    "    #       sorted_words[-1] is the least frequently appearing word.\n",
    "    \n",
    "    sorted_words = sorted(word_count, key=word_count.get, reverse=True)\n",
    "    \n",
    "    word_dict = {} # This is what we are building, a dictionary that translates words into integers\n",
    "    for idx, word in enumerate(sorted_words[:vocab_size - 2]): # The -2 is so that we save room for the 'no word'\n",
    "        word_dict[word] = idx + 2                              # 'infrequent' labels\n",
    "        \n",
    "    return word_dict"
   ]
  },
  {
   "cell_type": "code",
   "execution_count": 13,
   "metadata": {},
   "outputs": [
    {
     "name": "stdout",
     "output_type": "stream",
     "text": [
      "{'movi': 2, 'film': 3, 'one': 4, 'like': 5, 'time': 6, 'good': 7, 'make': 8, 'charact': 9, 'get': 10, 'see': 11, 'watch': 12, 'stori': 13, 'even': 14, 'would': 15, 'realli': 16, 'well': 17, 'scene': 18, 'look': 19, 'show': 20, 'much': 21, 'end': 22, 'peopl': 23, 'bad': 24, 'go': 25, 'great': 26, 'also': 27, 'first': 28, 'love': 29, 'think': 30, 'way': 31, 'act': 32, 'play': 33, 'made': 34, 'thing': 35, 'could': 36, 'know': 37, 'say': 38, 'seem': 39, 'work': 40, 'plot': 41, 'two': 42, 'actor': 43, 'year': 44, 'come': 45, 'mani': 46, 'seen': 47, 'take': 48, 'want': 49, 'life': 50, 'never': 51, 'littl': 52, 'best': 53, 'tri': 54, 'man': 55, 'ever': 56, 'give': 57, 'better': 58, 'still': 59, 'perform': 60, 'find': 61, 'feel': 62, 'part': 63, 'back': 64, 'use': 65, 'someth': 66, 'director': 67, 'actual': 68, 'interest': 69, 'lot': 70, 'real': 71, 'old': 72, 'cast': 73, 'though': 74, 'live': 75, 'star': 76, 'enjoy': 77, 'guy': 78, 'anoth': 79, 'new': 80, 'role': 81, 'noth': 82, '10': 83, 'funni': 84, 'music': 85, 'point': 86, 'start': 87, 'set': 88, 'girl': 89, 'origin': 90, 'day': 91, 'world': 92, 'everi': 93, 'believ': 94, 'turn': 95, 'quit': 96, 'direct': 97, 'us': 98, 'thought': 99, 'fact': 100, 'minut': 101, 'horror': 102, 'kill': 103, 'action': 104, 'comedi': 105, 'pretti': 106, 'young': 107, 'wonder': 108, 'happen': 109, 'around': 110, 'got': 111, 'effect': 112, 'right': 113, 'long': 114, 'howev': 115, 'big': 116, 'line': 117, 'famili': 118, 'enough': 119, 'seri': 120, 'may': 121, 'need': 122, 'fan': 123, 'bit': 124, 'script': 125, 'beauti': 126, 'person': 127, 'becom': 128, 'without': 129, 'must': 130, 'alway': 131, 'friend': 132, 'tell': 133, 'reason': 134, 'saw': 135, 'last': 136, 'final': 137, 'kid': 138, 'almost': 139, 'put': 140, 'least': 141, 'sure': 142, 'done': 143, 'whole': 144, 'place': 145, 'complet': 146, 'kind': 147, 'expect': 148, 'differ': 149, 'shot': 150, 'far': 151, 'mean': 152, 'anyth': 153, 'book': 154, 'laugh': 155, 'might': 156, 'name': 157, 'sinc': 158, 'begin': 159, '2': 160, 'probabl': 161, 'woman': 162, 'help': 163, 'entertain': 164, 'let': 165, 'screen': 166, 'call': 167, 'tv': 168, 'moment': 169, 'away': 170, 'read': 171, 'yet': 172, 'rather': 173, 'worst': 174, 'run': 175, 'fun': 176, 'lead': 177, 'hard': 178, 'audienc': 179, 'idea': 180, 'anyon': 181, 'episod': 182, 'american': 183, 'found': 184, 'appear': 185, 'bore': 186, 'especi': 187, 'although': 188, 'hope': 189, 'cours': 190, 'keep': 191, 'anim': 192, 'job': 193, 'goe': 194, 'move': 195, 'sens': 196, 'version': 197, 'dvd': 198, 'war': 199, 'money': 200, 'someon': 201, 'mind': 202, 'mayb': 203, 'problem': 204, 'true': 205, 'hous': 206, 'everyth': 207, 'nice': 208, 'second': 209, 'rate': 210, 'three': 211, 'night': 212, 'follow': 213, 'face': 214, 'recommend': 215, 'product': 216, 'main': 217, 'worth': 218, 'leav': 219, 'human': 220, 'special': 221, 'excel': 222, 'togeth': 223, 'wast': 224, 'everyon': 225, 'sound': 226, 'john': 227, 'hand': 228, '1': 229, 'father': 230, 'later': 231, 'eye': 232, 'said': 233, 'view': 234, 'instead': 235, 'review': 236, 'boy': 237, 'high': 238, 'hour': 239, 'miss': 240, 'talk': 241, 'classic': 242, 'wife': 243, 'understand': 244, 'left': 245, 'care': 246, 'black': 247, 'death': 248, 'open': 249, 'murder': 250, 'write': 251, 'half': 252, 'head': 253, 'rememb': 254, 'chang': 255, 'viewer': 256, 'fight': 257, 'gener': 258, 'surpris': 259, 'includ': 260, 'short': 261, 'die': 262, 'fall': 263, 'less': 264, 'els': 265, 'entir': 266, 'piec': 267, 'involv': 268, 'pictur': 269, 'simpli': 270, 'home': 271, 'power': 272, 'top': 273, 'total': 274, 'usual': 275, 'budget': 276, 'attempt': 277, 'suppos': 278, 'releas': 279, 'hollywood': 280, 'terribl': 281, 'song': 282, 'men': 283, 'possibl': 284, 'featur': 285, 'portray': 286, 'disappoint': 287, '3': 288, 'poor': 289, 'coupl': 290, 'camera': 291, 'stupid': 292, 'dead': 293, 'wrong': 294, 'low': 295, 'produc': 296, 'video': 297, 'either': 298, 'aw': 299, 'definit': 300, 'except': 301, 'rest': 302, 'given': 303, 'absolut': 304, 'women': 305, 'lack': 306, 'word': 307, 'writer': 308, 'titl': 309, 'talent': 310, 'decid': 311, 'full': 312, 'perfect': 313, 'along': 314, 'style': 315, 'close': 316, 'truli': 317, 'school': 318, 'emot': 319, 'save': 320, 'age': 321, 'sex': 322, 'next': 323, 'bring': 324, 'mr': 325, 'case': 326, 'killer': 327, 'heart': 328, 'comment': 329, 'sort': 330, 'creat': 331, 'perhap': 332, 'came': 333, 'brother': 334, 'sever': 335, 'joke': 336, 'art': 337, 'dialogu': 338, 'game': 339, 'small': 340, 'base': 341, 'flick': 342, 'written': 343, 'sequenc': 344, 'meet': 345, 'earli': 346, 'often': 347, 'other': 348, 'mother': 349, 'develop': 350, 'humor': 351, 'actress': 352, 'consid': 353, 'dark': 354, 'guess': 355, 'amaz': 356, 'unfortun': 357, 'light': 358, 'lost': 359, 'exampl': 360, 'cinema': 361, 'drama': 362, 'white': 363, 'ye': 364, 'experi': 365, 'imagin': 366, 'mention': 367, 'stop': 368, 'natur': 369, 'forc': 370, 'manag': 371, 'felt': 372, 'cut': 373, 'present': 374, 'children': 375, 'fail': 376, 'son': 377, 'qualiti': 378, 'support': 379, 'car': 380, 'ask': 381, 'hit': 382, 'side': 383, 'voic': 384, 'extrem': 385, 'impress': 386, 'evil': 387, 'wors': 388, 'stand': 389, 'went': 390, 'certainli': 391, 'basic': 392, 'oh': 393, 'overal': 394, 'favorit': 395, 'horribl': 396, 'mysteri': 397, 'number': 398, 'type': 399, 'danc': 400, 'wait': 401, 'hero': 402, '5': 403, 'alreadi': 404, 'learn': 405, 'matter': 406, '4': 407, 'michael': 408, 'genr': 409, 'fine': 410, 'despit': 411, 'throughout': 412, 'walk': 413, 'success': 414, 'histori': 415, 'question': 416, 'zombi': 417, 'town': 418, 'realiz': 419, 'relationship': 420, 'child': 421, 'past': 422, 'daughter': 423, 'late': 424, 'b': 425, 'wish': 426, 'hate': 427, 'credit': 428, 'event': 429, 'theme': 430, 'touch': 431, 'citi': 432, 'today': 433, 'sometim': 434, 'behind': 435, 'god': 436, 'twist': 437, 'sit': 438, 'deal': 439, 'stay': 440, 'annoy': 441, 'abl': 442, 'rent': 443, 'pleas': 444, 'edit': 445, 'blood': 446, 'deserv': 447, 'comic': 448, 'anyway': 449, 'appar': 450, 'soon': 451, 'gave': 452, 'etc': 453, 'level': 454, 'slow': 455, 'chanc': 456, 'score': 457, 'bodi': 458, 'brilliant': 459, 'incred': 460, 'figur': 461, 'situat': 462, 'self': 463, 'major': 464, 'stuff': 465, 'decent': 466, 'element': 467, 'return': 468, 'dream': 469, 'obvious': 470, 'continu': 471, 'order': 472, 'pace': 473, 'ridicul': 474, 'happi': 475, 'highli': 476, 'add': 477, 'group': 478, 'thank': 479, 'ladi': 480, 'novel': 481, 'speak': 482, 'pain': 483, 'career': 484, 'shoot': 485, 'strang': 486, 'heard': 487, 'sad': 488, 'husband': 489, 'polic': 490, 'import': 491, 'break': 492, 'took': 493, 'strong': 494, 'cannot': 495, 'predict': 496, 'robert': 497, 'violenc': 498, 'hilari': 499, 'recent': 500, 'countri': 501, 'known': 502, 'particularli': 503, 'pick': 504, 'documentari': 505, 'season': 506, 'critic': 507, 'jame': 508, 'compar': 509, 'alon': 510, 'obviou': 511, 'told': 512, 'state': 513, 'visual': 514, 'rock': 515, 'exist': 516, 'theater': 517, 'offer': 518, 'opinion': 519, 'gore': 520, 'hold': 521, 'crap': 522, 'result': 523, 'realiti': 524, 'room': 525, 'hear': 526, 'clich': 527, 'effort': 528, 'thriller': 529, 'caus': 530, 'explain': 531, 'sequel': 532, 'serious': 533, 'king': 534, 'local': 535, 'ago': 536, 'none': 537, 'hell': 538, 'note': 539, 'allow': 540, 'david': 541, 'sister': 542, 'simpl': 543, 'femal': 544, 'deliv': 545, 'ok': 546, 'convinc': 547, 'class': 548, 'check': 549, 'suspens': 550, 'win': 551, 'oscar': 552, 'buy': 553, 'huge': 554, 'valu': 555, 'sexual': 556, 'cool': 557, 'scari': 558, 'similar': 559, 'excit': 560, 'apart': 561, 'provid': 562, 'exactli': 563, 'shown': 564, 'avoid': 565, 'seriou': 566, 'english': 567, 'whose': 568, 'taken': 569, 'cinematographi': 570, 'shock': 571, 'polit': 572, 'spoiler': 573, 'offic': 574, 'across': 575, 'middl': 576, 'pass': 577, 'street': 578, 'messag': 579, 'silli': 580, 'somewhat': 581, 'charm': 582, 'modern': 583, 'confus': 584, 'filmmak': 585, 'form': 586, 'tale': 587, 'singl': 588, 'jack': 589, 'mostli': 590, 'attent': 591, 'william': 592, 'carri': 593, 'sing': 594, 'subject': 595, 'five': 596, 'prove': 597, 'richard': 598, 'team': 599, 'stage': 600, 'cop': 601, 'unlik': 602, 'georg': 603, 'televis': 604, 'monster': 605, 'earth': 606, 'villain': 607, 'cover': 608, 'pay': 609, 'marri': 610, 'toward': 611, 'build': 612, 'pull': 613, 'parent': 614, 'due': 615, 'respect': 616, 'fill': 617, 'dialog': 618, 'four': 619, 'remind': 620, 'futur': 621, 'weak': 622, 'typic': 623, '7': 624, 'cheap': 625, 'intellig': 626, 'atmospher': 627, 'british': 628, 'clearli': 629, '80': 630, 'paul': 631, 'non': 632, 'dog': 633, 'knew': 634, 'artist': 635, 'fast': 636, '8': 637, 'crime': 638, 'easili': 639, 'escap': 640, 'adult': 641, 'doubt': 642, 'detail': 643, 'date': 644, 'fire': 645, 'romant': 646, 'member': 647, 'gun': 648, 'drive': 649, 'straight': 650, 'beyond': 651, 'fit': 652, 'attack': 653, 'imag': 654, 'upon': 655, 'posit': 656, 'whether': 657, 'peter': 658, 'fantast': 659, 'appreci': 660, 'captur': 661, 'aspect': 662, 'ten': 663, 'plan': 664, 'discov': 665, 'remain': 666, 'near': 667, 'period': 668, 'realist': 669, 'air': 670, 'mark': 671, 'red': 672, 'dull': 673, 'adapt': 674, 'within': 675, 'lose': 676, 'spend': 677, 'color': 678, 'materi': 679, 'chase': 680, 'mari': 681, 'storylin': 682, 'forget': 683, 'bunch': 684, 'clear': 685, 'lee': 686, 'victim': 687, 'nearli': 688, 'box': 689, 'york': 690, 'match': 691, 'inspir': 692, 'finish': 693, 'mess': 694, 'standard': 695, 'easi': 696, 'truth': 697, 'suffer': 698, 'busi': 699, 'bill': 700, 'space': 701, 'dramat': 702, 'western': 703, 'e': 704, 'list': 705, 'battl': 706, 'notic': 707, 'de': 708, 'french': 709, 'ad': 710, '9': 711, 'tom': 712, 'larg': 713, 'among': 714, 'eventu': 715, 'train': 716, 'accept': 717, 'agre': 718, 'soundtrack': 719, 'spirit': 720, 'third': 721, 'teenag': 722, 'adventur': 723, 'soldier': 724, 'famou': 725, 'sorri': 726, 'suggest': 727, 'drug': 728, 'cri': 729, 'babi': 730, 'normal': 731, 'ultim': 732, 'troubl': 733, 'contain': 734, 'certain': 735, 'cultur': 736, 'romanc': 737, 'rare': 738, 'lame': 739, 'somehow': 740, 'mix': 741, 'disney': 742, 'gone': 743, 'cartoon': 744, 'student': 745, 'reveal': 746, 'fear': 747, 'suck': 748, 'kept': 749, 'attract': 750, 'appeal': 751, 'premis': 752, 'design': 753, 'greatest': 754, 'secret': 755, 'shame': 756, 'throw': 757, 'copi': 758, 'scare': 759, 'wit': 760, 'america': 761, 'admit': 762, 'particular': 763, 'relat': 764, 'brought': 765, 'screenplay': 766, 'whatev': 767, 'pure': 768, '70': 769, 'averag': 770, 'harri': 771, 'master': 772, 'describ': 773, 'treat': 774, 'male': 775, '20': 776, 'fantasi': 777, 'issu': 778, 'warn': 779, 'inde': 780, 'background': 781, 'forward': 782, 'free': 783, 'project': 784, 'memor': 785, 'japanes': 786, 'poorli': 787, 'award': 788, 'locat': 789, 'amus': 790, 'potenti': 791, 'struggl': 792, 'magic': 793, 'weird': 794, 'societi': 795, 'okay': 796, 'doctor': 797, 'imdb': 798, 'accent': 799, 'water': 800, 'hot': 801, 'express': 802, 'dr': 803, '30': 804, 'alien': 805, 'odd': 806, 'crazi': 807, 'choic': 808, 'fiction': 809, 'studio': 810, 'control': 811, 'becam': 812, 'masterpiec': 813, 'difficult': 814, 'fli': 815, 'joe': 816, 'scream': 817, 'costum': 818, 'lover': 819, 'refer': 820, 'uniqu': 821, 'remak': 822, 'girlfriend': 823, 'vampir': 824, 'prison': 825, 'execut': 826, 'wear': 827, 'jump': 828, 'wood': 829, 'unless': 830, 'creepi': 831, 'cheesi': 832, 'superb': 833, 'otherwis': 834, 'parti': 835, 'roll': 836, 'ghost': 837, 'mad': 838, 'public': 839, 'depict': 840, 'moral': 841, 'earlier': 842, 'jane': 843, 'week': 844, 'badli': 845, 'fi': 846, 'dumb': 847, 'flaw': 848, 'grow': 849, 'deep': 850, 'sci': 851, 'maker': 852, 'cat': 853, 'footag': 854, 'older': 855, 'connect': 856, 'plenti': 857, 'bother': 858, 'outsid': 859, 'stick': 860, 'gay': 861, 'catch': 862, 'co': 863, 'plu': 864, 'popular': 865, 'equal': 866, 'social': 867, 'disturb': 868, 'quickli': 869, 'perfectli': 870, 'dress': 871, 'era': 872, '90': 873, 'mistak': 874, 'lie': 875, 'ride': 876, 'previou': 877, 'combin': 878, 'band': 879, 'concept': 880, 'rich': 881, 'surviv': 882, 'answer': 883, 'front': 884, 'sweet': 885, 'christma': 886, 'insid': 887, 'concern': 888, 'bare': 889, 'eat': 890, 'beat': 891, 'ben': 892, 'listen': 893, 'c': 894, 'term': 895, 'serv': 896, 'la': 897, 'meant': 898, 'german': 899, 'stereotyp': 900, 'hardli': 901, 'law': 902, 'innoc': 903, 'desper': 904, 'memori': 905, 'promis': 906, 'intent': 907, 'cute': 908, 'inform': 909, 'steal': 910, 'variou': 911, 'brain': 912, 'post': 913, 'tone': 914, 'island': 915, 'amount': 916, 'track': 917, 'compani': 918, 'nuditi': 919, 'store': 920, 'claim': 921, 'flat': 922, '50': 923, 'hair': 924, 'land': 925, 'univers': 926, 'kick': 927, 'scott': 928, 'fairli': 929, 'danger': 930, 'player': 931, 'step': 932, 'plain': 933, 'crew': 934, 'toni': 935, 'share': 936, 'tast': 937, 'centuri': 938, 'achiev': 939, 'engag': 940, 'cold': 941, 'travel': 942, 'rip': 943, 'suit': 944, 'record': 945, 'sadli': 946, 'manner': 947, 'spot': 948, 'wrote': 949, 'tension': 950, 'fascin': 951, 'intens': 952, 'familiar': 953, 'burn': 954, 'depth': 955, 'remark': 956, 'histor': 957, 'destroy': 958, 'sleep': 959, 'purpos': 960, 'languag': 961, 'ignor': 962, 'ruin': 963, 'delight': 964, 'unbeliev': 965, 'italian': 966, 'abil': 967, 'collect': 968, 'soul': 969, 'clever': 970, 'detect': 971, 'violent': 972, 'rape': 973, 'reach': 974, 'door': 975, 'liter': 976, 'scienc': 977, 'trash': 978, 'commun': 979, 'caught': 980, 'reveng': 981, 'creatur': 982, 'trip': 983, 'approach': 984, 'fashion': 985, 'intrigu': 986, 'skill': 987, 'paint': 988, 'introduc': 989, 'channel': 990, 'complex': 991, 'camp': 992, 'christian': 993, 'hole': 994, 'extra': 995, 'limit': 996, 'ann': 997, 'mental': 998, 'immedi': 999, 'mere': 1000, 'million': 1001, 'comput': 1002, '6': 1003, 'slightli': 1004, 'conclus': 1005, 'slasher': 1006, 'suddenli': 1007, 'imposs': 1008, 'crimin': 1009, 'neither': 1010, 'teen': 1011, 'spent': 1012, 'nation': 1013, 'physic': 1014, 'respons': 1015, 'planet': 1016, 'receiv': 1017, 'fake': 1018, 'sick': 1019, 'blue': 1020, 'bizarr': 1021, 'embarrass': 1022, 'indian': 1023, '15': 1024, 'ring': 1025, 'drop': 1026, 'pop': 1027, 'drag': 1028, 'haunt': 1029, 'suspect': 1030, 'pointless': 1031, 'search': 1032, 'edg': 1033, 'handl': 1034, 'common': 1035, 'biggest': 1036, 'arriv': 1037, 'hurt': 1038, 'faith': 1039, 'technic': 1040, 'angel': 1041, 'genuin': 1042, 'dad': 1043, 'f': 1044, 'solid': 1045, 'awesom': 1046, 'focu': 1047, 'former': 1048, 'van': 1049, 'colleg': 1050, 'count': 1051, 'tear': 1052, 'heavi': 1053, 'rais': 1054, 'wall': 1055, 'laughabl': 1056, 'visit': 1057, 'younger': 1058, 'fair': 1059, 'sign': 1060, 'excus': 1061, 'cult': 1062, 'tough': 1063, 'key': 1064, 'motion': 1065, 'super': 1066, 'desir': 1067, 'addit': 1068, 'stun': 1069, 'cloth': 1070, 'exploit': 1071, 'smith': 1072, 'tortur': 1073, 'davi': 1074, 'race': 1075, 'cross': 1076, 'author': 1077, 'jim': 1078, 'minor': 1079, 'compel': 1080, 'consist': 1081, 'focus': 1082, 'commit': 1083, 'pathet': 1084, 'chemistri': 1085, 'park': 1086, 'tradit': 1087, 'obsess': 1088, 'frank': 1089, 'grade': 1090, '60': 1091, 'asid': 1092, 'brutal': 1093, 'somewher': 1094, 'steve': 1095, 'explor': 1096, 'rule': 1097, 'u': 1098, 'opportun': 1099, 'grant': 1100, 'depress': 1101, 'honest': 1102, 'besid': 1103, 'anti': 1104, 'dub': 1105, 'trailer': 1106, 'intend': 1107, 'bar': 1108, 'west': 1109, 'longer': 1110, 'scientist': 1111, 'regard': 1112, 'decad': 1113, 'judg': 1114, 'silent': 1115, 'armi': 1116, 'creativ': 1117, 'wild': 1118, 'g': 1119, 'south': 1120, 'stewart': 1121, 'draw': 1122, 'road': 1123, 'govern': 1124, 'ex': 1125, 'boss': 1126, 'practic': 1127, 'club': 1128, 'festiv': 1129, 'surprisingli': 1130, 'motiv': 1131, 'gang': 1132, 'redeem': 1133, 'london': 1134, 'green': 1135, 'page': 1136, 'machin': 1137, 'display': 1138, 'idiot': 1139, 'militari': 1140, 'aliv': 1141, 'thrill': 1142, 'repeat': 1143, 'folk': 1144, '100': 1145, 'yeah': 1146, 'nobodi': 1147, '40': 1148, 'journey': 1149, 'garbag': 1150, 'smile': 1151, 'tire': 1152, 'ground': 1153, 'mood': 1154, 'bought': 1155, 'cost': 1156, 'sam': 1157, 'stone': 1158, 'mouth': 1159, 'noir': 1160, 'terrif': 1161, 'agent': 1162, 'requir': 1163, 'utterli': 1164, 'area': 1165, 'sexi': 1166, 'honestli': 1167, 'report': 1168, 'geniu': 1169, 'humour': 1170, 'enter': 1171, 'investig': 1172, 'glad': 1173, 'serial': 1174, 'occasion': 1175, 'narr': 1176, 'passion': 1177, 'marriag': 1178, 'climax': 1179, 'studi': 1180, 'industri': 1181, 'center': 1182, 'nowher': 1183, 'ship': 1184, 'demon': 1185, 'charli': 1186, 'bear': 1187, 'hors': 1188, 'loos': 1189, 'hang': 1190, 'wow': 1191, 'graphic': 1192, 'giant': 1193, 'admir': 1194, 'send': 1195, 'loud': 1196, 'damn': 1197, 'rel': 1198, 'subtl': 1199, 'profession': 1200, 'nake': 1201, 'blow': 1202, 'bottom': 1203, 'batman': 1204, 'insult': 1205, 'doubl': 1206, 'r': 1207, 'kelli': 1208, 'boyfriend': 1209, 'initi': 1210, 'frame': 1211, 'gem': 1212, 'opera': 1213, 'drawn': 1214, 'cinemat': 1215, 'challeng': 1216, 'affect': 1217, 'church': 1218, 'evid': 1219, 'j': 1220, 'fulli': 1221, 'seek': 1222, 'nightmar': 1223, 'l': 1224, 'arm': 1225, 'essenti': 1226, 'conflict': 1227, 'wind': 1228, 'grace': 1229, 'christoph': 1230, 'henri': 1231, 'narrat': 1232, 'witch': 1233, 'assum': 1234, 'hunt': 1235, 'push': 1236, 'wise': 1237, 'chri': 1238, 'repres': 1239, 'month': 1240, 'nomin': 1241, 'affair': 1242, 'sceneri': 1243, 'hide': 1244, 'avail': 1245, 'thu': 1246, 'bond': 1247, 'smart': 1248, 'justic': 1249, 'flashback': 1250, 'interview': 1251, 'outstand': 1252, 'satisfi': 1253, 'presenc': 1254, 'constantli': 1255, 'central': 1256, 'bed': 1257, 'sell': 1258, 'iron': 1259, 'content': 1260, 'everybodi': 1261, 'gag': 1262, 'hotel': 1263, 'slowli': 1264, 'hire': 1265, 'system': 1266, 'individu': 1267, 'thrown': 1268, 'hey': 1269, 'charl': 1270, 'adam': 1271, 'mediocr': 1272, 'jone': 1273, 'allen': 1274, 'ray': 1275, 'lesson': 1276, 'billi': 1277, 'cameo': 1278, 'photographi': 1279, 'pari': 1280, 'fellow': 1281, 'strike': 1282, 'independ': 1283, 'absurd': 1284, 'rise': 1285, 'brief': 1286, 'neg': 1287, 'impact': 1288, 'phone': 1289, 'model': 1290, 'born': 1291, 'ill': 1292, 'spoil': 1293, 'angl': 1294, 'fresh': 1295, 'abus': 1296, 'likabl': 1297, 'hill': 1298, 'discuss': 1299, 'sight': 1300, 'ahead': 1301, 'photograph': 1302, 'sent': 1303, 'occur': 1304, 'shine': 1305, 'blame': 1306, 'logic': 1307, 'bruce': 1308, 'mainli': 1309, 'commerci': 1310, 'forev': 1311, 'skip': 1312, 'held': 1313, 'teacher': 1314, 'surround': 1315, 'segment': 1316, 'blond': 1317, 'zero': 1318, 'satir': 1319, 'trap': 1320, 'summer': 1321, 'resembl': 1322, 'ball': 1323, 'six': 1324, 'queen': 1325, 'fool': 1326, 'twice': 1327, 'tragedi': 1328, 'sub': 1329, 'reaction': 1330, 'pack': 1331, 'bomb': 1332, 'will': 1333, 'protagonist': 1334, 'hospit': 1335, 'mile': 1336, 'sport': 1337, 'drink': 1338, 'mom': 1339, 'trust': 1340, 'vote': 1341, 'jerri': 1342, 'encount': 1343, 'plane': 1344, 'program': 1345, 'al': 1346, 'station': 1347, 'current': 1348, 'choos': 1349, 'celebr': 1350, 'martin': 1351, 'join': 1352, 'lord': 1353, 'round': 1354, 'field': 1355, 'favourit': 1356, 'tragic': 1357, 'vision': 1358, 'robot': 1359, 'jean': 1360, 'tie': 1361, 'arthur': 1362, 'fortun': 1363, 'roger': 1364, 'random': 1365, 'intern': 1366, 'dread': 1367, 'psycholog': 1368, 'nonsens': 1369, 'epic': 1370, 'improv': 1371, 'prefer': 1372, 'pleasur': 1373, 'highlight': 1374, 'formula': 1375, 'legend': 1376, '11': 1377, 'dollar': 1378, 'tape': 1379, 'object': 1380, 'wide': 1381, 'fox': 1382, 'gorgeou': 1383, 'thin': 1384, 'porn': 1385, 'influenc': 1386, 'buddi': 1387, 'ugli': 1388, 'prepar': 1389, 'ii': 1390, 'nasti': 1391, 'supposedli': 1392, 'reflect': 1393, 'warm': 1394, 'progress': 1395, 'youth': 1396, 'worthi': 1397, 'latter': 1398, 'unusu': 1399, 'length': 1400, 'crash': 1401, 'shop': 1402, 'superior': 1403, 'childhood': 1404, 'seven': 1405, 'theatr': 1406, 'remot': 1407, 'funniest': 1408, 'pilot': 1409, 'disgust': 1410, 'paid': 1411, 'fell': 1412, 'castl': 1413, 'trick': 1414, 'convers': 1415, 'disast': 1416, 'establish': 1417, 'gangster': 1418, 'rob': 1419, 'disappear': 1420, 'ident': 1421, 'heaven': 1422, 'mine': 1423, 'suicid': 1424, 'heroin': 1425, 'tend': 1426, 'forgotten': 1427, 'decis': 1428, 'mask': 1429, 'singer': 1430, 'partner': 1431, 'brian': 1432, 'recogn': 1433, 'alan': 1434, 'desert': 1435, 'thoroughli': 1436, 'sky': 1437, 'p': 1438, 'ms': 1439, 'stuck': 1440, 'replac': 1441, 'accur': 1442, 'market': 1443, 'commentari': 1444, 'clue': 1445, 'seemingli': 1446, 'uncl': 1447, 'andi': 1448, 'eddi': 1449, 'danni': 1450, 'devil': 1451, 'jackson': 1452, 'pair': 1453, 'refus': 1454, 'that': 1455, 'therefor': 1456, 'river': 1457, 'ed': 1458, 'fate': 1459, 'accid': 1460, 'fault': 1461, 'unit': 1462, 'afraid': 1463, 'tune': 1464, 'stephen': 1465, 'clean': 1466, 'russian': 1467, 'hidden': 1468, 'instanc': 1469, 'irrit': 1470, 'convey': 1471, 'test': 1472, 'captain': 1473, 'readi': 1474, 'quick': 1475, 'european': 1476, 'frustrat': 1477, 'insan': 1478, 'daniel': 1479, 'chines': 1480, 'food': 1481, '1950': 1482, 'wed': 1483, 'rescu': 1484, 'angri': 1485, 'lock': 1486, 'dirti': 1487, 'joy': 1488, 'price': 1489, 'steven': 1490, 'cage': 1491, 'bland': 1492, 'anymor': 1493, 'rang': 1494, 'wooden': 1495, 'rush': 1496, 'jason': 1497, 'news': 1498, 'n': 1499, 'led': 1500, 'martial': 1501, 'worri': 1502, 'board': 1503, '12': 1504, 'twenti': 1505, 'cgi': 1506, 'symbol': 1507, 'transform': 1508, 'hunter': 1509, 'invent': 1510, 'x': 1511, 'onto': 1512, 'johnni': 1513, 'sentiment': 1514, 'piti': 1515, 'explan': 1516, 'attitud': 1517, 'process': 1518, 'owner': 1519, 'awar': 1520, 'aim': 1521, 'target': 1522, 'necessari': 1523, 'energi': 1524, 'favor': 1525, 'floor': 1526, 'opposit': 1527, 'religi': 1528, 'insight': 1529, 'window': 1530, 'blind': 1531, 'chick': 1532, 'movement': 1533, 'deepli': 1534, 'research': 1535, 'comparison': 1536, 'mountain': 1537, 'possess': 1538, 'comed': 1539, 'whatsoev': 1540, 'rain': 1541, 'grand': 1542, 'began': 1543, 'shadow': 1544, 'mid': 1545, 'bank': 1546, 'parodi': 1547, 'princ': 1548, 'taylor': 1549, 'weapon': 1550, 'friendship': 1551, 'pre': 1552, 'credibl': 1553, 'dougla': 1554, 'teach': 1555, 'flesh': 1556, 'bloodi': 1557, 'terror': 1558, 'hint': 1559, 'protect': 1560, 'marvel': 1561, 'accord': 1562, 'drunk': 1563, 'load': 1564, 'superman': 1565, 'leader': 1566, 'anybodi': 1567, 'watchabl': 1568, 'freddi': 1569, 'brown': 1570, 'tim': 1571, 'seat': 1572, 'jeff': 1573, 'appropri': 1574, 'hitler': 1575, 'charg': 1576, 'unknown': 1577, 'keaton': 1578, 'knock': 1579, 'villag': 1580, 'empti': 1581, 'england': 1582, 'media': 1583, 'enemi': 1584, 'unnecessari': 1585, 'utter': 1586, 'craft': 1587, 'buck': 1588, 'dare': 1589, 'strength': 1590, 'wave': 1591, 'perspect': 1592, 'nativ': 1593, 'kiss': 1594, 'ford': 1595, 'correct': 1596, 'contrast': 1597, 'chill': 1598, 'magnific': 1599, 'distract': 1600, 'speed': 1601, 'knowledg': 1602, 'soap': 1603, 'nazi': 1604, 'anywher': 1605, 'mission': 1606, 'ice': 1607, '1980': 1608, 'fred': 1609, 'breath': 1610, 'joan': 1611, 'moon': 1612, 'crowd': 1613, 'jr': 1614, '000': 1615, 'soft': 1616, 'kate': 1617, 'frighten': 1618, 'dan': 1619, 'dick': 1620, 'nick': 1621, 'hundr': 1622, 'somebodi': 1623, 'radio': 1624, 'simon': 1625, 'dozen': 1626, 'academi': 1627, 'andrew': 1628, 'shakespear': 1629, 'thousand': 1630, 'loss': 1631, 'account': 1632, 'root': 1633, 'vehicl': 1634, 'sum': 1635, 'quot': 1636, '1970': 1637, 'leg': 1638, 'behavior': 1639, 'convent': 1640, 'regular': 1641, 'gold': 1642, 'worker': 1643, 'compet': 1644, 'demand': 1645, 'pretenti': 1646, 'stretch': 1647, 'lynch': 1648, 'privat': 1649, 'explos': 1650, 'notabl': 1651, 'candi': 1652, 'interpret': 1653, 'japan': 1654, 'debut': 1655, 'constant': 1656, 'tarzan': 1657, 'revolv': 1658, 'prais': 1659, 'spi': 1660, 'sea': 1661, 'translat': 1662, 'failur': 1663, 'franc': 1664, 'ass': 1665, 'threaten': 1666, 'technolog': 1667, 'sat': 1668, 'jesu': 1669, 'quiet': 1670, 'kevin': 1671, 'higher': 1672, 'aid': 1673, 'toy': 1674, 'met': 1675, 'punch': 1676, 'vh': 1677, 'abandon': 1678, 'interact': 1679, 'mike': 1680, 'separ': 1681, 'confront': 1682, 'bet': 1683, 'command': 1684, 'belong': 1685, 'gotten': 1686, 'site': 1687, 'servic': 1688, 'recal': 1689, 'techniqu': 1690, 'stunt': 1691, 'freak': 1692, 'bug': 1693, 'cabl': 1694, 'foot': 1695, 'african': 1696, 'fu': 1697, 'capabl': 1698, 'bright': 1699, 'jimmi': 1700, 'succeed': 1701, 'clark': 1702, 'presid': 1703, 'fat': 1704, 'stock': 1705, 'boat': 1706, 'spanish': 1707, 'structur': 1708, 'gene': 1709, 'paper': 1710, 'kidnap': 1711, 'factor': 1712, 'whilst': 1713, 'belief': 1714, 'witti': 1715, 'realism': 1716, 'educ': 1717, 'attend': 1718, 'realis': 1719, 'tree': 1720, 'bob': 1721, 'complic': 1722, 'assist': 1723, 'broken': 1724, 'finest': 1725, 'santa': 1726, 'depart': 1727, 'observ': 1728, 'determin': 1729, 'v': 1730, 'up': 1731, 'smoke': 1732, 'fame': 1733, 'domin': 1734, 'rubbish': 1735, 'routin': 1736, 'hat': 1737, 'oper': 1738, 'lewi': 1739, 'foreign': 1740, 'safe': 1741, 'kinda': 1742, 'hook': 1743, 'morgan': 1744, 'lone': 1745, 'advanc': 1746, 'rank': 1747, 'numer': 1748, 'civil': 1749, 'werewolf': 1750, 'rose': 1751, 'shallow': 1752, 'vs': 1753, 'shape': 1754, 'washington': 1755, 'morn': 1756, 'gari': 1757, 'winner': 1758, 'kong': 1759, 'accomplish': 1760, 'ordinari': 1761, 'peac': 1762, 'virtual': 1763, 'grab': 1764, 'whenev': 1765, 'offens': 1766, 'h': 1767, 'luck': 1768, 'bigger': 1769, 'welcom': 1770, 'complain': 1771, 'contriv': 1772, 'patient': 1773, 'unfunni': 1774, 'activ': 1775, 'pretend': 1776, 'con': 1777, 'trek': 1778, 'dimension': 1779, 'dri': 1780, 'cain': 1781, 'wake': 1782, 'flash': 1783, 'lesbian': 1784, 'eric': 1785, 'code': 1786, 'manipul': 1787, 'corrupt': 1788, 'guard': 1789, 'dancer': 1790, 'statu': 1791, 'albert': 1792, 'context': 1793, 'sourc': 1794, 'gain': 1795, 'awkward': 1796, 'speech': 1797, 'signific': 1798, 'clip': 1799, 'anthoni': 1800, 'corni': 1801, '13': 1802, 'psycho': 1803, 'sean': 1804, 'religion': 1805, 'curiou': 1806, 'reli': 1807, 'advic': 1808, 'w': 1809, 'theatric': 1810, 'priest': 1811, 'addict': 1812, 'flow': 1813, 'skin': 1814, 'secur': 1815, 'asian': 1816, 'jennif': 1817, 'howard': 1818, 'specif': 1819, 'organ': 1820, 'comfort': 1821, 'core': 1822, 'promot': 1823, 'luke': 1824, 'golden': 1825, 'lucki': 1826, 'cheat': 1827, 'cash': 1828, 'dislik': 1829, 'lower': 1830, 'associ': 1831, 'spell': 1832, 'devic': 1833, 'contribut': 1834, 'degre': 1835, 'frequent': 1836, 'balanc': 1837, 'wing': 1838, 'regret': 1839, 'frankli': 1840, 'print': 1841, 'sake': 1842, 'lake': 1843, 'forgiv': 1844, 'mass': 1845, 'thoma': 1846, 'betti': 1847, 'unexpect': 1848, 'crack': 1849, 'gordon': 1850, 'grown': 1851, 'depend': 1852, 'categori': 1853, 'construct': 1854, 'unfold': 1855, 'amateur': 1856, 'invit': 1857, 'intellectu': 1858, 'anna': 1859, 'grew': 1860, 'condit': 1861, 'matur': 1862, 'walter': 1863, 'honor': 1864, 'sudden': 1865, 'veteran': 1866, 'spectacular': 1867, 'sole': 1868, 'mirror': 1869, 'demonstr': 1870, 'liner': 1871, 'experienc': 1872, 'gift': 1873, 'card': 1874, 'robin': 1875, 'grip': 1876, 'meanwhil': 1877, 'freedom': 1878, 'overli': 1879, 'circumst': 1880, 'drew': 1881, 'theori': 1882, 'brilliantli': 1883, 'oliv': 1884, 'crappi': 1885, 'subtitl': 1886, 'colour': 1887, 'sheriff': 1888, 'unabl': 1889, 'section': 1890, 'sheer': 1891, 'path': 1892, 'matt': 1893, 'laughter': 1894, 'altern': 1895, 'cook': 1896, 'pile': 1897, 'parker': 1898, 'lawyer': 1899, 'accident': 1900, 'hall': 1901, 'wander': 1902, 'defin': 1903, 'sinatra': 1904, 'treatment': 1905, 'relief': 1906, 'captiv': 1907, 'dragon': 1908, 'hank': 1909, 'gratuit': 1910, 'halloween': 1911, 'moor': 1912, 'broadway': 1913, 'kung': 1914, 'jacki': 1915, 'unintent': 1916, 'wound': 1917, 'wayn': 1918, 'k': 1919, 'cowboy': 1920, 'barbara': 1921, 'spoof': 1922, 'canadian': 1923, 'surreal': 1924, 'winter': 1925, 'statement': 1926, 'gonna': 1927, 'cheer': 1928, 'fish': 1929, 'fare': 1930, 'compos': 1931, 'treasur': 1932, 'sensit': 1933, 'unrealist': 1934, 'emerg': 1935, 'victor': 1936, 'woodi': 1937, 'sympathet': 1938, 'ran': 1939, 'driven': 1940, 'neighbor': 1941, 'overlook': 1942, 'menac': 1943, 'glass': 1944, 'authent': 1945, 'topic': 1946, 'expos': 1947, 'chief': 1948, 'ancient': 1949, 'gross': 1950, 'michel': 1951, 'handsom': 1952, 'built': 1953, 'pleasant': 1954, 'stranger': 1955, 'comedian': 1956, 'contemporari': 1957, 'nevertheless': 1958, 'russel': 1959, 'network': 1960, 'cinderella': 1961, 'feet': 1962, 'blockbust': 1963, 'earn': 1964, 'underr': 1965, 'endless': 1966, 'consider': 1967, 'miser': 1968, 'letter': 1969, 'gori': 1970, 'switch': 1971, 'solv': 1972, 'brook': 1973, 'convict': 1974, 'virgin': 1975, 'edward': 1976, 'joseph': 1977, 'victoria': 1978, 'bullet': 1979, 'scenario': 1980, 'chosen': 1981, '0': 1982, 'alex': 1983, 'cynic': 1984, 'scale': 1985, 'curs': 1986, 'gut': 1987, 'outrag': 1988, 'sword': 1989, 'com': 1990, 'monkey': 1991, 'screenwrit': 1992, 'driver': 1993, 'substanc': 1994, 'proper': 1995, 'wrap': 1996, 'uk': 1997, 'juli': 1998, 'par': 1999, 'bird': 2000, 'remov': 2001, 'court': 2002, 'indic': 2003, 'inevit': 2004, 'rental': 2005, 'nanci': 2006, 'grave': 2007, 'roy': 2008, 'naiv': 2009, 'advertis': 2010, 'loser': 2011, 'consequ': 2012, 'le': 2013, 'invis': 2014, 'bridg': 2015, 'brave': 2016, 'slap': 2017, 'germani': 2018, 'fatal': 2019, 'footbal': 2020, 'provok': 2021, 'anger': 2022, 'loui': 2023, 'ador': 2024, 'alcohol': 2025, 'chan': 2026, 'anderson': 2027, 'willi': 2028, 'stumbl': 2029, 'ryan': 2030, 'professor': 2031, 'sharp': 2032, 'assassin': 2033, 'bat': 2034, '1930': 2035, 'australian': 2036, 'patrick': 2037, 'ape': 2038, 'deni': 2039, 'strongli': 2040, 'saturday': 2041, 'trilog': 2042, 'lousi': 2043, 'liber': 2044, 'cell': 2045, 'heck': 2046, 'amateurish': 2047, 'eight': 2048, 'refresh': 2049, 'sin': 2050, 'resid': 2051, 'san': 2052, 'vagu': 2053, 'justifi': 2054, 'defeat': 2055, 'creator': 2056, 'sympathi': 2057, 'terrifi': 2058, 'reput': 2059, 'mini': 2060, 'indi': 2061, 'endur': 2062, 'tediou': 2063, 'task': 2064, 'expert': 2065, 'tabl': 2066, 'prevent': 2067, 'basebal': 2068, 'trial': 2069, 'rival': 2070, 'imit': 2071, 'offend': 2072, 'employ': 2073, 'che': 2074, 'fairi': 2075, 'complaint': 2076, 'max': 2077, 'weekend': 2078, 'beach': 2079, 'dig': 2080, 'pitch': 2081, 'europ': 2082, 'format': 2083, 'risk': 2084, 'murphi': 2085, 'purchas': 2086, 'harsh': 2087, 'nois': 2088, 'reminisc': 2089, 'glimps': 2090, 'bite': 2091, 'tini': 2092, 'hype': 2093, 'titan': 2094, 'powel': 2095, 'north': 2096, '14': 2097, 'strip': 2098, 'asleep': 2099, 'fals': 2100, 'prime': 2101, 'till': 2102, 'destruct': 2103, 'descript': 2104, 'africa': 2105, 'revel': 2106, 'texa': 2107, 'surfac': 2108, 'inner': 2109, 'spin': 2110, 'arrest': 2111, 'sitcom': 2112, 'semi': 2113, 'uninterest': 2114, 'excess': 2115, 'maintain': 2116, 'hitchcock': 2117, 'makeup': 2118, 'twin': 2119, 'dinosaur': 2120, 'controversi': 2121, 'argu': 2122, 'massiv': 2123, 'expens': 2124, 'ludicr': 2125, 'insist': 2126, 'kim': 2127, 'ideal': 2128, 'reject': 2129, 'stare': 2130, 'melodrama': 2131, 'atroci': 2132, 'erot': 2133, 'host': 2134, 'ala': 2135, 'nail': 2136, 'subplot': 2137, 'ga': 2138, 'forest': 2139, 'supernatur': 2140, 'columbo': 2141, 'press': 2142, 'notch': 2143, 'identifi': 2144, 'presum': 2145, 'cant': 2146, 'dude': 2147, 'method': 2148, 'plagu': 2149, 'closer': 2150, 'guest': 2151, 'character': 2152, 'forgett': 2153, 'crude': 2154, 'beast': 2155, 'border': 2156, 'landscap': 2157, 'ear': 2158, 'lion': 2159, 'foster': 2160, 'princess': 2161, 'jungl': 2162, 'pacino': 2163, 'birth': 2164, 'storytel': 2165, 'previous': 2166, 'damag': 2167, 'urban': 2168, 'aunt': 2169, 'bound': 2170, 'accus': 2171, 'nude': 2172, 'thirti': 2173, 'propaganda': 2174, 'emma': 2175, 'guid': 2176, 'jess': 2177, 'doll': 2178, 'chose': 2179, 'mate': 2180, 'mainstream': 2181, 'warrior': 2182, '25': 2183, 'whoever': 2184, 'pet': 2185, 'poster': 2186, 'gritti': 2187, 'deadli': 2188, 'cooper': 2189, 'friday': 2190, 'upset': 2191, 'merit': 2192, 'latest': 2193, 'exact': 2194, 'size': 2195, 'buff': 2196, 'blend': 2197, 'rough': 2198, 'ton': 2199, 'settl': 2200, 'sun': 2201, '1990': 2202, 'wilson': 2203, 'contact': 2204, 'contest': 2205, 'citizen': 2206, 'warner': 2207, 'popul': 2208, 'corps': 2209, 'environ': 2210, 'alic': 2211, 'pitt': 2212, 'metal': 2213, 'rat': 2214, 'overcom': 2215, 'mgm': 2216, 'select': 2217, 'widow': 2218, 'bu': 2219, 'revolut': 2220, 'particip': 2221, 'link': 2222, 'ted': 2223, 'lift': 2224, 'guilti': 2225, 'exagger': 2226, 'johnson': 2227, 'corner': 2228, 'corpor': 2229, 'moron': 2230, 'accompani': 2231, '1960': 2232, 'matrix': 2233, 'afternoon': 2234, 'prostitut': 2235, 'clair': 2236, 'friendli': 2237, 'leagu': 2238, 'instal': 2239, 'holm': 2240, 'sincer': 2241, 'hood': 2242, 'doom': 2243, 'multipl': 2244, 'examin': 2245, 'aka': 2246, 'defend': 2247, 'advis': 2248, 'hip': 2249, 'grim': 2250, 'irish': 2251, 'lugosi': 2252, 'junk': 2253, 'sunday': 2254, 'string': 2255, 'campi': 2256, 'blah': 2257, 'icon': 2258, 'pro': 2259, 'varieti': 2260, 'shake': 2261, 'rachel': 2262, 'shut': 2263, 'confid': 2264, 'tight': 2265, 'jaw': 2266, 'attach': 2267, 'mexican': 2268, 'medic': 2269, 'denni': 2270, 'goal': 2271, 'sullivan': 2272, 'directli': 2273, 'sarah': 2274, 'prior': 2275, 'bourn': 2276, 'legendari': 2277, 'courag': 2278, 'vietnam': 2279, 'dean': 2280, 'terrorist': 2281, 'breast': 2282, 'duke': 2283, 'sentenc': 2284, 'truck': 2285, 'proceed': 2286, 'hong': 2287, 'entri': 2288, 'behav': 2289, 'un': 2290, 'yell': 2291, 'split': 2292, 'nose': 2293, 'donald': 2294, 'stolen': 2295, 'everywher': 2296, 'buri': 2297, 'gather': 2298, 'borrow': 2299, 'crush': 2300, 'forth': 2301, 'unconvinc': 2302, 'concentr': 2303, 'lifetim': 2304, 'jerk': 2305, 'confess': 2306, 'swim': 2307, 'spite': 2308, 'turkey': 2309, 'pan': 2310, 'lip': 2311, 'california': 2312, 'deliveri': 2313, 'julia': 2314, 'china': 2315, 'downright': 2316, 'offici': 2317, 'quest': 2318, 'proud': 2319, 'freeman': 2320, 'hoffman': 2321, 'reward': 2322, 'flight': 2323, 'encourag': 2324, 'betray': 2325, 'sink': 2326, 'jail': 2327, 'inept': 2328, 'notori': 2329, 'lazi': 2330, 'fade': 2331, 'worthwhil': 2332, 'fabul': 2333, 'jon': 2334, 'sir': 2335, 'bag': 2336, 'storm': 2337, 'survivor': 2338, 'retard': 2339, 'susan': 2340, 'cousin': 2341, 'imageri': 2342, 'lisa': 2343, 'relev': 2344, 'shower': 2345, 'branagh': 2346, 'teeth': 2347, 'bell': 2348, 'facial': 2349, 'mexico': 2350, 'trade': 2351, 'stab': 2352, 'toler': 2353, 'quirki': 2354, 'alright': 2355, 'summari': 2356, 'tremend': 2357, 'shark': 2358, 'hugh': 2359, 'finger': 2360, 'bride': 2361, 'hyster': 2362, 'ha': 2363, 'pose': 2364, 'blown': 2365, 'bitter': 2366, 'von': 2367, 'bone': 2368, 'afterward': 2369, 'cruel': 2370, 'larri': 2371, 'ned': 2372, 'address': 2373, 'scheme': 2374, 'christ': 2375, 'ron': 2376, 'tour': 2377, 'distinct': 2378, 'feed': 2379, 'beg': 2380, 'swear': 2381, 'snake': 2382, 'screw': 2383, 'traci': 2384, 'pursu': 2385, 'thumb': 2386, 'photo': 2387, 'raw': 2388, 'mechan': 2389, 'stomach': 2390, 'occas': 2391, 'chair': 2392, 'obscur': 2393, 'necessarili': 2394, 'heavili': 2395, 'argument': 2396, 'resist': 2397, 'render': 2398, 'southern': 2399, 'holiday': 2400, 'gruesom': 2401, 'chain': 2402, 'cabin': 2403, 'hardi': 2404, 'sidney': 2405, 'india': 2406, 'satan': 2407, 'racist': 2408, 'understood': 2409, 'philip': 2410, 'indulg': 2411, 'belov': 2412, 'integr': 2413, 'obnoxi': 2414, 'tongu': 2415, 'lay': 2416, 'stalk': 2417, 'outfit': 2418, 'midnight': 2419, 'pregnant': 2420, 'forgot': 2421, 'fourth': 2422, 'garden': 2423, 'restor': 2424, 'ticket': 2425, 'deeper': 2426, 'magazin': 2427, 'slapstick': 2428, '17': 2429, 'inhabit': 2430, 'carol': 2431, 'devot': 2432, 'brad': 2433, 'incid': 2434, 'shoe': 2435, 'lincoln': 2436, 'divorc': 2437, 'benefit': 2438, 'disbelief': 2439, 'guarante': 2440, 'underground': 2441, 'anticip': 2442, 'lili': 2443, 'maria': 2444, 'elizabeth': 2445, 'sandler': 2446, 'slave': 2447, 'explod': 2448, 'princip': 2449, 'amazingli': 2450, 'mildli': 2451, 'creation': 2452, 'bbc': 2453, 'capit': 2454, 'cring': 2455, 'greater': 2456, 'introduct': 2457, 'lesli': 2458, 'extraordinari': 2459, 'funnier': 2460, 'halfway': 2461, 'wreck': 2462, 'enhanc': 2463, 'text': 2464, 'overwhelm': 2465, 'extent': 2466, 'advantag': 2467, 'transfer': 2468, 'punish': 2469, 'tap': 2470, 'lane': 2471, 'error': 2472, 'horrif': 2473, 'preview': 2474, 'lo': 2475, 'deliber': 2476, 'dynam': 2477, 'jessica': 2478, 'east': 2479, 'plant': 2480, 'basi': 2481, 'vacat': 2482, 'sophist': 2483, 'homosexu': 2484, 'miller': 2485, 'appli': 2486, 'vincent': 2487, '2000': 2488, 'miscast': 2489, 'ensu': 2490, 'mansion': 2491, 'via': 2492, 'reed': 2493, 'elev': 2494, 'extend': 2495, 'spoken': 2496, 'measur': 2497, 'sleazi': 2498, 'uncomfort': 2499, 'bollywood': 2500, 'steel': 2501, 'savag': 2502, 'cathol': 2503, 'stanley': 2504, 'mous': 2505, 'beer': 2506, 'alter': 2507, 'dentist': 2508, 'assign': 2509, 'hippi': 2510, 'overact': 2511, 'daili': 2512, 'goofi': 2513, 'blair': 2514, 'conceiv': 2515, 'breathtak': 2516, 'melt': 2517, 'fix': 2518, 'subsequ': 2519, 'everyday': 2520, 'inspector': 2521, 'sacrific': 2522, 'carpent': 2523, 'oppos': 2524, 'properli': 2525, 'burt': 2526, 'nowaday': 2527, 'succe': 2528, 'massacr': 2529, 'circl': 2530, 'block': 2531, 'laura': 2532, 'neck': 2533, 'grey': 2534, 'access': 2535, 'mob': 2536, 'fallen': 2537, 'seagal': 2538, 'lesser': 2539, 'christi': 2540, 'concert': 2541, 'portrait': 2542, 'fay': 2543, 'pool': 2544, 'jake': 2545, 'relax': 2546, 'react': 2547, 'chees': 2548, 'usa': 2549, 'competit': 2550, 'jewish': 2551, 'sinist': 2552, 'isol': 2553, 'lyric': 2554, 'nine': 2555, 'suitabl': 2556, 'spiritu': 2557, 'chop': 2558, 'appal': 2559, '2006': 2560, 'nonetheless': 2561, 'ironi': 2562, 'stink': 2563, 'creep': 2564, 'immens': 2565, 'spring': 2566, 'shirt': 2567, 'rage': 2568, 'retir': 2569, 'needless': 2570, 'navi': 2571, 'luci': 2572, 'showcas': 2573, 'adopt': 2574, 'user': 2575, 'sold': 2576, 'nut': 2577, 'reduc': 2578, 'franchis': 2579, 'bulli': 2580, 'digit': 2581, 'per': 2582, 'nurs': 2583, 'jay': 2584, 'uninspir': 2585, 'zone': 2586, 'bath': 2587, 'asham': 2588, 'stanwyck': 2589, 'illustr': 2590, 'oddli': 2591, '2001': 2592, 'amongst': 2593, 'laid': 2594, 'broadcast': 2595, '1940': 2596, 'upper': 2597, 'sutherland': 2598, 'fulfil': 2599, 'throat': 2600, 'brando': 2601, 'aspir': 2602, 'stylish': 2603, 'baker': 2604, 'disguis': 2605, 'wwii': 2606, 'neighborhood': 2607, 'endear': 2608, 'wanna': 2609, 'impli': 2610, 'pound': 2611, 'nobl': 2612, 'pride': 2613, 'thief': 2614, '18': 2615, 'em': 2616, 'rochest': 2617, 'diseas': 2618, 'tens': 2619, 'distribut': 2620, 'shift': 2621, 'dinner': 2622, 'bett': 2623, 'bo': 2624, 'coher': 2625, 'prop': 2626, 'shoulder': 2627, 'dawn': 2628, 'cinematograph': 2629, 'albeit': 2630, '16': 2631, 'rebel': 2632, 'contract': 2633, 'forti': 2634, 'knife': 2635, 'wash': 2636, 'snow': 2637, 'shout': 2638, 'surf': 2639, 'function': 2640, 'poignant': 2641, 'silenc': 2642, 'matthau': 2643, 'mindless': 2644, 'silver': 2645, 'cancel': 2646, 'proof': 2647, 'horrend': 2648, 'derek': 2649, 'chuck': 2650, 'instinct': 2651, 'internet': 2652, 'heat': 2653, 'reunion': 2654, 'height': 2655, 'duti': 2656, 'cannib': 2657, 'henc': 2658, 'eeri': 2659, 'widmark': 2660, 'elvira': 2661, 'greatli': 2662, 'glori': 2663, 'incoher': 2664, 'absorb': 2665, 'torn': 2666, 'etern': 2667, 'alik': 2668, 'musician': 2669, 'innov': 2670, 'spielberg': 2671, 'neat': 2672, 'repetit': 2673, 'premier': 2674, 'pie': 2675, 'mill': 2676, 'elvi': 2677, 'horrifi': 2678, 'infam': 2679, 'britain': 2680, 'redempt': 2681, 'racism': 2682, 'bang': 2683, 'wealthi': 2684, 'crisi': 2685, 'blank': 2686, 'lovabl': 2687, 'announc': 2688, 'homag': 2689, 'diamond': 2690, 'trite': 2691, 'itali': 2692, 'fbi': 2693, 'nelson': 2694, 'precis': 2695, 'burton': 2696, 'resolut': 2697, 'parallel': 2698, 'wilder': 2699, 'chaplin': 2700, 'pat': 2701, 'dedic': 2702, 'happili': 2703, 'flop': 2704, 'helen': 2705, 'hammer': 2706, 'ensembl': 2707, 'streisand': 2708, 'disagre': 2709, 'plastic': 2710, 'carter': 2711, 'broke': 2712, 'oil': 2713, 'triumph': 2714, 'factori': 2715, 'st': 2716, 'conclud': 2717, 'mar': 2718, 'cube': 2719, 'vega': 2720, 'fighter': 2721, 'own': 2722, 'bush': 2723, 'march': 2724, 'row': 2725, 'climb': 2726, 'chuckl': 2727, 'rocket': 2728, 'weight': 2729, 'unforgett': 2730, 'sensibl': 2731, 'lust': 2732, 'dane': 2733, 'boot': 2734, 'mst3k': 2735, 'enorm': 2736, 'thug': 2737, 'spare': 2738, 'luca': 2739, 'dump': 2740, 'wherea': 2741, 'meaning': 2742, 'kurt': 2743, 'adequ': 2744, 'rap': 2745, 'dear': 2746, 'brand': 2747, 'fifti': 2748, 'arnold': 2749, 'difficulti': 2750, 'karloff': 2751, 'butt': 2752, 'threat': 2753, 'caricatur': 2754, 'engin': 2755, 'stress': 2756, 'bobbi': 2757, 'arrog': 2758, 'fest': 2759, 'ego': 2760, 'elabor': 2761, 'barri': 2762, 'journalist': 2763, 'hamlet': 2764, 'swing': 2765, 'polish': 2766, 'secretari': 2767, 'homeless': 2768, 'ralph': 2769, 'flynn': 2770, 'arrang': 2771, 'induc': 2772, 'resort': 2773, 'grate': 2774, 'conspiraci': 2775, 'simpson': 2776, 'puppet': 2777, 'float': 2778, 'unbear': 2779, 'fanci': 2780, 'spike': 2781, 'tool': 2782, 'pig': 2783, 'boll': 2784, 'choreograph': 2785, 'exercis': 2786, 'phillip': 2787, 'muppet': 2788, 'tribut': 2789, 'basement': 2790, 'guilt': 2791, 'cruis': 2792, 'slip': 2793, 'fianc': 2794, 'ham': 2795, 'toilet': 2796, 'tower': 2797, 'editor': 2798, 'layer': 2799, 'item': 2800, 'medium': 2801, 'puzzl': 2802, '24': 2803, 'document': 2804, 'babe': 2805, 'file': 2806, 'ward': 2807, 'korean': 2808, 'scarecrow': 2809, 'stan': 2810, 'larger': 2811, 'doc': 2812, 'minim': 2813, 'inexplic': 2814, 'assur': 2815, 'portion': 2816, 'spark': 2817, 'transit': 2818, 'philosoph': 2819, 'slaughter': 2820, 'catherin': 2821, 'persona': 2822, 'superfici': 2823, 'territori': 2824, 'glover': 2825, 'denzel': 2826, 'librari': 2827, 'orient': 2828, 'wolf': 2829, 'ban': 2830, 'jet': 2831, 'jeremi': 2832, 'boredom': 2833, 'curti': 2834, 'shi': 2835, 'sneak': 2836, 'dorothi': 2837, 'pg': 2838, 'owe': 2839, 'financi': 2840, 'walken': 2841, 'eleph': 2842, 'backdrop': 2843, 'metaphor': 2844, 'profound': 2845, 'cusack': 2846, 'hudson': 2847, 'multi': 2848, 'ambigu': 2849, 'whale': 2850, 'union': 2851, 'ultra': 2852, 'notion': 2853, 'stiff': 2854, '2005': 2855, 'birthday': 2856, 'rave': 2857, 'hack': 2858, 'gadget': 2859, 'implaus': 2860, 'elsewher': 2861, 'viru': 2862, 'slight': 2863, 'superhero': 2864, 'deriv': 2865, '1st': 2866, 'disc': 2867, 'squar': 2868, 'lloyd': 2869, 'newspap': 2870, 'pad': 2871, 'poison': 2872, 'eva': 2873, 'eastwood': 2874, 'reader': 2875, 'bibl': 2876, 'urg': 2877, 'afford': 2878, 'canada': 2879, 'distanc': 2880, 'hawk': 2881, 'sadist': 2882, 'huh': 2883, 'health': 2884, 'restaur': 2885, 'button': 2886, 'essenc': 2887, 'heston': 2888, 'spread': 2889, 'cure': 2890, 'montag': 2891, 'charisma': 2892, 'drown': 2893, 'skit': 2894, 'lab': 2895, 'invest': 2896, 'godfath': 2897, 'fetch': 2898, 'dealt': 2899, 'estat': 2900, 'gradual': 2901, 'maniac': 2902, 'peak': 2903, 'companion': 2904, 'muslim': 2905, 'scoobi': 2906, 'tea': 2907, 'countless': 2908, 'servant': 2909, 'gothic': 2910, 'kane': 2911, 'miik': 2912, 'ritter': 2913, 'alli': 2914, 'cup': 2915, 'subtleti': 2916, 'electr': 2917, 'elect': 2918, 'heroic': 2919, 'charismat': 2920, 'salli': 2921, 'briefli': 2922, 'iii': 2923, 'nuanc': 2924, 'toss': 2925, 'grandmoth': 2926, 'reel': 2927, 'admittedli': 2928, 'bud': 2929, 'ingredi': 2930, 'resourc': 2931, 'wannab': 2932, 'tender': 2933, 'neil': 2934, 'cole': 2935, 'kubrick': 2936, 'punk': 2937, 'gate': 2938, 'label': 2939, 'poverti': 2940, 'stood': 2941, 'mafia': 2942, 'shall': 2943, 'reev': 2944, 'mild': 2945, 'pit': 2946, 'carrey': 2947, 'stronger': 2948, 'pauli': 2949, 'dawson': 2950, 'outcom': 2951, 'terri': 2952, 'tag': 2953, 'easier': 2954, 'useless': 2955, 'cox': 2956, 'cardboard': 2957, 'assault': 2958, 'smash': 2959, 'ian': 2960, 'updat': 2961, 'burst': 2962, 'astair': 2963, 'fond': 2964, 'smooth': 2965, 'bakshi': 2966, 'melodramat': 2967, 'divers': 2968, 'vulner': 2969, 'sketch': 2970, 'vari': 2971, 'fist': 2972, 'coincid': 2973, 'samurai': 2974, 'rex': 2975, 'resolv': 2976, 'qualifi': 2977, '2002': 2978, 'exchang': 2979, 'increasingli': 2980, 'tame': 2981, 'brillianc': 2982, 'blast': 2983, 'insert': 2984, 'reynold': 2985, 'be': 2986, 'suspend': 2987, 'templ': 2988, 'scratch': 2989, 'luckili': 2990, 'conveni': 2991, 'soprano': 2992, 'meat': 2993, 'matthew': 2994, 'farm': 2995, 'pin': 2996, 'gotta': 2997, 'jami': 2998, 'strictli': 2999, 'coach': 3000, 'hamilton': 3001, 'fisher': 3002, 'walker': 3003, 'seventi': 3004, 'nuclear': 3005, 'ambiti': 3006, 'discoveri': 3007, 'joey': 3008, 'monk': 3009, 'struck': 3010, 'brosnan': 3011, 'kudo': 3012, 'spooki': 3013, 'convolut': 3014, 'empir': 3015, 'timeless': 3016, 'worthless': 3017, 'butcher': 3018, 'recreat': 3019, 'closet': 3020, 'instantli': 3021, 'cave': 3022, 'clock': 3023, 'grasp': 3024, 'ninja': 3025, 'eccentr': 3026, 'revers': 3027, 'communist': 3028, 'declar': 3029, 'selfish': 3030, 'mitchel': 3031, 'sidekick': 3032, 'wipe': 3033, 'evok': 3034, 'partli': 3035, 'gray': 3036, 'cliff': 3037, 'fifteen': 3038, 'inconsist': 3039, 'sloppi': 3040, 'bleak': 3041, 'norman': 3042, 'pal': 3043, 'importantli': 3044, 'clown': 3045, 'eighti': 3046, 'seller': 3047, 'miracl': 3048, 'enthusiast': 3049, 'aforement': 3050, 'destin': 3051, 'websit': 3052, 'superbl': 3053, 'debat': 3054, 'australia': 3055, 'chew': 3056, '45': 3057, 'cheek': 3058, 'ho': 3059, 'farc': 3060, 'psychiatrist': 3061, 'flawless': 3062, 'seed': 3063, 'lifestyl': 3064, 'piano': 3065, 'stoog': 3066, 'bash': 3067, 'dire': 3068, 'akshay': 3069, 'wrestl': 3070, 'directori': 3071, 'anni': 3072, 'emili': 3073, 'wick': 3074, 'regardless': 3075, 'slice': 3076, 'pressur': 3077, 'splatter': 3078, 'dash': 3079, 'drivel': 3080, 'kitchen': 3081, 'soviet': 3082, 'abc': 3083, 'incompet': 3084, 'curios': 3085, 'distant': 3086, 'judi': 3087, 'jar': 3088, 'cia': 3089, 'seduc': 3090, 'boil': 3091, 'pleasantli': 3092, 'cagney': 3093, 'beaten': 3094, 'chapter': 3095, 'suppli': 3096, 'glow': 3097, 'doo': 3098, 'recov': 3099, 'helicopt': 3100, 'cameron': 3101, 'prize': 3102, 'mann': 3103, 'blob': 3104, 'artifici': 3105, 'lou': 3106, 'flower': 3107, 'duo': 3108, 'ken': 3109, 'dave': 3110, 'increas': 3111, 'drunken': 3112, 'web': 3113, 'perri': 3114, 'psychot': 3115, 'ellen': 3116, 'splendid': 3117, 'ranger': 3118, 'combat': 3119, 'craven': 3120, 'glenn': 3121, 'goldberg': 3122, 'turner': 3123, 'francisco': 3124, 'eleg': 3125, 'craig': 3126, 'favour': 3127, 'panic': 3128, 'hop': 3129, 'laurel': 3130, 'slightest': 3131, 'graduat': 3132, 'modesti': 3133, 'flip': 3134, 'alexand': 3135, '20th': 3136, 'rid': 3137, 'philosophi': 3138, 'wizard': 3139, 'min': 3140, 'hatr': 3141, 'gentl': 3142, 'plausibl': 3143, 'greek': 3144, 'falk': 3145, 'ruth': 3146, 'shortli': 3147, 'fx': 3148, 'gandhi': 3149, 'fund': 3150, 'futurist': 3151, 'felix': 3152, 'ocean': 3153, 'we': 3154, 'dracula': 3155, 'unpleas': 3156, 'manhattan': 3157, 'harm': 3158, 'tall': 3159, 'holi': 3160, 'knight': 3161, 'jealou': 3162, 'legal': 3163, 'lend': 3164, 'preciou': 3165, 'thread': 3166, 'scientif': 3167, 'digniti': 3168, 'mock': 3169, 'bless': 3170, 'tank': 3171, 'explicit': 3172, 'ami': 3173, 'giallo': 3174, 'reviv': 3175, 'nod': 3176, 'overdon': 3177, 'childish': 3178, 'forbidden': 3179, 'fever': 3180, 'verhoeven': 3181, 'pirat': 3182, 'unwatch': 3183, '2004': 3184, 'margaret': 3185, 'yesterday': 3186, 'nerv': 3187, 'eve': 3188, 'awe': 3189, 'broad': 3190, 'repeatedli': 3191, 'torment': 3192, 'mel': 3193, 'elderli': 3194, 'awaken': 3195, 'thick': 3196, '99': 3197, 'automat': 3198, 'ambit': 3199, 'timothi': 3200, 'rivet': 3201, 'custom': 3202, 'acclaim': 3203, 'publish': 3204, 'royal': 3205, 'ah': 3206, 'bin': 3207, 'lean': 3208, 'griffith': 3209, 'absenc': 3210, 'launch': 3211, 'stiller': 3212, 'politician': 3213, 'kay': 3214, 'uniform': 3215, 'roman': 3216, 'eas': 3217, 'romero': 3218, 'pierc': 3219, 'gabriel': 3220, 'wallac': 3221, 'transport': 3222, 'bathroom': 3223, 'tomato': 3224, 'crook': 3225, 'purpl': 3226, 'darker': 3227, 'pulp': 3228, 'homicid': 3229, 'foul': 3230, 'phrase': 3231, 'warren': 3232, 'termin': 3233, 'antic': 3234, 'stinker': 3235, 'sunshin': 3236, 'li': 3237, 'saint': 3238, 'eyr': 3239, 'horrid': 3240, 'pray': 3241, 'viciou': 3242, 'brazil': 3243, 'hollow': 3244, 'contrari': 3245, 'karen': 3246, 'juvenil': 3247, 'awak': 3248, 'prom': 3249, 'donna': 3250, '2003': 3251, 'marin': 3252, 'choreographi': 3253, 'coloni': 3254, 'evolv': 3255, 'packag': 3256, 'album': 3257, 'revolutionari': 3258, 'q': 3259, 'rambo': 3260, 'kenneth': 3261, 'sixti': 3262, 'ought': 3263, 'ireland': 3264, 'conserv': 3265, 'twelv': 3266, 'candid': 3267, 'mildr': 3268, 'kapoor': 3269, 'defi': 3270, 'stole': 3271, 'option': 3272, 'boast': 3273, 'overr': 3274, 'beatti': 3275, 'nerd': 3276, 'dose': 3277, 'blade': 3278, 'ramon': 3279, 'mummi': 3280, 'trio': 3281, 'collabor': 3282, 'jazz': 3283, 'kirk': 3284, 'funer': 3285, 'protest': 3286, 'natali': 3287, 'flame': 3288, 'detract': 3289, 'global': 3290, 'astonish': 3291, 'confirm': 3292, 'altman': 3293, 'fulci': 3294, 'nicholson': 3295, 'bull': 3296, 'spit': 3297, 'blake': 3298, 'leap': 3299, 'audio': 3300, 'tommi': 3301, 'racial': 3302, 'yellow': 3303, 'whip': 3304, 'enterpris': 3305, 'delici': 3306, 'mystic': 3307, 'bottl': 3308, 'shade': 3309, 'destini': 3310, 'harder': 3311, 'bedroom': 3312, 'meaningless': 3313, 'inherit': 3314, 'pseudo': 3315, 'threw': 3316, 'neo': 3317, 'todd': 3318, 'altogeth': 3319, 'merci': 3320, 'reunit': 3321, 'staff': 3322, 'swedish': 3323, 'popcorn': 3324, 'fonda': 3325, 'visibl': 3326, 'adolesc': 3327, 'vivid': 3328, 'enchant': 3329, 'edi': 3330, 'lawrenc': 3331, 'atlanti': 3332, 'bust': 3333, 'exhibit': 3334, 'moodi': 3335, 'kennedi': 3336, 'wire': 3337, 'tip': 3338, 'ruthless': 3339, 'reserv': 3340, 'roommat': 3341, 'await': 3342, 'jew': 3343, 'uneven': 3344, 'madonna': 3345, 'decor': 3346, 'voight': 3347, 'befriend': 3348, 'lemmon': 3349, 'fanat': 3350, 'respond': 3351, 'crocodil': 3352, 'leonard': 3353, 'synopsi': 3354, 'suspici': 3355, 'dimens': 3356, 'unsettl': 3357, 'bradi': 3358, 'bargain': 3359, 'chao': 3360, 'clumsi': 3361, 'ventur': 3362, 'bold': 3363, '2007': 3364, 'audit': 3365, 'carl': 3366, 'clint': 3367, 'garner': 3368, 'rural': 3369, 'holli': 3370, 'centr': 3371, 'voyag': 3372, 'incident': 3373, 'abysm': 3374, 'palma': 3375, 'echo': 3376, 'trail': 3377, 'troop': 3378, 'wealth': 3379, 'immigr': 3380, 'daddi': 3381, 'characterist': 3382, 'versu': 3383, 'humili': 3384, 'poetic': 3385, 'neglect': 3386, 'cari': 3387, 'timon': 3388, 'nearbi': 3389, 'elimin': 3390, 'mall': 3391, '2nd': 3392, 'acknowledg': 3393, 'lit': 3394, 'imperson': 3395, 'hart': 3396, 'tiger': 3397, 'cd': 3398, 'cuba': 3399, 'ant': 3400, 'celluloid': 3401, 'prejudic': 3402, 'saga': 3403, 'collaps': 3404, 'domest': 3405, 'marshal': 3406, 'mistaken': 3407, 'pun': 3408, 'solo': 3409, 'mickey': 3410, 'infect': 3411, 'paus': 3412, 'jeffrey': 3413, 'repuls': 3414, 'homer': 3415, 'undoubtedli': 3416, 'assembl': 3417, 'inan': 3418, 'apolog': 3419, 'milk': 3420, 'hbo': 3421, 'inappropri': 3422, '1996': 3423, 'ginger': 3424, 'promin': 3425, 'gear': 3426, 'harvey': 3427, 'equip': 3428, 'interrupt': 3429, 'coat': 3430, 'olivi': 3431, 'tribe': 3432, 'cake': 3433, 'sore': 3434, 'coffe': 3435, 'chest': 3436, 'leon': 3437, 'pant': 3438, 'exot': 3439, 'highest': 3440, 'pen': 3441, 'colleagu': 3442, 'solut': 3443, 'retain': 3444, 'devast': 3445, 'consum': 3446, 'trace': 3447, 'pot': 3448, 'humbl': 3449, 'brooklyn': 3450, 'jenni': 3451, 'airplan': 3452, 'embrac': 3453, 'florida': 3454, 'primari': 3455, 'vulgar': 3456, 'furthermor': 3457, 'maggi': 3458, 'colonel': 3459, 'institut': 3460, 'aveng': 3461, 'instant': 3462, 'polanski': 3463, 'outer': 3464, 'linda': 3465, '1999': 3466, 'sale': 3467, 'disabl': 3468, 'godzilla': 3469, 'smaller': 3470, 'dutch': 3471, 'cope': 3472, 'strain': 3473, 'gender': 3474, 'illog': 3475, '3rd': 3476, 'poke': 3477, 'wive': 3478, 'dian': 3479, 'bowl': 3480, 'descend': 3481, 'seduct': 3482, 'rick': 3483, 'principl': 3484, 'ya': 3485, 'cue': 3486, 'hal': 3487, 'scope': 3488, 'devoid': 3489, 'inferior': 3490, 'predecessor': 3491, 'bubbl': 3492, 'mixtur': 3493, 'lol': 3494, 'secondli': 3495, 'primarili': 3496, 'rabbit': 3497, 'blatant': 3498, 'vast': 3499, 'beneath': 3500, 'gundam': 3501, 'dud': 3502, 'glamor': 3503, 'gloriou': 3504, 'dive': 3505, 'yard': 3506, 'april': 3507, 'myer': 3508, 'arab': 3509, 'hideou': 3510, 'breed': 3511, 'alert': 3512, 'pearl': 3513, 'z': 3514, 'shelf': 3515, 'alfr': 3516, 'senseless': 3517, 'casual': 3518, 'streep': 3519, 'trademark': 3520, 'et': 3521, 'shirley': 3522, 'invas': 3523, 'disjoint': 3524, 'aggress': 3525, 'museum': 3526, 'simplist': 3527, 'countrysid': 3528, 'talki': 3529, 'grinch': 3530, 'domino': 3531, 'garbo': 3532, 'hopeless': 3533, 'obtain': 3534, 'uwe': 3535, 'experiment': 3536, 'boom': 3537, 'unhappi': 3538, 'khan': 3539, 'defens': 3540, 'illeg': 3541, 'stir': 3542, 'robberi': 3543, 'slide': 3544, 'disgrac': 3545, 'vanish': 3546, 'robinson': 3547, 'hardcor': 3548, 'acid': 3549, 'rendit': 3550, 'applaud': 3551, 'mail': 3552, 'stellar': 3553, 'oz': 3554, 'loyal': 3555, 'mayor': 3556, 'stack': 3557, 'sh': 3558, 'maci': 3559, 'dicken': 3560, 'tempt': 3561, 'counter': 3562, 'recruit': 3563, 'craze': 3564, 'emphasi': 3565, 'grandfath': 3566, 'rifl': 3567, 'spider': 3568, 'span': 3569, 'berlin': 3570, 'dismiss': 3571, 'declin': 3572, 'blew': 3573, 'topless': 3574, 'incomprehens': 3575, 'hartley': 3576, 'scroog': 3577, 'soccer': 3578, 'psychic': 3579, 'wont': 3580, 'fri': 3581, 'diana': 3582, 'amanda': 3583, 'tenant': 3584, 'woo': 3585, 'shed': 3586, 'intim': 3587, 'ration': 3588, 'riot': 3589, 'ethnic': 3590, 'resurrect': 3591, 'goer': 3592, 'sibl': 3593, 'justin': 3594, 'wet': 3595, 'sympath': 3596, 'trashi': 3597, 'niro': 3598, 'faster': 3599, 'shaw': 3600, 'revolt': 3601, 'porno': 3602, 'lumet': 3603, 'bitch': 3604, 'parad': 3605, 'weakest': 3606, 'hesit': 3607, 'immort': 3608, 'slick': 3609, 'partial': 3610, 'eager': 3611, 'patriot': 3612, 'feminist': 3613, '00': 3614, 'unreal': 3615, 'rider': 3616, 'worm': 3617, 'gap': 3618, 'biographi': 3619, 'farmer': 3620, 'honesti': 3621, 'commend': 3622, 'steam': 3623, 'ballet': 3624, 'region': 3625, 'nephew': 3626, 'jonathan': 3627, 'enlighten': 3628, 'wheel': 3629, 'lena': 3630, 'andr': 3631, 'hopper': 3632, 'dealer': 3633, 'choru': 3634, 'ensur': 3635, 'wendi': 3636, 'mario': 3637, 'snap': 3638, 'safeti': 3639, 'prequel': 3640, 'composit': 3641, 'similarli': 3642, 'properti': 3643, 'blunt': 3644, 'owen': 3645, 'mutant': 3646, 'leo': 3647, 'vice': 3648, 'sandra': 3649, 'hung': 3650, 'victori': 3651, 'kingdom': 3652, 'sappi': 3653, 'charlott': 3654, 'util': 3655, 'nostalg': 3656, 'wore': 3657, 'repress': 3658, 'morri': 3659, 'skull': 3660, 'confin': 3661, 'psychopath': 3662, 'franco': 3663, 'macarthur': 3664, 'del': 3665, 'bumbl': 3666, 'dalton': 3667, 'tad': 3668, 'rambl': 3669, 'drain': 3670, 'exit': 3671, 'dust': 3672, 'valuabl': 3673, 'compass': 3674, 'bonu': 3675, 'strand': 3676, 'thru': 3677, 'deed': 3678, 'acquir': 3679, 'farrel': 3680, 'repli': 3681, 'rocki': 3682, 'montana': 3683, 'whoopi': 3684, 'pattern': 3685, '1972': 3686, 'tail': 3687, 'miseri': 3688, 'drum': 3689, 'recycl': 3690, 'kyle': 3691, 'latin': 3692, 'nervou': 3693, 'bow': 3694, 'emperor': 3695, 'bergman': 3696, 'campbel': 3697, 'cg': 3698, 'hyde': 3699, 'heartbreak': 3700, 'compens': 3701, 'snl': 3702, 'despair': 3703, 'rope': 3704, 'speci': 3705, 'roth': 3706, 'contempl': 3707, 'rapist': 3708, 'percept': 3709, 'rotten': 3710, 'gal': 3711, 'downhil': 3712, 'mistress': 3713, '35': 3714, 'orson': 3715, 'tonight': 3716, 'martian': 3717, 'romp': 3718, 'gimmick': 3719, 'chess': 3720, 'da': 3721, 'bleed': 3722, 'pour': 3723, 'radic': 3724, 'wacki': 3725, 'airport': 3726, 'oppress': 3727, 'olli': 3728, 'carradin': 3729, 'slug': 3730, 'tackl': 3731, 'unpredict': 3732, 'belt': 3733, 'slash': 3734, 'paltrow': 3735, 'edgar': 3736, 'mislead': 3737, 'arguabl': 3738, 'shelley': 3739, 'tooth': 3740, 'champion': 3741, 'dazzl': 3742, 'pursuit': 3743, '1983': 3744, 'pervers': 3745, 'stilt': 3746, 'banal': 3747, 'arc': 3748, 'melodi': 3749, 'attorney': 3750, 'pervert': 3751, 'programm': 3752, 'preach': 3753, 'heal': 3754, 'taught': 3755, 'plight': 3756, 'gambl': 3757, 'orang': 3758, 'passeng': 3759, 'dixon': 3760, 'graham': 3761, 'franki': 3762, 'sensat': 3763, 'bela': 3764, 'uplift': 3765, 'closest': 3766, 'maid': 3767, 'conneri': 3768, 'raymond': 3769, 'rubi': 3770, 'marti': 3771, 'mesmer': 3772, 'duval': 3773, 'vocal': 3774, 'employe': 3775, 'vengeanc': 3776, 'tiresom': 3777, 'cleverli': 3778, 'chicken': 3779, 'poem': 3780, 'virginia': 3781, 'habit': 3782, 'giggl': 3783, 'tube': 3784, 'scottish': 3785, 'outing': 3786, 'engross': 3787, 'whine': 3788, 'mute': 3789, 'profan': 3790, 'swallow': 3791, 'abraham': 3792, 'calm': 3793, 'clone': 3794, 'numb': 3795, 'convincingli': 3796, 'quarter': 3797, 'lundgren': 3798, 'crystal': 3799, 'pokemon': 3800, 'inject': 3801, 'paranoia': 3802, 'volum': 3803, 'yawn': 3804, 'monologu': 3805, 'sirk': 3806, 'climact': 3807, 'amitabh': 3808, 'iran': 3809, 'secretli': 3810, 'extens': 3811, 'suffic': 3812, 'bay': 3813, '1968': 3814, 'gerard': 3815, 'frankenstein': 3816, 'abort': 3817, 'ethan': 3818, 'junior': 3819, 'dispos': 3820, 'septemb': 3821, 'franci': 3822, 'profess': 3823, 'chicago': 3824, 'linger': 3825, 'austen': 3826, 'grotesqu': 3827, 'surpass': 3828, 'bend': 3829, 'plod': 3830, 'underst': 3831, 'lowest': 3832, 'trend': 3833, 'spock': 3834, 'fed': 3835, 'poetri': 3836, 'nichola': 3837, 'meander': 3838, 'im': 3839, 'richardson': 3840, 'backward': 3841, 'taxi': 3842, 'earl': 3843, 'expand': 3844, 'literatur': 3845, 'compliment': 3846, 'descent': 3847, 'lure': 3848, 'nostalgia': 3849, 'cannon': 3850, 'myth': 3851, 'muddl': 3852, 'waitress': 3853, 'sue': 3854, 'simplic': 3855, 'rubber': 3856, 'rant': 3857, 'hum': 3858, 'mundan': 3859, 'household': 3860, 'tourist': 3861, 'spoke': 3862, 'der': 3863, 'greedi': 3864, 'catchi': 3865, 'econom': 3866, 'instrument': 3867, 'eugen': 3868, 'dysfunct': 3869, 'stallon': 3870, 'furi': 3871, 'crucial': 3872, 'coast': 3873, 'map': 3874, 'firstli': 3875, 'june': 3876, 'damon': 3877, 'recognit': 3878, 'equival': 3879, 'lang': 3880, 'dictat': 3881, 'eaten': 3882, 'molli': 3883, 'mankind': 3884, 'dement': 3885, 'randi': 3886, 'insur': 3887, 'stale': 3888, 'hello': 3889, 'phoni': 3890, 'omen': 3891, 'flee': 3892, 'louis': 3893, 'occupi': 3894, 'alongsid': 3895, 'carel': 3896, 'recognis': 3897, 'duck': 3898, 'deaf': 3899, 'cent': 3900, 'sissi': 3901, 'mortal': 3902, 'bacal': 3903, 'phantom': 3904, 'irrelev': 3905, 'labor': 3906, 'twilight': 3907, 'newli': 3908, 'likewis': 3909, 'heel': 3910, 'drake': 3911, 'onlin': 3912, 'dreari': 3913, 'damm': 3914, '1973': 3915, 'rude': 3916, 'bump': 3917, 'grayson': 3918, 'bike': 3919, 'reign': 3920, 'distinguish': 3921, 'blackmail': 3922, 'lengthi': 3923, 'ashley': 3924, 'loyalti': 3925, 'wisdom': 3926, 'rooney': 3927, 'antwon': 3928, 'freez': 3929, 'daisi': 3930, 'buffalo': 3931, 'cyborg': 3932, 'biko': 3933, 'exposur': 3934, 'tunnel': 3935, 'basketbal': 3936, 'approv': 3937, 'incorpor': 3938, 'inher': 3939, 'startl': 3940, 'worn': 3941, 'analysi': 3942, 'boxer': 3943, 'vein': 3944, 'pink': 3945, 'sailor': 3946, 'butler': 3947, 'proce': 3948, 'provoc': 3949, 'interior': 3950, 'attribut': 3951, 'nineti': 3952, 'keith': 3953, 'baddi': 3954, 'chronicl': 3955, 'prey': 3956, 'ridden': 3957, 'unorigin': 3958, 'barrymor': 3959, 'emphas': 3960, 'hypnot': 3961, 'improvis': 3962, 'drift': 3963, 'nicol': 3964, 'barrel': 3965, 'stalker': 3966, 'meyer': 3967, 'elm': 3968, 'er': 3969, 'robbin': 3970, 'substitut': 3971, 'bunni': 3972, 'indiffer': 3973, 'othello': 3974, 'meg': 3975, 'underli': 3976, 'millionair': 3977, 'degrad': 3978, 'unrel': 3979, 'mighti': 3980, 'undeni': 3981, 'fleet': 3982, 'carla': 3983, 'walsh': 3984, 'julian': 3985, 'belushi': 3986, 'simmon': 3987, 'condemn': 3988, 'predat': 3989, 'mormon': 3990, 'palac': 3991, 'agenda': 3992, 'warmth': 3993, 'edgi': 3994, 'priceless': 3995, 'shove': 3996, 'firm': 3997, 'marion': 3998, 'rukh': 3999, 'alarm': 4000, 'dolph': 4001, 'unawar': 4002, 'exquisit': 4003, 'mtv': 4004, 'nyc': 4005, '3d': 4006, 'watson': 4007, 'roof': 4008, 'novak': 4009, 'disord': 4010, 'enthusiasm': 4011, 'vital': 4012, 'reid': 4013, 'lampoon': 4014, 'hay': 4015, 'greed': 4016, 'errol': 4017, 'alison': 4018, 'unleash': 4019, 'orlean': 4020, 'minimum': 4021, 'session': 4022, 'randomli': 4023, 'eastern': 4024, 'distort': 4025, 'iraq': 4026, 'glanc': 4027, 'sergeant': 4028, 'ponder': 4029, 'peril': 4030, 'gestur': 4031, 'coup': 4032, 'profit': 4033, 'testament': 4034, 'what': 4035, 'petti': 4036, '13th': 4037, 'beatl': 4038, 'pamela': 4039, 'nun': 4040, 'championship': 4041, 'zizek': 4042, 'valentin': 4043, 'campaign': 4044, 'cassidi': 4045, 'preserv': 4046, 'simultan': 4047, 'angela': 4048, 'peck': 4049, 'spain': 4050, 'thompson': 4051, '1933': 4052, 'crown': 4053, 'showdown': 4054, 'drip': 4055, 'israel': 4056, 'rout': 4057, 'realm': 4058, 'calib': 4059, '1984': 4060, 'quinn': 4061, 'cooki': 4062, 'kurosawa': 4063, 'buster': 4064, 'empathi': 4065, 'bro': 4066, 'climat': 4067, 'unimagin': 4068, 'shootout': 4069, 'crow': 4070, 'contradict': 4071, 'din': 4072, 'han': 4073, 'restrain': 4074, 'travesti': 4075, 'mon': 4076, 'miyazaki': 4077, 'cream': 4078, 'exposit': 4079, 'wig': 4080, 'valley': 4081, 'stake': 4082, 'scotland': 4083, 'fido': 4084, 'reson': 4085, 'jan': 4086, 'regist': 4087, 'represent': 4088, 'perpetu': 4089, 'crawl': 4090, 'gentleman': 4091, 'brenda': 4092, 'sabrina': 4093, 'stroke': 4094, 'businessman': 4095, 'absent': 4096, 'josh': 4097, 'greg': 4098, 'derang': 4099, 'unsatisfi': 4100, 'distress': 4101, 'delic': 4102, 'pretens': 4103, 'dana': 4104, 'demis': 4105, 'ross': 4106, 'mclaglen': 4107, '1987': 4108, 'wax': 4109, 'shaki': 4110, 'abomin': 4111, 'geek': 4112, 'passabl': 4113, 'warrant': 4114, 'stargat': 4115, 'cloud': 4116, 'crawford': 4117, '1997': 4118, 'traumat': 4119, 'shoddi': 4120, 'monoton': 4121, 'spacey': 4122, 'painter': 4123, 'meryl': 4124, 'sammi': 4125, 'femm': 4126, 'tacki': 4127, 'pole': 4128, 'perceiv': 4129, 'censor': 4130, 'compromis': 4131, 'baldwin': 4132, 'soderbergh': 4133, 'sucker': 4134, 'darren': 4135, 'unseen': 4136, 'fuller': 4137, 'ustinov': 4138, 'accuraci': 4139, 'deceas': 4140, 'tarantino': 4141, 'sid': 4142, 'anchor': 4143, 'unravel': 4144, 'wholli': 4145, 'fenc': 4146, 'kumar': 4147, 'dee': 4148, 'verbal': 4149, 'fog': 4150, 'exclus': 4151, 'expedit': 4152, 'norm': 4153, 'seal': 4154, 'clash': 4155, 'furiou': 4156, '1993': 4157, 'correctli': 4158, 'primit': 4159, 'reluct': 4160, 'jewel': 4161, 'antonioni': 4162, 'tech': 4163, 'judgment': 4164, 'click': 4165, 'valid': 4166, 'uncov': 4167, 'nathan': 4168, 'deniro': 4169, 'polici': 4170, 'austin': 4171, 'ritual': 4172, 'mode': 4173, 'sustain': 4174, 'hallucin': 4175, 'wretch': 4176, 'conduct': 4177, 'crippl': 4178, 'enforc': 4179, 'temper': 4180, 'logan': 4181, '1995': 4182, '2008': 4183, 'clerk': 4184, 'murray': 4185, 'dreck': 4186, 'joel': 4187, 'fabric': 4188, 'malon': 4189, 'sunni': 4190, '1971': 4191, 'pocket': 4192, 'seldom': 4193, 'sand': 4194, 'shanghai': 4195, 'trait': 4196, 'alec': 4197, 'fought': 4198, '3000': 4199, 'fart': 4200, 'roller': 4201, 'sheet': 4202, 'darn': 4203, 'unfair': 4204, 'tax': 4205, 'slam': 4206, 'behold': 4207, 'nicola': 4208, 'patienc': 4209, 'wang': 4210, 'vanc': 4211, 'debt': 4212, 'bake': 4213, 'conscious': 4214, 'legaci': 4215, 'stark': 4216, 'tactic': 4217, 'squad': 4218, 'critiqu': 4219, 'scriptwrit': 4220, 'preston': 4221, 'shell': 4222, 'exhaust': 4223, 'penni': 4224, 'preposter': 4225, 'fundament': 4226, 'guitar': 4227, 'phil': 4228, 'clau': 4229, 'bias': 4230, 'robber': 4231, 'runner': 4232, 'bridget': 4233, 'schedul': 4234, 'helpless': 4235, 'soup': 4236, 'outlin': 4237, 'sweep': 4238, 'divid': 4239, 'stuart': 4240, 'canyon': 4241, 'pete': 4242, 'despis': 4243, 'grief': 4244, 'technicolor': 4245, 'rita': 4246, 'isabel': 4247, 'kansa': 4248, 'marc': 4249, 'jacket': 4250, 'consciou': 4251, 'inabl': 4252, 'newman': 4253, 'sniper': 4254, 'rehash': 4255, 'vomit': 4256, 'drove': 4257, 'culmin': 4258, 'propos': 4259, 'bloom': 4260, 'jodi': 4261, 'russia': 4262, 'sentinel': 4263, 'flair': 4264, 'agenc': 4265, 'downey': 4266, 'alley': 4267, 'invad': 4268, 'gregori': 4269, 'boyl': 4270, 'restrict': 4271, 'passag': 4272, 'liberti': 4273, 'rear': 4274, 'palanc': 4275, 'lacklust': 4276, 'cigarett': 4277, 'delv': 4278, 'implic': 4279, 'connor': 4280, 'alicia': 4281, 'sugar': 4282, 'unexpectedli': 4283, 'tendenc': 4284, '22': 4285, 'vet': 4286, 'bacon': 4287, 'awhil': 4288, 'rehears': 4289, 'behaviour': 4290, 'ladder': 4291, '1936': 4292, 'tripe': 4293, 'improb': 4294, 'rod': 4295, 'chainsaw': 4296, 'pale': 4297, 'delet': 4298, 'mccoy': 4299, 'rampag': 4300, 'foxx': 4301, 'asylum': 4302, 'arrow': 4303, 'feat': 4304, 'sharon': 4305, 'cap': 4306, 'wrench': 4307, 'horn': 4308, 'lush': 4309, 'aesthet': 4310, 'karl': 4311, 'kolchak': 4312, 'yeti': 4313, 'aristocrat': 4314, 'tomorrow': 4315, 'newcom': 4316, 'conscienc': 4317, 'coaster': 4318, 'paramount': 4319, 'thunderbird': 4320, 'sung': 4321, 'globe': 4322, '1978': 4323, '1988': 4324, 'rumor': 4325, 'elit': 4326, 'prank': 4327, 'hulk': 4328, 'rhythm': 4329, 'visitor': 4330, 'underneath': 4331, 'wildli': 4332, 'minu': 4333, 'basing': 4334, 'spice': 4335, 'lurk': 4336, '19th': 4337, 'stream': 4338, 'amazon': 4339, 'weav': 4340, 'financ': 4341, 'hackney': 4342, 'hungri': 4343, 'suspicion': 4344, 'el': 4345, 'scoop': 4346, 'suffici': 4347, 'tasteless': 4348, '1920': 4349, 'fright': 4350, 'paradis': 4351, 'filler': 4352, 'shortcom': 4353, 'wagner': 4354, 'loneli': 4355, 'abrupt': 4356, 'beverli': 4357, 'immers': 4358, 'couch': 4359, 'secondari': 4360, 'worship': 4361, 'grudg': 4362, 'atroc': 4363, 'bread': 4364, 'entranc': 4365, 'smell': 4366, 'heist': 4367, 'brit': 4368, 'quietli': 4369, 'literari': 4370, 'chavez': 4371, 'inmat': 4372, 'leigh': 4373, 'wwe': 4374, 'minist': 4375, 'ingeni': 4376, '75': 4377, 'counterpart': 4378, 'dirt': 4379, 'iv': 4380, 'teas': 4381, 'rub': 4382, 'impos': 4383, 'naughti': 4384, 'tierney': 4385, 'hopkin': 4386, 'penn': 4387, 'en': 4388, 'ram': 4389, 'paxton': 4390, 'posey': 4391, '1939': 4392, 'cancer': 4393, '1989': 4394, 'recogniz': 4395, 'lectur': 4396, 'straightforward': 4397, 'choppi': 4398, 'standout': 4399, 'curli': 4400, 'chamberlain': 4401, 'springer': 4402, 'variat': 4403, 'net': 4404, 'enthral': 4405, 'geni': 4406, 'bernard': 4407, 'duel': 4408, 'transcend': 4409, 'clan': 4410, 'morbid': 4411, 'entitl': 4412, 'cattl': 4413, 'heartfelt': 4414, 'misguid': 4415, 'sassi': 4416, '1986': 4417, 'injuri': 4418, 'skeptic': 4419, 'moreov': 4420, 'esther': 4421, 'ratso': 4422, 'lindsay': 4423, 'quaid': 4424, 'watcher': 4425, 'nemesi': 4426, 'laurenc': 4427, 'policeman': 4428, 'sublim': 4429, 'nolan': 4430, 'missil': 4431, 'ace': 4432, 'convert': 4433, 'yearn': 4434, 'attenborough': 4435, 'obstacl': 4436, 'brood': 4437, 'graini': 4438, 'characteris': 4439, '1979': 4440, 'artsi': 4441, 'egg': 4442, 'bye': 4443, 'buzz': 4444, 'kidman': 4445, 'diari': 4446, 'grin': 4447, 'cruelti': 4448, 'kitti': 4449, 'steadi': 4450, 'out': 4451, 'unexplain': 4452, 'facil': 4453, 'dont': 4454, 'spiral': 4455, 'rosemari': 4456, 'vader': 4457, 'youngest': 4458, 'puppi': 4459, 'mytholog': 4460, 'uncut': 4461, 'reliabl': 4462, 'enabl': 4463, 'hopelessli': 4464, 'moder': 4465, 'poe': 4466, 'hk': 4467, 'setup': 4468, 'tyler': 4469, 'carlito': 4470, 'bean': 4471, 'gillian': 4472, 'sweat': 4473, 'underworld': 4474, 'preming': 4475, 'clueless': 4476, 'bewar': 4477, '1969': 4478, 'patricia': 4479, 'narrow': 4480, 'despic': 4481, 'hain': 4482, 'bounc': 4483, 'oblig': 4484, 'fuel': 4485, 'disastr': 4486, 'baffl': 4487, 'acquaint': 4488, 'heap': 4489, 'bronson': 4490, 'weather': 4491, 'spontan': 4492, 'martha': 4493, 'effici': 4494, 'exterior': 4495, 'niec': 4496, 'gina': 4497, 'kline': 4498, 'decept': 4499, 'christin': 4500, 'hammi': 4501, 'athlet': 4502, 'brendan': 4503, 'outlaw': 4504, 'headach': 4505, 'trigger': 4506, 'harmless': 4507, 'injur': 4508, 'circu': 4509, 'dilemma': 4510, 'scar': 4511, 'astound': 4512, 'shatter': 4513, 'tick': 4514, 'enlist': 4515, '73': 4516, 'angst': 4517, 'sooner': 4518, 'sleepwalk': 4519, 'analyz': 4520, 'virtu': 4521, 'dandi': 4522, 'rome': 4523, 'viewpoint': 4524, 'biker': 4525, 'candl': 4526, 'lester': 4527, 'renaiss': 4528, 'mayhem': 4529, 'loath': 4530, 'suprem': 4531, 'loi': 4532, '19': 4533, 'insipid': 4534, 'goof': 4535, 'taboo': 4536, 'fontain': 4537, 'housewif': 4538, 'hepburn': 4539, 'preachi': 4540, 'mermaid': 4541, 'uh': 4542, 'contempt': 4543, 'bent': 4544, 'slimi': 4545, 'whore': 4546, 'foolish': 4547, 'macho': 4548, 'camcord': 4549, 'fluff': 4550, 'scorses': 4551, 'idol': 4552, 'surgeri': 4553, 'hooker': 4554, 'glorifi': 4555, 'redund': 4556, 'phenomenon': 4557, 'stair': 4558, 'dish': 4559, 'zoom': 4560, 'dismal': 4561, 'claustrophob': 4562, 'tripl': 4563, 'stimul': 4564, 'immatur': 4565, 'hostag': 4566, 'overlong': 4567, 'steer': 4568, 'amor': 4569, 'spade': 4570, 'ebert': 4571, 'oldest': 4572, 'intric': 4573, 'cassavet': 4574, 'hokey': 4575, 'filth': 4576, 'gere': 4577, 'salt': 4578, 'guin': 4579, 'boston': 4580, 'sox': 4581, 'corbett': 4582, 'ariel': 4583, 'naschi': 4584, 'frantic': 4585, 'rhyme': 4586, 'conquer': 4587, 'flashi': 4588, 'alvin': 4589, '1981': 4590, 'obligatori': 4591, 'flirt': 4592, 'strongest': 4593, 'muscl': 4594, 'zane': 4595, 'widescreen': 4596, 'margin': 4597, 'harold': 4598, 'assert': 4599, 'messi': 4600, 'fascist': 4601, 'proport': 4602, 'mount': 4603, 'astronaut': 4604, 'transplant': 4605, 'shred': 4606, 'gasp': 4607, 'spinal': 4608, 'gabl': 4609, 'beard': 4610, 'dwarf': 4611, 'perman': 4612, 'spree': 4613, 'radiat': 4614, 'flag': 4615, 'shield': 4616, 'antagonist': 4617, 'keen': 4618, 'joker': 4619, 'preced': 4620, 'trivia': 4621, '1976': 4622, 'cush': 4623, 'down': 4624, 'corman': 4625, 'mutual': 4626, 'faint': 4627, 'schlock': 4628, 'nolt': 4629, 'remad': 4630, 'cow': 4631, 'cohen': 4632, 'raj': 4633, 'resum': 4634, 'divin': 4635, 'deer': 4636, 'sensual': 4637, 'wield': 4638, 'discern': 4639, 'someday': 4640, 'carey': 4641, 'scandal': 4642, 'inflict': 4643, 'repris': 4644, 'flock': 4645, 'triangl': 4646, 'departur': 4647, 'mol': 4648, 'vaniti': 4649, 'ritchi': 4650, 'barn': 4651, '95': 4652, '28': 4653, 'danish': 4654, 'bitten': 4655, 'neurot': 4656, 'hara': 4657, 'persuad': 4658, 'interestingli': 4659, 'info': 4660, 'off': 4661, 'claud': 4662, 'aborigin': 4663, '1945': 4664, 'instruct': 4665, 'brush': 4666, 'mobil': 4667, 'www': 4668, 'boob': 4669, 'strive': 4670, 'archiv': 4671, 'fishburn': 4672, 'bachelor': 4673, 'hilar': 4674, 'banter': 4675, 'mobster': 4676, 'hug': 4677, 'dim': 4678, 'bate': 4679, 'jade': 4680, 'biblic': 4681, 'ish': 4682, 'submit': 4683, 'timberlak': 4684, 'dylan': 4685, 'miracul': 4686, 'cb': 4687, 'senior': 4688, 'kathryn': 4689, 'cliffhang': 4690, 'helm': 4691, 'traffic': 4692, 'carlo': 4693, 'casino': 4694, 'earnest': 4695, 'cycl': 4696, 'rot': 4697, 'hapless': 4698, 'frontier': 4699, 'prophet': 4700, 'luka': 4701, 'heartwarm': 4702, 'colin': 4703, 'anton': 4704, 'undermin': 4705, 'europa': 4706, 'dame': 4707, 'cher': 4708, 'proclaim': 4709, 'fragil': 4710, 'neill': 4711, 'pacif': 4712, 'axe': 4713, 'artwork': 4714, 'parson': 4715, 'pickford': 4716, 'clad': 4717, 'melissa': 4718, 'harrison': 4719, 'recit': 4720, 'loretta': 4721, 'vibrant': 4722, 'pixar': 4723, 'wendigo': 4724, 'pc': 4725, 'feast': 4726, 'northern': 4727, 'venom': 4728, 'alexandr': 4729, 'legitim': 4730, 'marlon': 4731, 'articl': 4732, 'winchest': 4733, 'static': 4734, 'orphan': 4735, 'antholog': 4736, 'seedi': 4737, 'mathieu': 4738, 'token': 4739, 'sicken': 4740, 'flavor': 4741, 'illus': 4742, 'redneck': 4743, 'vile': 4744, 'uma': 4745, 'wardrob': 4746, 'razor': 4747, 'estrang': 4748, 'lucil': 4749, 'http': 4750, 'blatantli': 4751, 'bikini': 4752, 'holocaust': 4753, 'cerebr': 4754, 'trier': 4755, 'electron': 4756, 'nope': 4757, 'breakfast': 4758, 'aris': 4759, 'jordan': 4760, 'mason': 4761, 'eli': 4762, 'choke': 4763, 'lui': 4764, 'vanessa': 4765, 'bondag': 4766, 'toronto': 4767, 'akin': 4768, 'misfortun': 4769, 'shepherd': 4770, 'rooki': 4771, 'foil': 4772, 'milo': 4773, 'jo': 4774, 'isra': 4775, 'glare': 4776, 'clinic': 4777, 'highway': 4778, 'psych': 4779, 'ceremoni': 4780, 'cartoonish': 4781, 'frog': 4782, 'disregard': 4783, 'tack': 4784, 'oppon': 4785, 'leather': 4786, 'feminin': 4787, 'abund': 4788, 'huston': 4789, 'outdat': 4790, 'peer': 4791, 'charlton': 4792, 'ideolog': 4793, 'swept': 4794, 'fifth': 4795, 'linear': 4796, 'gilbert': 4797, 'shorter': 4798, 'gunga': 4799, 'deem': 4800, 'retriev': 4801, 'dudley': 4802, 'howl': 4803, 'comprehend': 4804, 'affleck': 4805, 'wrestler': 4806, 'magician': 4807, 'styliz': 4808, 'knightley': 4809, 'nightclub': 4810, 'audrey': 4811, 'boyer': 4812, 'turd': 4813, 'smack': 4814, 'spawn': 4815, 'senat': 4816, 'spine': 4817, 'cuban': 4818, 'cemeteri': 4819, 'greet': 4820, 'conrad': 4821, 'btw': 4822, 'bogu': 4823, 'chip': 4824, '1991': 4825, 'energet': 4826, 'summar': 4827, 'bastard': 4828, 'monument': 4829, 'potter': 4830, 'plate': 4831, 'evolut': 4832, 'boo': 4833, 'toe': 4834, '4th': 4835, 'lifeless': 4836, 'newer': 4837, 'tara': 4838, 'collector': 4839, 'lighter': 4840, 'salman': 4841, 'snatch': 4842, 'sleaz': 4843, 'durat': 4844, 'compris': 4845, 'breakdown': 4846, 'lavish': 4847, 'deliver': 4848, 'mitch': 4849, 'corn': 4850, 'einstein': 4851, 'uniformli': 4852, 'client': 4853, '1994': 4854, 'moe': 4855, 'phenomen': 4856, 'whack': 4857, 'goldsworthi': 4858, 'braveheart': 4859, 'spectacl': 4860, 'armstrong': 4861, 'capot': 4862, 'cecil': 4863, 'gilliam': 4864, 'neatli': 4865, 'kazan': 4866, '1977': 4867, 'luxuri': 4868, 'signal': 4869, 'inaccuraci': 4870, 'bori': 4871, 'firmli': 4872, 'eleven': 4873, 'ol': 4874, 'pronounc': 4875, 'bulk': 4876, 'wtf': 4877, 'jule': 4878, 'judd': 4879, 'jare': 4880, 'clara': 4881, 'sorrow': 4882, 'fluid': 4883, 'lex': 4884, 'jedi': 4885, 'evelyn': 4886, 'replay': 4887, 'historian': 4888, 'trauma': 4889, 'jam': 4890, 'healthi': 4891, 'constitut': 4892, 'kent': 4893, 'belli': 4894, 'creek': 4895, 'undertak': 4896, 'alleg': 4897, 'occup': 4898, 'appl': 4899, 'mcqueen': 4900, 'undead': 4901, 'ie': 4902, 'embark': 4903, 'outright': 4904, 'liu': 4905, '1974': 4906, 'nina': 4907, 'randolph': 4908, 'blur': 4909, 'pioneer': 4910, 'miami': 4911, 'ash': 4912, 'truman': 4913, 'forgiven': 4914, 'unsuspect': 4915, 'congratul': 4916, 'inclus': 4917, 'goldblum': 4918, 'meal': 4919, 'tokyo': 4920, 'subtli': 4921, 'aussi': 4922, 'galaxi': 4923, 'sidewalk': 4924, 'porter': 4925, 'pepper': 4926, 'antonio': 4927, 'conan': 4928, 'id': 4929, 'cape': 4930, 'mum': 4931, 'bait': 4932, '1985': 4933, 'vain': 4934, 'knee': 4935, 'kiddi': 4936, 'abound': 4937, 'carmen': 4938, 'roar': 4939, 'miniseri': 4940, 'spray': 4941, 'comprehens': 4942, 'groan': 4943, 'sacrif': 4944, 'curtain': 4945, 'relentless': 4946, 'fruit': 4947, 'decapit': 4948, 'basket': 4949, 'inaccur': 4950, 'comb': 4951, 'vignett': 4952, 'rosario': 4953, 'genet': 4954, 'propheci': 4955, 'unattract': 4956, 'bsg': 4957, 'palm': 4958, 'poker': 4959, 'lauren': 4960, 'lanc': 4961, 'walt': 4962, 'paula': 4963, 'detach': 4964, 'victorian': 4965, 'spill': 4966, 'omin': 4967, 'rapidli': 4968, 'optimist': 4969, 'hostil': 4970, 'handicap': 4971, 'weaker': 4972, 'masterson': 4973, 'jill': 4974, '21st': 4975, 'bravo': 4976, 'profil': 4977, 'sparkl': 4978, 'orchestr': 4979, 'macabr': 4980, 'vastli': 4981, 'substanti': 4982, 'turtl': 4983, 'frontal': 4984, 'bach': 4985, 'growth': 4986, 'verg': 4987, 'motorcycl': 4988, 'evan': 4989, 'mice': 4990, 'asset': 4991, 'weari': 4992, 'sophi': 4993, 'drone': 4994, 'modest': 4995, 'hackman': 4996, 'ingrid': 4997, 'monti': 4998, 'incorrect': 4999}\n"
     ]
    }
   ],
   "source": [
    "word_dict = build_dict(train_X)\n",
    "print(word_dict)"
   ]
  },
  {
   "cell_type": "markdown",
   "metadata": {},
   "source": [
    "**Question:** What are the five most frequently appearing (tokenized) words in the training set? Does it makes sense that these words appear frequently in the training set?"
   ]
  },
  {
   "cell_type": "markdown",
   "metadata": {},
   "source": [
    "**Answer:** movi, film, one, like, time.  It makes sense that movi and film are frequently used since this is a dataset of reviews.  'like' also makes sense since a lot of people use it a lot while speaking, and time also makes sense since all movies have a duration.  'one' is a bit odd, but if you think about it, it is also a word that we unconciously use a lot."
   ]
  },
  {
   "cell_type": "code",
   "execution_count": 14,
   "metadata": {},
   "outputs": [
    {
     "name": "stdout",
     "output_type": "stream",
     "text": [
      "movi\n",
      "film\n",
      "one\n",
      "like\n",
      "time\n"
     ]
    }
   ],
   "source": [
    "# TODO: Use this space to determine the five most frequently appearing words in the training set.\n",
    "for index, (key, value) in enumerate(word_dict.items()):\n",
    "    if index < 5:\n",
    "        print(key)"
   ]
  },
  {
   "cell_type": "markdown",
   "metadata": {},
   "source": [
    "### Save `word_dict`\n",
    "\n",
    "Later on when we construct an endpoint which processes a submitted review we will need to make use of the `word_dict` which we have created. As such, we will save it to a file now for future use."
   ]
  },
  {
   "cell_type": "code",
   "execution_count": 15,
   "metadata": {},
   "outputs": [],
   "source": [
    "data_dir = '../data/pytorch' # The folder we will use for storing data\n",
    "if not os.path.exists(data_dir): # Make sure that the folder exists\n",
    "    os.makedirs(data_dir)"
   ]
  },
  {
   "cell_type": "code",
   "execution_count": 16,
   "metadata": {},
   "outputs": [],
   "source": [
    "with open(os.path.join(data_dir, 'word_dict.pkl'), \"wb\") as f:\n",
    "    pickle.dump(word_dict, f)"
   ]
  },
  {
   "cell_type": "markdown",
   "metadata": {},
   "source": [
    "### Transform the reviews\n",
    "\n",
    "Now that we have our word dictionary which allows us to transform the words appearing in the reviews into integers, it is time to make use of it and convert our reviews to their integer sequence representation, making sure to pad or truncate to a fixed length, which in our case is `500`."
   ]
  },
  {
   "cell_type": "code",
   "execution_count": 17,
   "metadata": {},
   "outputs": [],
   "source": [
    "def convert_and_pad(word_dict, sentence, pad=500):\n",
    "    NOWORD = 0 # We will use 0 to represent the 'no word' category\n",
    "    INFREQ = 1 # and we use 1 to represent the infrequent words, i.e., words not appearing in word_dict\n",
    "    \n",
    "    working_sentence = [NOWORD] * pad\n",
    "    \n",
    "    for word_index, word in enumerate(sentence[:pad]):\n",
    "        if word in word_dict:\n",
    "            working_sentence[word_index] = word_dict[word]\n",
    "        else:\n",
    "            working_sentence[word_index] = INFREQ\n",
    "            \n",
    "    return working_sentence, min(len(sentence), pad)\n",
    "\n",
    "def convert_and_pad_data(word_dict, data, pad=500):\n",
    "    result = []\n",
    "    lengths = []\n",
    "    \n",
    "    for sentence in data:\n",
    "        converted, leng = convert_and_pad(word_dict, sentence, pad)\n",
    "        result.append(converted)\n",
    "        lengths.append(leng)\n",
    "        \n",
    "    return np.array(result), np.array(lengths)"
   ]
  },
  {
   "cell_type": "code",
   "execution_count": 18,
   "metadata": {},
   "outputs": [],
   "source": [
    "train_X, train_X_len = convert_and_pad_data(word_dict, train_X)\n",
    "test_X, test_X_len = convert_and_pad_data(word_dict, test_X)"
   ]
  },
  {
   "cell_type": "markdown",
   "metadata": {},
   "source": [
    "As a quick check to make sure that things are working as intended, check to see what one of the reviews in the training set looks like after having been processeed. Does this look reasonable? What is the length of a review in the training set?"
   ]
  },
  {
   "cell_type": "code",
   "execution_count": 19,
   "metadata": {},
   "outputs": [
    {
     "name": "stdout",
     "output_type": "stream",
     "text": [
      "[ 634   51   47 2534 2423  135 1913   85  157  132    1   47    2   85\n",
      "   15    8  196   27    1  443    2   28   99  716 2462  312  486    1\n",
      "    9    1  178   12  442  368    1   25   64   34  419 2534 2423  353\n",
      "  785  505  116 3330   52 3330 2730 1586  306  463 4214  218  760  666\n",
      "  126  411    1  321  420 1598  162 3416  283    8 2245  439  349  872\n",
      "  524  604  361    1  951   11    1   40  211 1113  536  419 1288    3\n",
      "  130 3376 2186  233  540 2793    1  118  651   36   42   23   75 1637\n",
      "  442  640  524  146  985  270  353  807  163   15  476  215   12 1444\n",
      "  917  452 1068 1529    3    0    0    0    0    0    0    0    0    0\n",
      "    0    0    0    0    0    0    0    0    0    0    0    0    0    0\n",
      "    0    0    0    0    0    0    0    0    0    0    0    0    0    0\n",
      "    0    0    0    0    0    0    0    0    0    0    0    0    0    0\n",
      "    0    0    0    0    0    0    0    0    0    0    0    0    0    0\n",
      "    0    0    0    0    0    0    0    0    0    0    0    0    0    0\n",
      "    0    0    0    0    0    0    0    0    0    0    0    0    0    0\n",
      "    0    0    0    0    0    0    0    0    0    0    0    0    0    0\n",
      "    0    0    0    0    0    0    0    0    0    0    0    0    0    0\n",
      "    0    0    0    0    0    0    0    0    0    0    0    0    0    0\n",
      "    0    0    0    0    0    0    0    0    0    0    0    0    0    0\n",
      "    0    0    0    0    0    0    0    0    0    0    0    0    0    0\n",
      "    0    0    0    0    0    0    0    0    0    0    0    0    0    0\n",
      "    0    0    0    0    0    0    0    0    0    0    0    0    0    0\n",
      "    0    0    0    0    0    0    0    0    0    0    0    0    0    0\n",
      "    0    0    0    0    0    0    0    0    0    0    0    0    0    0\n",
      "    0    0    0    0    0    0    0    0    0    0    0    0    0    0\n",
      "    0    0    0    0    0    0    0    0    0    0    0    0    0    0\n",
      "    0    0    0    0    0    0    0    0    0    0    0    0    0    0\n",
      "    0    0    0    0    0    0    0    0    0    0    0    0    0    0\n",
      "    0    0    0    0    0    0    0    0    0    0    0    0    0    0\n",
      "    0    0    0    0    0    0    0    0    0    0    0    0    0    0\n",
      "    0    0    0    0    0    0    0    0    0    0    0    0    0    0\n",
      "    0    0    0    0    0    0    0    0    0    0    0    0    0    0\n",
      "    0    0    0    0    0    0    0    0    0    0    0    0    0    0\n",
      "    0    0    0    0    0    0    0    0    0    0    0    0    0    0\n",
      "    0    0    0    0    0    0    0    0    0    0    0    0    0    0\n",
      "    0    0    0    0    0    0    0    0    0    0]\n",
      "length:\t 500\n"
     ]
    }
   ],
   "source": [
    "# Use this cell to examine one of the processed reviews to make sure everything is working as intended.\n",
    "print(train_X[0])\n",
    "print(\"length:\\t\", len(train_X[0]))"
   ]
  },
  {
   "cell_type": "markdown",
   "metadata": {},
   "source": [
    "**Question:** In the cells above we use the `preprocess_data` and `convert_and_pad_data` methods to process both the training and testing set. Why or why not might this be a problem?"
   ]
  },
  {
   "cell_type": "markdown",
   "metadata": {},
   "source": [
    "**Answer:**  The preprocessing is usually used so that your model learns from the most important part of the data set, so the model should benefit from this preprocessing.  However during preprocessing one cannot help but lose some of the data that might be useful for the model to learn.  However, the information we are mostly losing here is the punctuation, any very frequently used words (stop list), and words that skip the 500 length, but 500 words in a sentence should already be enough for a model to learn.  "
   ]
  },
  {
   "cell_type": "markdown",
   "metadata": {},
   "source": [
    "## Step 3: Upload the data to S3\n",
    "\n",
    "As in the XGBoost notebook, we will need to upload the training dataset to S3 in order for our training code to access it. For now we will save it locally and we will upload to S3 later on.\n",
    "\n",
    "### Save the processed training dataset locally\n",
    "\n",
    "It is important to note the format of the data that we are saving as we will need to know it when we write the training code. In our case, each row of the dataset has the form `label`, `length`, `review[500]` where `review[500]` is a sequence of `500` integers representing the words in the review."
   ]
  },
  {
   "cell_type": "code",
   "execution_count": 20,
   "metadata": {},
   "outputs": [],
   "source": [
    "import pandas as pd\n",
    "    \n",
    "pd.concat([pd.DataFrame(train_y), pd.DataFrame(train_X_len), pd.DataFrame(train_X)], axis=1) \\\n",
    "        .to_csv(os.path.join(data_dir, 'train.csv'), header=False, index=False)"
   ]
  },
  {
   "cell_type": "markdown",
   "metadata": {},
   "source": [
    "### Uploading the training data\n",
    "\n",
    "\n",
    "Next, we need to upload the training data to the SageMaker default S3 bucket so that we can provide access to it while training our model."
   ]
  },
  {
   "cell_type": "code",
   "execution_count": 21,
   "metadata": {},
   "outputs": [],
   "source": [
    "import sagemaker\n",
    "\n",
    "sagemaker_session = sagemaker.Session()\n",
    "\n",
    "bucket = sagemaker_session.default_bucket()\n",
    "prefix = 'sagemaker/sentiment_rnn'\n",
    "\n",
    "role = sagemaker.get_execution_role()"
   ]
  },
  {
   "cell_type": "code",
   "execution_count": 22,
   "metadata": {},
   "outputs": [],
   "source": [
    "input_data = sagemaker_session.upload_data(path=data_dir, bucket=bucket, key_prefix=prefix)"
   ]
  },
  {
   "cell_type": "markdown",
   "metadata": {},
   "source": [
    "**NOTE:** The cell above uploads the entire contents of our data directory. This includes the `word_dict.pkl` file. This is fortunate as we will need this later on when we create an endpoint that accepts an arbitrary review. For now, we will just take note of the fact that it resides in the data directory (and so also in the S3 training bucket) and that we will need to make sure it gets saved in the model directory."
   ]
  },
  {
   "cell_type": "markdown",
   "metadata": {},
   "source": [
    "## Step 4: Build and Train the PyTorch Model\n",
    "\n",
    "In the XGBoost notebook we discussed what a model is in the SageMaker framework. In particular, a model comprises three objects\n",
    "\n",
    " - Model Artifacts,\n",
    " - Training Code, and\n",
    " - Inference Code,\n",
    " \n",
    "each of which interact with one another. In the XGBoost example we used training and inference code that was provided by Amazon. Here we will still be using containers provided by Amazon with the added benefit of being able to include our own custom code.\n",
    "\n",
    "We will start by implementing our own neural network in PyTorch along with a training script. For the purposes of this project we have provided the necessary model object in the `model.py` file, inside of the `train` folder. You can see the provided implementation by running the cell below."
   ]
  },
  {
   "cell_type": "code",
   "execution_count": 23,
   "metadata": {},
   "outputs": [
    {
     "name": "stdout",
     "output_type": "stream",
     "text": [
      "\u001b[34mimport\u001b[39;49;00m \u001b[04m\u001b[36mtorch\u001b[39;49;00m\u001b[04m\u001b[36m.\u001b[39;49;00m\u001b[04m\u001b[36mnn\u001b[39;49;00m \u001b[34mas\u001b[39;49;00m \u001b[04m\u001b[36mnn\u001b[39;49;00m\r\n",
      "\r\n",
      "\u001b[34mclass\u001b[39;49;00m \u001b[04m\u001b[32mLSTMClassifier\u001b[39;49;00m(nn.Module):\r\n",
      "    \u001b[33m\"\"\"\u001b[39;49;00m\r\n",
      "\u001b[33m    This is the simple RNN model we will be using to perform Sentiment Analysis.\u001b[39;49;00m\r\n",
      "\u001b[33m    \"\"\"\u001b[39;49;00m\r\n",
      "\r\n",
      "    \u001b[34mdef\u001b[39;49;00m \u001b[32m__init__\u001b[39;49;00m(\u001b[36mself\u001b[39;49;00m, embedding_dim, hidden_dim, vocab_size):\r\n",
      "        \u001b[33m\"\"\"\u001b[39;49;00m\r\n",
      "\u001b[33m        Initialize the model by settingg up the various layers.\u001b[39;49;00m\r\n",
      "\u001b[33m        \"\"\"\u001b[39;49;00m\r\n",
      "        \u001b[36msuper\u001b[39;49;00m(LSTMClassifier, \u001b[36mself\u001b[39;49;00m).\u001b[32m__init__\u001b[39;49;00m()\r\n",
      "\r\n",
      "        \u001b[36mself\u001b[39;49;00m.embedding = nn.Embedding(vocab_size, embedding_dim, padding_idx=\u001b[34m0\u001b[39;49;00m)\r\n",
      "        \u001b[36mself\u001b[39;49;00m.lstm = nn.LSTM(embedding_dim, hidden_dim)\r\n",
      "        \u001b[36mself\u001b[39;49;00m.dense = nn.Linear(in_features=hidden_dim, out_features=\u001b[34m1\u001b[39;49;00m)\r\n",
      "        \u001b[36mself\u001b[39;49;00m.sig = nn.Sigmoid()\r\n",
      "        \r\n",
      "        \u001b[36mself\u001b[39;49;00m.word_dict = \u001b[34mNone\u001b[39;49;00m\r\n",
      "\r\n",
      "    \u001b[34mdef\u001b[39;49;00m \u001b[32mforward\u001b[39;49;00m(\u001b[36mself\u001b[39;49;00m, x):\r\n",
      "        \u001b[33m\"\"\"\u001b[39;49;00m\r\n",
      "\u001b[33m        Perform a forward pass of our model on some input.\u001b[39;49;00m\r\n",
      "\u001b[33m        \"\"\"\u001b[39;49;00m\r\n",
      "        x = x.t()\r\n",
      "        lengths = x[\u001b[34m0\u001b[39;49;00m,:]\r\n",
      "        reviews = x[\u001b[34m1\u001b[39;49;00m:,:]\r\n",
      "        embeds = \u001b[36mself\u001b[39;49;00m.embedding(reviews)\r\n",
      "        lstm_out, _ = \u001b[36mself\u001b[39;49;00m.lstm(embeds)\r\n",
      "        out = \u001b[36mself\u001b[39;49;00m.dense(lstm_out)\r\n",
      "        out = out[lengths - \u001b[34m1\u001b[39;49;00m, \u001b[36mrange\u001b[39;49;00m(\u001b[36mlen\u001b[39;49;00m(lengths))]\r\n",
      "        \u001b[34mreturn\u001b[39;49;00m \u001b[36mself\u001b[39;49;00m.sig(out.squeeze())\r\n"
     ]
    }
   ],
   "source": [
    "!pygmentize train/model.py"
   ]
  },
  {
   "cell_type": "markdown",
   "metadata": {},
   "source": [
    "The important takeaway from the implementation provided is that there are three parameters that we may wish to tweak to improve the performance of our model. These are the embedding dimension, the hidden dimension and the size of the vocabulary. We will likely want to make these parameters configurable in the training script so that if we wish to modify them we do not need to modify the script itself. We will see how to do this later on. To start we will write some of the training code in the notebook so that we can more easily diagnose any issues that arise.\n",
    "\n",
    "First we will load a small portion of the training data set to use as a sample. It would be very time consuming to try and train the model completely in the notebook as we do not have access to a gpu and the compute instance that we are using is not particularly powerful. However, we can work on a small bit of the data to get a feel for how our training script is behaving."
   ]
  },
  {
   "cell_type": "code",
   "execution_count": 24,
   "metadata": {},
   "outputs": [],
   "source": [
    "import torch\n",
    "import torch.utils.data\n",
    "\n",
    "# Read in only the first 250 rows\n",
    "train_sample = pd.read_csv(os.path.join(data_dir, 'train.csv'), header=None, names=None, nrows=250)\n",
    "\n",
    "# Turn the input pandas dataframe into tensors\n",
    "train_sample_y = torch.from_numpy(train_sample[[0]].values).float().squeeze()\n",
    "train_sample_X = torch.from_numpy(train_sample.drop([0], axis=1).values).long()\n",
    "\n",
    "# Build the dataset\n",
    "train_sample_ds = torch.utils.data.TensorDataset(train_sample_X, train_sample_y)\n",
    "# Build the dataloader\n",
    "train_sample_dl = torch.utils.data.DataLoader(train_sample_ds, batch_size=50)"
   ]
  },
  {
   "cell_type": "markdown",
   "metadata": {},
   "source": [
    "### (TODO) Writing the training method\n",
    "\n",
    "Next we need to write the training code itself. This should be very similar to training methods that you have written before to train PyTorch models. We will leave any difficult aspects such as model saving / loading and parameter loading until a little later."
   ]
  },
  {
   "cell_type": "code",
   "execution_count": 25,
   "metadata": {},
   "outputs": [],
   "source": [
    "def train(model, train_loader, epochs, optimizer, loss_fn, device):\n",
    "    for epoch in range(1, epochs + 1):\n",
    "        model.train()\n",
    "        total_loss = 0\n",
    "        for batch in train_loader:         \n",
    "            batch_X, batch_y = batch\n",
    "            \n",
    "            batch_X = batch_X.to(device)\n",
    "            batch_y = batch_y.to(device)\n",
    "            \n",
    "            # TODO: Complete this train method to train the model provided.\n",
    "            optimizer.zero_grad()\n",
    "            out = model(batch_X)\n",
    "            loss = loss_fn(out, batch_y)\n",
    "            loss.backward()\n",
    "            optimizer.step()\n",
    "            \n",
    "            total_loss += loss.data.item()\n",
    "        print(\"Epoch: {}, BCELoss: {}\".format(epoch, total_loss / len(train_loader)))"
   ]
  },
  {
   "cell_type": "markdown",
   "metadata": {},
   "source": [
    "Supposing we have the training method above, we will test that it is working by writing a bit of code in the notebook that executes our training method on the small sample training set that we loaded earlier. The reason for doing this in the notebook is so that we have an opportunity to fix any errors that arise early when they are easier to diagnose."
   ]
  },
  {
   "cell_type": "code",
   "execution_count": 26,
   "metadata": {},
   "outputs": [
    {
     "name": "stdout",
     "output_type": "stream",
     "text": [
      "Epoch: 1, BCELoss: 0.6925095438957214\n",
      "Epoch: 2, BCELoss: 0.6848717927932739\n",
      "Epoch: 3, BCELoss: 0.678244149684906\n",
      "Epoch: 4, BCELoss: 0.6708423376083374\n",
      "Epoch: 5, BCELoss: 0.6617023110389709\n"
     ]
    }
   ],
   "source": [
    "import torch.optim as optim\n",
    "from train.model import LSTMClassifier\n",
    "\n",
    "device = torch.device(\"cuda\" if torch.cuda.is_available() else \"cpu\")\n",
    "model = LSTMClassifier(32, 100, 5000).to(device)\n",
    "optimizer = optim.Adam(model.parameters())\n",
    "loss_fn = torch.nn.BCELoss()\n",
    "\n",
    "train(model, train_sample_dl, 5, optimizer, loss_fn, device)"
   ]
  },
  {
   "cell_type": "markdown",
   "metadata": {},
   "source": [
    "In order to construct a PyTorch model using SageMaker we must provide SageMaker with a training script. We may optionally include a directory which will be copied to the container and from which our training code will be run. When the training container is executed it will check the uploaded directory (if there is one) for a `requirements.txt` file and install any required Python libraries, after which the training script will be run."
   ]
  },
  {
   "cell_type": "markdown",
   "metadata": {},
   "source": [
    "### (TODO) Training the model\n",
    "\n",
    "When a PyTorch model is constructed in SageMaker, an entry point must be specified. This is the Python file which will be executed when the model is trained. Inside of the `train` directory is a file called `train.py` which has been provided and which contains most of the necessary code to train our model. The only thing that is missing is the implementation of the `train()` method which you wrote earlier in this notebook.\n",
    "\n",
    "**TODO**: Copy the `train()` method written above and paste it into the `train/train.py` file where required.\n",
    "\n",
    "The way that SageMaker passes hyperparameters to the training script is by way of arguments. These arguments can then be parsed and used in the training script. To see how this is done take a look at the provided `train/train.py` file."
   ]
  },
  {
   "cell_type": "code",
   "execution_count": 27,
   "metadata": {},
   "outputs": [
    {
     "name": "stdout",
     "output_type": "stream",
     "text": [
      "3.6.10\n"
     ]
    }
   ],
   "source": [
    "from platform import python_version\n",
    "\n",
    "print(python_version())\n"
   ]
  },
  {
   "cell_type": "code",
   "execution_count": 28,
   "metadata": {},
   "outputs": [],
   "source": [
    "from sagemaker.pytorch import PyTorch\n",
    "\n",
    "estimator = PyTorch(entry_point=\"train.py\",\n",
    "                    source_dir=\"train\",\n",
    "                    role=role,\n",
    "                    framework_version='0.4.0',\n",
    "                    #py_version = \"py3\",\n",
    "                    train_instance_count=1,\n",
    "                    train_instance_type='ml.p2.xlarge',\n",
    "                    hyperparameters={\n",
    "                        'epochs': 10,\n",
    "                        'hidden_dim': 200,\n",
    "                    })"
   ]
  },
  {
   "cell_type": "code",
   "execution_count": 39,
   "metadata": {
    "scrolled": true
   },
   "outputs": [
    {
     "name": "stderr",
     "output_type": "stream",
     "text": [
      "'create_image_uri' will be deprecated in favor of 'ImageURIProvider' class in SageMaker Python SDK v2.\n",
      "'s3_input' class will be renamed to 'TrainingInput' in SageMaker Python SDK v2.\n",
      "'create_image_uri' will be deprecated in favor of 'ImageURIProvider' class in SageMaker Python SDK v2.\n"
     ]
    },
    {
     "name": "stdout",
     "output_type": "stream",
     "text": [
      "2020-12-22 08:37:23 Starting - Starting the training job...\n",
      "2020-12-22 08:37:26 Starting - Launching requested ML instances......\n",
      "2020-12-22 08:38:31 Starting - Preparing the instances for training.........\n",
      "2020-12-22 08:39:55 Downloading - Downloading input data...\n",
      "2020-12-22 08:40:33 Training - Downloading the training image..\u001b[34mbash: cannot set terminal process group (-1): Inappropriate ioctl for device\u001b[0m\n",
      "\u001b[34mbash: no job control in this shell\u001b[0m\n",
      "\u001b[34m2020-12-22 08:41:01,256 sagemaker-containers INFO     Imported framework sagemaker_pytorch_container.training\u001b[0m\n",
      "\u001b[34m2020-12-22 08:41:01,283 sagemaker_pytorch_container.training INFO     Block until all host DNS lookups succeed.\u001b[0m\n",
      "\u001b[34m2020-12-22 08:41:07,527 sagemaker_pytorch_container.training INFO     Invoking user training script.\u001b[0m\n",
      "\u001b[34m2020-12-22 08:41:07,775 sagemaker-containers INFO     Module train does not provide a setup.py. \u001b[0m\n",
      "\u001b[34mGenerating setup.py\u001b[0m\n",
      "\u001b[34m2020-12-22 08:41:07,775 sagemaker-containers INFO     Generating setup.cfg\u001b[0m\n",
      "\u001b[34m2020-12-22 08:41:07,776 sagemaker-containers INFO     Generating MANIFEST.in\u001b[0m\n",
      "\u001b[34m2020-12-22 08:41:07,776 sagemaker-containers INFO     Installing module with the following command:\u001b[0m\n",
      "\u001b[34m/usr/bin/python -m pip install -U . -r requirements.txt\u001b[0m\n",
      "\u001b[34mProcessing /opt/ml/code\u001b[0m\n",
      "\u001b[34mCollecting pandas (from -r requirements.txt (line 1))\n",
      "  Downloading https://files.pythonhosted.org/packages/74/24/0cdbf8907e1e3bc5a8da03345c23cbed7044330bb8f73bb12e711a640a00/pandas-0.24.2-cp35-cp35m-manylinux1_x86_64.whl (10.0MB)\u001b[0m\n",
      "\u001b[34mCollecting numpy (from -r requirements.txt (line 2))\u001b[0m\n",
      "\u001b[34m  Downloading https://files.pythonhosted.org/packages/b5/36/88723426b4ff576809fec7d73594fe17a35c27f8d01f93637637a29ae25b/numpy-1.18.5-cp35-cp35m-manylinux1_x86_64.whl (19.9MB)\u001b[0m\n",
      "\u001b[34mCollecting nltk (from -r requirements.txt (line 3))\n",
      "  Downloading https://files.pythonhosted.org/packages/92/75/ce35194d8e3022203cca0d2f896dbb88689f9b3fce8e9f9cff942913519d/nltk-3.5.zip (1.4MB)\u001b[0m\n",
      "\u001b[34mCollecting beautifulsoup4 (from -r requirements.txt (line 4))\n",
      "  Downloading https://files.pythonhosted.org/packages/d1/41/e6495bd7d3781cee623ce23ea6ac73282a373088fcd0ddc809a047b18eae/beautifulsoup4-4.9.3-py3-none-any.whl (115kB)\u001b[0m\n",
      "\u001b[34mCollecting html5lib (from -r requirements.txt (line 5))\n",
      "  Downloading https://files.pythonhosted.org/packages/6c/dd/a834df6482147d48e225a49515aabc28974ad5a4ca3215c18a882565b028/html5lib-1.1-py2.py3-none-any.whl (112kB)\u001b[0m\n",
      "\u001b[34mRequirement already satisfied, skipping upgrade: python-dateutil>=2.5.0 in /usr/local/lib/python3.5/dist-packages (from pandas->-r requirements.txt (line 1)) (2.7.5)\u001b[0m\n",
      "\u001b[34mCollecting pytz>=2011k (from pandas->-r requirements.txt (line 1))\n",
      "  Downloading https://files.pythonhosted.org/packages/12/f8/ff09af6ff61a3efaad5f61ba5facdf17e7722c4393f7d8a66674d2dbd29f/pytz-2020.4-py2.py3-none-any.whl (509kB)\u001b[0m\n",
      "\u001b[34mRequirement already satisfied, skipping upgrade: click in /usr/local/lib/python3.5/dist-packages (from nltk->-r requirements.txt (line 3)) (7.0)\u001b[0m\n",
      "\u001b[34mCollecting joblib (from nltk->-r requirements.txt (line 3))\n",
      "  Downloading https://files.pythonhosted.org/packages/28/5c/cf6a2b65a321c4a209efcdf64c2689efae2cb62661f8f6f4bb28547cf1bf/joblib-0.14.1-py2.py3-none-any.whl (294kB)\u001b[0m\n",
      "\u001b[34mCollecting regex (from nltk->-r requirements.txt (line 3))\u001b[0m\n",
      "\n",
      "2020-12-22 08:41:00 Training - Training image download completed. Training in progress.\u001b[34m  Downloading https://files.pythonhosted.org/packages/2e/e4/3447fed9ab29944333f48730ecff4dca92f0868c5b188d6ab2b2078e32c2/regex-2020.11.13.tar.gz (694kB)\u001b[0m\n",
      "\u001b[34mCollecting tqdm (from nltk->-r requirements.txt (line 3))\n",
      "  Downloading https://files.pythonhosted.org/packages/8a/54/115f0c28a61d56674c3a5e05c46d6c3523ad196e1dcd3e2d8b119026df36/tqdm-4.54.1-py2.py3-none-any.whl (69kB)\u001b[0m\n",
      "\u001b[34mCollecting soupsieve>1.2; python_version >= \"3.0\" (from beautifulsoup4->-r requirements.txt (line 4))\n",
      "  Downloading https://files.pythonhosted.org/packages/02/fb/1c65691a9aeb7bd6ac2aa505b84cb8b49ac29c976411c6ab3659425e045f/soupsieve-2.1-py3-none-any.whl\u001b[0m\n",
      "\u001b[34mCollecting webencodings (from html5lib->-r requirements.txt (line 5))\n",
      "  Downloading https://files.pythonhosted.org/packages/f4/24/2a3e3df732393fed8b3ebf2ec078f05546de641fe1b667ee316ec1dcf3b7/webencodings-0.5.1-py2.py3-none-any.whl\u001b[0m\n",
      "\u001b[34mRequirement already satisfied, skipping upgrade: six>=1.9 in /usr/local/lib/python3.5/dist-packages (from html5lib->-r requirements.txt (line 5)) (1.11.0)\u001b[0m\n",
      "\u001b[34mBuilding wheels for collected packages: nltk, train, regex\n",
      "  Running setup.py bdist_wheel for nltk: started\u001b[0m\n",
      "\u001b[34m  Running setup.py bdist_wheel for nltk: finished with status 'done'\n",
      "  Stored in directory: /root/.cache/pip/wheels/ae/8c/3f/b1fe0ba04555b08b57ab52ab7f86023639a526d8bc8d384306\n",
      "  Running setup.py bdist_wheel for train: started\n",
      "  Running setup.py bdist_wheel for train: finished with status 'done'\n",
      "  Stored in directory: /tmp/pip-ephem-wheel-cache-r8c9y2ib/wheels/35/24/16/37574d11bf9bde50616c67372a334f94fa8356bc7164af8ca3\n",
      "  Running setup.py bdist_wheel for regex: started\u001b[0m\n",
      "\u001b[34m  Running setup.py bdist_wheel for regex: finished with status 'done'\n",
      "  Stored in directory: /root/.cache/pip/wheels/27/f6/66/a4243e485a0ebc73dc59033ae26c48e82526f77dbfe158ac59\u001b[0m\n",
      "\u001b[34mSuccessfully built nltk train regex\u001b[0m\n",
      "\u001b[34mInstalling collected packages: pytz, numpy, pandas, joblib, regex, tqdm, nltk, soupsieve, beautifulsoup4, webencodings, html5lib, train\n",
      "  Found existing installation: numpy 1.15.4\n",
      "    Uninstalling numpy-1.15.4:\u001b[0m\n",
      "\u001b[34m      Successfully uninstalled numpy-1.15.4\u001b[0m\n",
      "\u001b[34mSuccessfully installed beautifulsoup4-4.9.3 html5lib-1.1 joblib-0.14.1 nltk-3.5 numpy-1.18.5 pandas-0.24.2 pytz-2020.4 regex-2020.11.13 soupsieve-2.1 tqdm-4.54.1 train-1.0.0 webencodings-0.5.1\u001b[0m\n",
      "\u001b[34mYou are using pip version 18.1, however version 20.3.3 is available.\u001b[0m\n",
      "\u001b[34mYou should consider upgrading via the 'pip install --upgrade pip' command.\u001b[0m\n",
      "\u001b[34m2020-12-22 08:41:31,011 sagemaker-containers INFO     Invoking user script\n",
      "\u001b[0m\n",
      "\u001b[34mTraining Env:\n",
      "\u001b[0m\n",
      "\u001b[34m{\n",
      "    \"output_dir\": \"/opt/ml/output\",\n",
      "    \"output_data_dir\": \"/opt/ml/output/data\",\n",
      "    \"input_config_dir\": \"/opt/ml/input/config\",\n",
      "    \"framework_module\": \"sagemaker_pytorch_container.training:main\",\n",
      "    \"log_level\": 20,\n",
      "    \"job_name\": \"sagemaker-pytorch-2020-12-22-08-37-23-438\",\n",
      "    \"additional_framework_parameters\": {},\n",
      "    \"network_interface_name\": \"eth0\",\n",
      "    \"output_intermediate_dir\": \"/opt/ml/output/intermediate\",\n",
      "    \"num_cpus\": 4,\n",
      "    \"current_host\": \"algo-1\",\n",
      "    \"model_dir\": \"/opt/ml/model\",\n",
      "    \"hyperparameters\": {\n",
      "        \"epochs\": 10,\n",
      "        \"hidden_dim\": 200\n",
      "    },\n",
      "    \"hosts\": [\n",
      "        \"algo-1\"\n",
      "    ],\n",
      "    \"resource_config\": {\n",
      "        \"hosts\": [\n",
      "            \"algo-1\"\n",
      "        ],\n",
      "        \"current_host\": \"algo-1\",\n",
      "        \"network_interface_name\": \"eth0\"\n",
      "    },\n",
      "    \"module_name\": \"train\",\n",
      "    \"input_dir\": \"/opt/ml/input\",\n",
      "    \"module_dir\": \"s3://sagemaker-eu-west-1-789224073726/sagemaker-pytorch-2020-12-22-08-37-23-438/source/sourcedir.tar.gz\",\n",
      "    \"input_data_config\": {\n",
      "        \"training\": {\n",
      "            \"TrainingInputMode\": \"File\",\n",
      "            \"RecordWrapperType\": \"None\",\n",
      "            \"S3DistributionType\": \"FullyReplicated\"\n",
      "        }\n",
      "    },\n",
      "    \"user_entry_point\": \"train.py\",\n",
      "    \"num_gpus\": 1,\n",
      "    \"channel_input_dirs\": {\n",
      "        \"training\": \"/opt/ml/input/data/training\"\n",
      "    }\u001b[0m\n",
      "\u001b[34m}\n",
      "\u001b[0m\n",
      "\u001b[34mEnvironment variables:\n",
      "\u001b[0m\n",
      "\u001b[34mSM_NUM_CPUS=4\u001b[0m\n",
      "\u001b[34mSM_RESOURCE_CONFIG={\"current_host\":\"algo-1\",\"hosts\":[\"algo-1\"],\"network_interface_name\":\"eth0\"}\u001b[0m\n",
      "\u001b[34mSM_OUTPUT_DIR=/opt/ml/output\u001b[0m\n",
      "\u001b[34mSM_OUTPUT_DATA_DIR=/opt/ml/output/data\u001b[0m\n",
      "\u001b[34mPYTHONPATH=/usr/local/bin:/usr/lib/python35.zip:/usr/lib/python3.5:/usr/lib/python3.5/plat-x86_64-linux-gnu:/usr/lib/python3.5/lib-dynload:/usr/local/lib/python3.5/dist-packages:/usr/lib/python3/dist-packages\u001b[0m\n",
      "\u001b[34mSM_MODULE_NAME=train\u001b[0m\n",
      "\u001b[34mSM_HPS={\"epochs\":10,\"hidden_dim\":200}\u001b[0m\n",
      "\u001b[34mSM_HP_HIDDEN_DIM=200\u001b[0m\n",
      "\u001b[34mSM_OUTPUT_INTERMEDIATE_DIR=/opt/ml/output/intermediate\u001b[0m\n",
      "\u001b[34mSM_NETWORK_INTERFACE_NAME=eth0\u001b[0m\n",
      "\u001b[34mSM_CURRENT_HOST=algo-1\u001b[0m\n",
      "\u001b[34mSM_USER_ENTRY_POINT=train.py\u001b[0m\n",
      "\u001b[34mSM_LOG_LEVEL=20\u001b[0m\n",
      "\u001b[34mSM_HOSTS=[\"algo-1\"]\u001b[0m\n",
      "\u001b[34mSM_USER_ARGS=[\"--epochs\",\"10\",\"--hidden_dim\",\"200\"]\u001b[0m\n",
      "\u001b[34mSM_FRAMEWORK_MODULE=sagemaker_pytorch_container.training:main\u001b[0m\n",
      "\u001b[34mSM_CHANNEL_TRAINING=/opt/ml/input/data/training\u001b[0m\n",
      "\u001b[34mSM_HP_EPOCHS=10\u001b[0m\n",
      "\u001b[34mSM_INPUT_DATA_CONFIG={\"training\":{\"RecordWrapperType\":\"None\",\"S3DistributionType\":\"FullyReplicated\",\"TrainingInputMode\":\"File\"}}\u001b[0m\n",
      "\u001b[34mSM_INPUT_CONFIG_DIR=/opt/ml/input/config\u001b[0m\n",
      "\u001b[34mSM_CHANNELS=[\"training\"]\u001b[0m\n",
      "\u001b[34mSM_FRAMEWORK_PARAMS={}\u001b[0m\n",
      "\u001b[34mSM_INPUT_DIR=/opt/ml/input\u001b[0m\n",
      "\u001b[34mSM_NUM_GPUS=1\u001b[0m\n",
      "\u001b[34mSM_MODULE_DIR=s3://sagemaker-eu-west-1-789224073726/sagemaker-pytorch-2020-12-22-08-37-23-438/source/sourcedir.tar.gz\u001b[0m\n",
      "\u001b[34mSM_TRAINING_ENV={\"additional_framework_parameters\":{},\"channel_input_dirs\":{\"training\":\"/opt/ml/input/data/training\"},\"current_host\":\"algo-1\",\"framework_module\":\"sagemaker_pytorch_container.training:main\",\"hosts\":[\"algo-1\"],\"hyperparameters\":{\"epochs\":10,\"hidden_dim\":200},\"input_config_dir\":\"/opt/ml/input/config\",\"input_data_config\":{\"training\":{\"RecordWrapperType\":\"None\",\"S3DistributionType\":\"FullyReplicated\",\"TrainingInputMode\":\"File\"}},\"input_dir\":\"/opt/ml/input\",\"job_name\":\"sagemaker-pytorch-2020-12-22-08-37-23-438\",\"log_level\":20,\"model_dir\":\"/opt/ml/model\",\"module_dir\":\"s3://sagemaker-eu-west-1-789224073726/sagemaker-pytorch-2020-12-22-08-37-23-438/source/sourcedir.tar.gz\",\"module_name\":\"train\",\"network_interface_name\":\"eth0\",\"num_cpus\":4,\"num_gpus\":1,\"output_data_dir\":\"/opt/ml/output/data\",\"output_dir\":\"/opt/ml/output\",\"output_intermediate_dir\":\"/opt/ml/output/intermediate\",\"resource_config\":{\"current_host\":\"algo-1\",\"hosts\":[\"algo-1\"],\"network_interface_name\":\"eth0\"},\"user_entry_point\":\"train.py\"}\u001b[0m\n",
      "\u001b[34mSM_MODEL_DIR=/opt/ml/model\n",
      "\u001b[0m\n",
      "\u001b[34mInvoking script with the following command:\n",
      "\u001b[0m\n",
      "\u001b[34m/usr/bin/python -m train --epochs 10 --hidden_dim 200\n",
      "\n",
      "\u001b[0m\n",
      "\u001b[34mUsing device cuda.\u001b[0m\n",
      "\u001b[34mGet train data loader.\u001b[0m\n",
      "\u001b[34mModel loaded with embedding_dim 32, hidden_dim 200, vocab_size 5000.\u001b[0m\n"
     ]
    },
    {
     "name": "stdout",
     "output_type": "stream",
     "text": [
      "\u001b[34mEpoch: 1, BCELoss: 0.6754103254298774\u001b[0m\n",
      "\u001b[34mEpoch: 2, BCELoss: 0.6259847052243291\u001b[0m\n",
      "\u001b[34mEpoch: 3, BCELoss: 0.5531741550990513\u001b[0m\n",
      "\u001b[34mEpoch: 4, BCELoss: 0.46398494316607103\u001b[0m\n",
      "\u001b[34mEpoch: 5, BCELoss: 0.40299363221441\u001b[0m\n",
      "\u001b[34mEpoch: 6, BCELoss: 0.38976021627990565\u001b[0m\n",
      "\u001b[34mEpoch: 7, BCELoss: 0.34235973504124856\u001b[0m\n",
      "\u001b[34mEpoch: 8, BCELoss: 0.31808498562598714\u001b[0m\n",
      "\u001b[34mEpoch: 9, BCELoss: 0.29892439744910415\u001b[0m\n",
      "\u001b[34mEpoch: 10, BCELoss: 0.28017379465151804\u001b[0m\n",
      "\u001b[34m2020-12-22 08:44:27,302 sagemaker-containers INFO     Reporting training SUCCESS\u001b[0m\n",
      "\n",
      "2020-12-22 08:44:35 Uploading - Uploading generated training model\n",
      "2020-12-22 08:44:35 Completed - Training job completed\n",
      "Training seconds: 280\n",
      "Billable seconds: 280\n"
     ]
    }
   ],
   "source": [
    "estimator.fit({'training': input_data})"
   ]
  },
  {
   "cell_type": "markdown",
   "metadata": {},
   "source": [
    "## Step 5: Testing the model\n",
    "\n",
    "As mentioned at the top of this notebook, we will be testing this model by first deploying it and then sending the testing data to the deployed endpoint. We will do this so that we can make sure that the deployed model is working correctly.\n",
    "\n",
    "## Step 6: Deploy the model for testing\n",
    "\n",
    "Now that we have trained our model, we would like to test it to see how it performs. Currently our model takes input of the form `review_length, review[500]` where `review[500]` is a sequence of `500` integers which describe the words present in the review, encoded using `word_dict`. Fortunately for us, SageMaker provides built-in inference code for models with simple inputs such as this.\n",
    "\n",
    "There is one thing that we need to provide, however, and that is a function which loads the saved model. This function must be called `model_fn()` and takes as its only parameter a path to the directory where the model artifacts are stored. This function must also be present in the python file which we specified as the entry point. In our case the model loading function has been provided and so no changes need to be made.\n",
    "\n",
    "**NOTE**: When the built-in inference code is run it must import the `model_fn()` method from the `train.py` file. This is why the training code is wrapped in a main guard ( ie, `if __name__ == '__main__':` )\n",
    "\n",
    "Since we don't need to change anything in the code that was uploaded during training, we can simply deploy the current model as-is.\n",
    "\n",
    "**NOTE:** When deploying a model you are asking SageMaker to launch an compute instance that will wait for data to be sent to it. As a result, this compute instance will continue to run until *you* shut it down. This is important to know since the cost of a deployed endpoint depends on how long it has been running for.\n",
    "\n",
    "In other words **If you are no longer using a deployed endpoint, shut it down!**\n",
    "\n",
    "**TODO:** Deploy the trained model."
   ]
  },
  {
   "cell_type": "code",
   "execution_count": 40,
   "metadata": {},
   "outputs": [
    {
     "name": "stderr",
     "output_type": "stream",
     "text": [
      "Parameter image will be renamed to image_uri in SageMaker Python SDK v2.\n",
      "'create_image_uri' will be deprecated in favor of 'ImageURIProvider' class in SageMaker Python SDK v2.\n"
     ]
    },
    {
     "name": "stdout",
     "output_type": "stream",
     "text": [
      "---------------!"
     ]
    }
   ],
   "source": [
    "# TODO: Deploy the trained model\n",
    "predictor = estimator.deploy(initial_instance_count=1, instance_type='ml.m4.xlarge')"
   ]
  },
  {
   "cell_type": "markdown",
   "metadata": {},
   "source": [
    "## Step 7 - Use the model for testing\n",
    "\n",
    "Once deployed, we can read in the test data and send it off to our deployed model to get some results. Once we collect all of the results we can determine how accurate our model is."
   ]
  },
  {
   "cell_type": "code",
   "execution_count": 41,
   "metadata": {},
   "outputs": [],
   "source": [
    "test_X = pd.concat([pd.DataFrame(test_X_len), pd.DataFrame(test_X)], axis=1)"
   ]
  },
  {
   "cell_type": "code",
   "execution_count": 42,
   "metadata": {},
   "outputs": [],
   "source": [
    "# We split the data into chunks and send each chunk seperately, accumulating the results.\n",
    "\n",
    "def predict(data, rows=512):\n",
    "    split_array = np.array_split(data, int(data.shape[0] / float(rows) + 1))\n",
    "    predictions = np.array([])\n",
    "    for array in split_array:\n",
    "        predictions = np.append(predictions, predictor.predict(array))\n",
    "    \n",
    "    return predictions"
   ]
  },
  {
   "cell_type": "code",
   "execution_count": 43,
   "metadata": {},
   "outputs": [],
   "source": [
    "predictions = predict(test_X.values)\n",
    "predictions = [round(num) for num in predictions]"
   ]
  },
  {
   "cell_type": "code",
   "execution_count": 44,
   "metadata": {},
   "outputs": [
    {
     "data": {
      "text/plain": [
       "0.8386"
      ]
     },
     "execution_count": 44,
     "metadata": {},
     "output_type": "execute_result"
    }
   ],
   "source": [
    "from sklearn.metrics import accuracy_score\n",
    "accuracy_score(test_y, predictions)"
   ]
  },
  {
   "cell_type": "markdown",
   "metadata": {},
   "source": [
    "**Question:** How does this model compare to the XGBoost model you created earlier? Why might these two models perform differently on this dataset? Which do *you* think is better for sentiment analysis?"
   ]
  },
  {
   "cell_type": "markdown",
   "metadata": {},
   "source": [
    "**Answer:**  The two models are competitive with each other.  The algorithm and hyperparameters used can play a huge part so when fine tuned they both are great for sentiment analysis.  This model could be made even better if it uses a Bi-LSTM so that it learns both in a forward and a backward manner."
   ]
  },
  {
   "cell_type": "markdown",
   "metadata": {},
   "source": [
    "### (TODO) More testing\n",
    "\n",
    "We now have a trained model which has been deployed and which we can send processed reviews to and which returns the predicted sentiment. However, ultimately we would like to be able to send our model an unprocessed review. That is, we would like to send the review itself as a string. For example, suppose we wish to send the following review to our model."
   ]
  },
  {
   "cell_type": "code",
   "execution_count": 45,
   "metadata": {},
   "outputs": [],
   "source": [
    "test_review = 'The simplest pleasures in life are the best, and this film is one of them. Combining a rather basic storyline of love and adventure this movie transcends the usual weekend fair with wit and unmitigated charm.'"
   ]
  },
  {
   "cell_type": "markdown",
   "metadata": {},
   "source": [
    "The question we now need to answer is, how do we send this review to our model?\n",
    "\n",
    "Recall in the first section of this notebook we did a bunch of data processing to the IMDb dataset. In particular, we did two specific things to the provided reviews.\n",
    " - Removed any html tags and stemmed the input\n",
    " - Encoded the review as a sequence of integers using `word_dict`\n",
    " \n",
    "In order process the review we will need to repeat these two steps.\n",
    "\n",
    "**TODO**: Using the `review_to_words` and `convert_and_pad` methods from section one, convert `test_review` into a numpy array `test_data` suitable to send to our model. Remember that our model expects input of the form `review_length, review[500]`."
   ]
  },
  {
   "cell_type": "code",
   "execution_count": 46,
   "metadata": {},
   "outputs": [],
   "source": [
    "# TODO: Convert test_review into a form usable by the model and save the results in test_data\n",
    "# words = review_to_words(test_review)\n",
    "# words, length = convert_and_pad_data(word_dict, words)\n",
    "# test_data = np.array([[length] + words])\n",
    "words = review_to_words(test_review)\n",
    "test_data = convert_and_pad_data(word_dict, [words])\n",
    "test_data = pd.concat([pd.DataFrame(test_data[1]), pd.DataFrame(test_data[0])], axis=1)\n"
   ]
  },
  {
   "cell_type": "markdown",
   "metadata": {},
   "source": [
    "Now that we have processed the review, we can send the resulting array to our model to predict the sentiment of the review."
   ]
  },
  {
   "cell_type": "code",
   "execution_count": 47,
   "metadata": {},
   "outputs": [
    {
     "data": {
      "text/plain": [
       "array(0.87494195, dtype=float32)"
      ]
     },
     "execution_count": 47,
     "metadata": {},
     "output_type": "execute_result"
    }
   ],
   "source": [
    "predictor.predict(test_data)"
   ]
  },
  {
   "cell_type": "markdown",
   "metadata": {},
   "source": [
    "Since the return value of our model is close to `1`, we can be certain that the review we submitted is positive."
   ]
  },
  {
   "cell_type": "markdown",
   "metadata": {},
   "source": [
    "### Delete the endpoint\n",
    "\n",
    "Of course, just like in the XGBoost notebook, once we've deployed an endpoint it continues to run until we tell it to shut down. Since we are done using our endpoint for now, we can delete it."
   ]
  },
  {
   "cell_type": "code",
   "execution_count": 48,
   "metadata": {},
   "outputs": [
    {
     "name": "stderr",
     "output_type": "stream",
     "text": [
      "estimator.delete_endpoint() will be deprecated in SageMaker Python SDK v2. Please use the delete_endpoint() function on your predictor instead.\n"
     ]
    }
   ],
   "source": [
    "estimator.delete_endpoint()"
   ]
  },
  {
   "cell_type": "markdown",
   "metadata": {},
   "source": [
    "## Step 6 (again) - Deploy the model for the web app\n",
    "\n",
    "Now that we know that our model is working, it's time to create some custom inference code so that we can send the model a review which has not been processed and have it determine the sentiment of the review.\n",
    "\n",
    "As we saw above, by default the estimator which we created, when deployed, will use the entry script and directory which we provided when creating the model. However, since we now wish to accept a string as input and our model expects a processed review, we need to write some custom inference code.\n",
    "\n",
    "We will store the code that we write in the `serve` directory. Provided in this directory is the `model.py` file that we used to construct our model, a `utils.py` file which contains the `review_to_words` and `convert_and_pad` pre-processing functions which we used during the initial data processing, and `predict.py`, the file which will contain our custom inference code. Note also that `requirements.txt` is present which will tell SageMaker what Python libraries are required by our custom inference code.\n",
    "\n",
    "When deploying a PyTorch model in SageMaker, you are expected to provide four functions which the SageMaker inference container will use.\n",
    " - `model_fn`: This function is the same function that we used in the training script and it tells SageMaker how to load our model.\n",
    " - `input_fn`: This function receives the raw serialized input that has been sent to the model's endpoint and its job is to de-serialize and make the input available for the inference code.\n",
    " - `output_fn`: This function takes the output of the inference code and its job is to serialize this output and return it to the caller of the model's endpoint.\n",
    " - `predict_fn`: The heart of the inference script, this is where the actual prediction is done and is the function which you will need to complete.\n",
    "\n",
    "For the simple website that we are constructing during this project, the `input_fn` and `output_fn` methods are relatively straightforward. We only require being able to accept a string as input and we expect to return a single value as output. You might imagine though that in a more complex application the input or output may be image data or some other binary data which would require some effort to serialize.\n",
    "\n",
    "### (TODO) Writing inference code\n",
    "\n",
    "Before writing our custom inference code, we will begin by taking a look at the code which has been provided."
   ]
  },
  {
   "cell_type": "code",
   "execution_count": 49,
   "metadata": {},
   "outputs": [
    {
     "name": "stdout",
     "output_type": "stream",
     "text": [
      "\u001b[34mimport\u001b[39;49;00m \u001b[04m\u001b[36margparse\u001b[39;49;00m\r\n",
      "\u001b[34mimport\u001b[39;49;00m \u001b[04m\u001b[36mjson\u001b[39;49;00m\r\n",
      "\u001b[34mimport\u001b[39;49;00m \u001b[04m\u001b[36mos\u001b[39;49;00m\r\n",
      "\u001b[34mimport\u001b[39;49;00m \u001b[04m\u001b[36mpickle\u001b[39;49;00m\r\n",
      "\u001b[34mimport\u001b[39;49;00m \u001b[04m\u001b[36msys\u001b[39;49;00m\r\n",
      "\u001b[34mimport\u001b[39;49;00m \u001b[04m\u001b[36msagemaker_containers\u001b[39;49;00m\r\n",
      "\u001b[34mimport\u001b[39;49;00m \u001b[04m\u001b[36mpandas\u001b[39;49;00m \u001b[34mas\u001b[39;49;00m \u001b[04m\u001b[36mpd\u001b[39;49;00m\r\n",
      "\u001b[34mimport\u001b[39;49;00m \u001b[04m\u001b[36mnumpy\u001b[39;49;00m \u001b[34mas\u001b[39;49;00m \u001b[04m\u001b[36mnp\u001b[39;49;00m\r\n",
      "\u001b[34mimport\u001b[39;49;00m \u001b[04m\u001b[36mtorch\u001b[39;49;00m\r\n",
      "\u001b[34mimport\u001b[39;49;00m \u001b[04m\u001b[36mtorch\u001b[39;49;00m\u001b[04m\u001b[36m.\u001b[39;49;00m\u001b[04m\u001b[36mnn\u001b[39;49;00m \u001b[34mas\u001b[39;49;00m \u001b[04m\u001b[36mnn\u001b[39;49;00m\r\n",
      "\u001b[34mimport\u001b[39;49;00m \u001b[04m\u001b[36mtorch\u001b[39;49;00m\u001b[04m\u001b[36m.\u001b[39;49;00m\u001b[04m\u001b[36moptim\u001b[39;49;00m \u001b[34mas\u001b[39;49;00m \u001b[04m\u001b[36moptim\u001b[39;49;00m\r\n",
      "\u001b[34mimport\u001b[39;49;00m \u001b[04m\u001b[36mtorch\u001b[39;49;00m\u001b[04m\u001b[36m.\u001b[39;49;00m\u001b[04m\u001b[36mutils\u001b[39;49;00m\u001b[04m\u001b[36m.\u001b[39;49;00m\u001b[04m\u001b[36mdata\u001b[39;49;00m\r\n",
      "\r\n",
      "\u001b[34mfrom\u001b[39;49;00m \u001b[04m\u001b[36mmodel\u001b[39;49;00m \u001b[34mimport\u001b[39;49;00m LSTMClassifier\r\n",
      "\r\n",
      "\u001b[34mfrom\u001b[39;49;00m \u001b[04m\u001b[36mutils\u001b[39;49;00m \u001b[34mimport\u001b[39;49;00m review_to_words, convert_and_pad\r\n",
      "\r\n",
      "\u001b[34mdef\u001b[39;49;00m \u001b[32mmodel_fn\u001b[39;49;00m(model_dir):\r\n",
      "    \u001b[33m\"\"\"Load the PyTorch model from the `model_dir` directory.\"\"\"\u001b[39;49;00m\r\n",
      "    \u001b[36mprint\u001b[39;49;00m(\u001b[33m\"\u001b[39;49;00m\u001b[33mLoading model.\u001b[39;49;00m\u001b[33m\"\u001b[39;49;00m)\r\n",
      "\r\n",
      "    \u001b[37m# First, load the parameters used to create the model.\u001b[39;49;00m\r\n",
      "    model_info = {}\r\n",
      "    model_info_path = os.path.join(model_dir, \u001b[33m'\u001b[39;49;00m\u001b[33mmodel_info.pth\u001b[39;49;00m\u001b[33m'\u001b[39;49;00m)\r\n",
      "    \u001b[34mwith\u001b[39;49;00m \u001b[36mopen\u001b[39;49;00m(model_info_path, \u001b[33m'\u001b[39;49;00m\u001b[33mrb\u001b[39;49;00m\u001b[33m'\u001b[39;49;00m) \u001b[34mas\u001b[39;49;00m f:\r\n",
      "        model_info = torch.load(f)\r\n",
      "\r\n",
      "    \u001b[36mprint\u001b[39;49;00m(\u001b[33m\"\u001b[39;49;00m\u001b[33mmodel_info: \u001b[39;49;00m\u001b[33m{}\u001b[39;49;00m\u001b[33m\"\u001b[39;49;00m.format(model_info))\r\n",
      "\r\n",
      "    \u001b[37m# Determine the device and construct the model.\u001b[39;49;00m\r\n",
      "    device = torch.device(\u001b[33m\"\u001b[39;49;00m\u001b[33mcuda\u001b[39;49;00m\u001b[33m\"\u001b[39;49;00m \u001b[34mif\u001b[39;49;00m torch.cuda.is_available() \u001b[34melse\u001b[39;49;00m \u001b[33m\"\u001b[39;49;00m\u001b[33mcpu\u001b[39;49;00m\u001b[33m\"\u001b[39;49;00m)\r\n",
      "    model = LSTMClassifier(model_info[\u001b[33m'\u001b[39;49;00m\u001b[33membedding_dim\u001b[39;49;00m\u001b[33m'\u001b[39;49;00m], model_info[\u001b[33m'\u001b[39;49;00m\u001b[33mhidden_dim\u001b[39;49;00m\u001b[33m'\u001b[39;49;00m], model_info[\u001b[33m'\u001b[39;49;00m\u001b[33mvocab_size\u001b[39;49;00m\u001b[33m'\u001b[39;49;00m])\r\n",
      "\r\n",
      "    \u001b[37m# Load the store model parameters.\u001b[39;49;00m\r\n",
      "    model_path = os.path.join(model_dir, \u001b[33m'\u001b[39;49;00m\u001b[33mmodel.pth\u001b[39;49;00m\u001b[33m'\u001b[39;49;00m)\r\n",
      "    \u001b[34mwith\u001b[39;49;00m \u001b[36mopen\u001b[39;49;00m(model_path, \u001b[33m'\u001b[39;49;00m\u001b[33mrb\u001b[39;49;00m\u001b[33m'\u001b[39;49;00m) \u001b[34mas\u001b[39;49;00m f:\r\n",
      "        model.load_state_dict(torch.load(f))\r\n",
      "\r\n",
      "    \u001b[37m# Load the saved word_dict.\u001b[39;49;00m\r\n",
      "    word_dict_path = os.path.join(model_dir, \u001b[33m'\u001b[39;49;00m\u001b[33mword_dict.pkl\u001b[39;49;00m\u001b[33m'\u001b[39;49;00m)\r\n",
      "    \u001b[34mwith\u001b[39;49;00m \u001b[36mopen\u001b[39;49;00m(word_dict_path, \u001b[33m'\u001b[39;49;00m\u001b[33mrb\u001b[39;49;00m\u001b[33m'\u001b[39;49;00m) \u001b[34mas\u001b[39;49;00m f:\r\n",
      "        model.word_dict = pickle.load(f)\r\n",
      "\r\n",
      "    model.to(device).eval()\r\n",
      "\r\n",
      "    \u001b[36mprint\u001b[39;49;00m(\u001b[33m\"\u001b[39;49;00m\u001b[33mDone loading model.\u001b[39;49;00m\u001b[33m\"\u001b[39;49;00m)\r\n",
      "    \u001b[34mreturn\u001b[39;49;00m model\r\n",
      "\r\n",
      "\u001b[34mdef\u001b[39;49;00m \u001b[32minput_fn\u001b[39;49;00m(serialized_input_data, content_type):\r\n",
      "    \u001b[36mprint\u001b[39;49;00m(\u001b[33m'\u001b[39;49;00m\u001b[33mDeserializing the input data.\u001b[39;49;00m\u001b[33m'\u001b[39;49;00m)\r\n",
      "    \u001b[34mif\u001b[39;49;00m content_type == \u001b[33m'\u001b[39;49;00m\u001b[33mtext/plain\u001b[39;49;00m\u001b[33m'\u001b[39;49;00m:\r\n",
      "        data = serialized_input_data.decode(\u001b[33m'\u001b[39;49;00m\u001b[33mutf-8\u001b[39;49;00m\u001b[33m'\u001b[39;49;00m)\r\n",
      "        \u001b[34mreturn\u001b[39;49;00m data\r\n",
      "    \u001b[34mraise\u001b[39;49;00m \u001b[36mException\u001b[39;49;00m(\u001b[33m'\u001b[39;49;00m\u001b[33mRequested unsupported ContentType in content_type: \u001b[39;49;00m\u001b[33m'\u001b[39;49;00m + content_type)\r\n",
      "\r\n",
      "\u001b[34mdef\u001b[39;49;00m \u001b[32moutput_fn\u001b[39;49;00m(prediction_output, accept):\r\n",
      "    \u001b[36mprint\u001b[39;49;00m(\u001b[33m'\u001b[39;49;00m\u001b[33mSerializing the generated output.\u001b[39;49;00m\u001b[33m'\u001b[39;49;00m)\r\n",
      "    \u001b[34mreturn\u001b[39;49;00m \u001b[36mstr\u001b[39;49;00m(prediction_output)\r\n",
      "\r\n",
      "\u001b[34mdef\u001b[39;49;00m \u001b[32mpredict_fn\u001b[39;49;00m(input_data, model):\r\n",
      "    \u001b[36mprint\u001b[39;49;00m(\u001b[33m'\u001b[39;49;00m\u001b[33mInferring sentiment of input data.\u001b[39;49;00m\u001b[33m'\u001b[39;49;00m)\r\n",
      "\r\n",
      "    device = torch.device(\u001b[33m\"\u001b[39;49;00m\u001b[33mcuda\u001b[39;49;00m\u001b[33m\"\u001b[39;49;00m \u001b[34mif\u001b[39;49;00m torch.cuda.is_available() \u001b[34melse\u001b[39;49;00m \u001b[33m\"\u001b[39;49;00m\u001b[33mcpu\u001b[39;49;00m\u001b[33m\"\u001b[39;49;00m)\r\n",
      "    \r\n",
      "    \u001b[34mif\u001b[39;49;00m model.word_dict \u001b[35mis\u001b[39;49;00m \u001b[34mNone\u001b[39;49;00m:\r\n",
      "        \u001b[34mraise\u001b[39;49;00m \u001b[36mException\u001b[39;49;00m(\u001b[33m'\u001b[39;49;00m\u001b[33mModel has not been loaded properly, no word_dict.\u001b[39;49;00m\u001b[33m'\u001b[39;49;00m)\r\n",
      "    \r\n",
      "    \u001b[37m# TODO: Process input_data so that it is ready to be sent to our model.\u001b[39;49;00m\r\n",
      "    \u001b[37m#       You should produce two variables:\u001b[39;49;00m\r\n",
      "    \u001b[37m#         data_X   - A sequence of length 500 which represents the converted review\u001b[39;49;00m\r\n",
      "    \u001b[37m#         data_len - The length of the review\u001b[39;49;00m\r\n",
      "\r\n",
      "    data_X = review_to_words(input_data)\r\n",
      "    data_X,data_len = convert_and_pad(model.word_dict,data_X)\r\n",
      "\r\n",
      "    \u001b[37m# Using data_X and data_len we construct an appropriate input tensor. Remember\u001b[39;49;00m\r\n",
      "    \u001b[37m# that our model expects input data of the form 'len, review[500]'.\u001b[39;49;00m\r\n",
      "    data_pack = np.hstack((data_len, data_X))\r\n",
      "    data_pack = data_pack.reshape(\u001b[34m1\u001b[39;49;00m, -\u001b[34m1\u001b[39;49;00m)\r\n",
      "    \r\n",
      "    data = torch.from_numpy(data_pack)\r\n",
      "    data = data.to(device)\r\n",
      "\r\n",
      "    \u001b[37m# Make sure to put the model into evaluation mode\u001b[39;49;00m\r\n",
      "    model.eval()\r\n",
      "\r\n",
      "    \u001b[37m# TODO: Compute the result of applying the model to the input data. The variable `result` should\u001b[39;49;00m\r\n",
      "    \u001b[37m#       be a numpy array which contains a single integer which is either 1 or 0\u001b[39;49;00m\r\n",
      "\r\n",
      "    \u001b[34mwith\u001b[39;49;00m torch.no_grad():\r\n",
      "        out = model(data)\r\n",
      "        \r\n",
      "    result = np.round(out.numpy())\r\n",
      "\r\n",
      "    \u001b[34mreturn\u001b[39;49;00m result\r\n"
     ]
    }
   ],
   "source": [
    "!pygmentize serve/predict.py"
   ]
  },
  {
   "cell_type": "markdown",
   "metadata": {},
   "source": [
    "As mentioned earlier, the `model_fn` method is the same as the one provided in the training code and the `input_fn` and `output_fn` methods are very simple and your task will be to complete the `predict_fn` method. Make sure that you save the completed file as `predict.py` in the `serve` directory.\n",
    "\n",
    "**TODO**: Complete the `predict_fn()` method in the `serve/predict.py` file."
   ]
  },
  {
   "cell_type": "markdown",
   "metadata": {},
   "source": [
    "### Deploying the model\n",
    "\n",
    "Now that the custom inference code has been written, we will create and deploy our model. To begin with, we need to construct a new PyTorchModel object which points to the model artifacts created during training and also points to the inference code that we wish to use. Then we can call the deploy method to launch the deployment container.\n",
    "\n",
    "**NOTE**: The default behaviour for a deployed PyTorch model is to assume that any input passed to the predictor is a `numpy` array. In our case we want to send a string so we need to construct a simple wrapper around the `RealTimePredictor` class to accomodate simple strings. In a more complicated situation you may want to provide a serialization object, for example if you wanted to sent image data."
   ]
  },
  {
   "cell_type": "code",
   "execution_count": 50,
   "metadata": {},
   "outputs": [
    {
     "name": "stderr",
     "output_type": "stream",
     "text": [
      "Parameter image will be renamed to image_uri in SageMaker Python SDK v2.\n",
      "'create_image_uri' will be deprecated in favor of 'ImageURIProvider' class in SageMaker Python SDK v2.\n"
     ]
    },
    {
     "name": "stdout",
     "output_type": "stream",
     "text": [
      "-----------------!"
     ]
    }
   ],
   "source": [
    "from sagemaker.predictor import RealTimePredictor\n",
    "from sagemaker.pytorch import PyTorchModel\n",
    "\n",
    "class StringPredictor(RealTimePredictor):\n",
    "    def __init__(self, endpoint_name, sagemaker_session):\n",
    "        super(StringPredictor, self).__init__(endpoint_name, sagemaker_session, content_type='text/plain')\n",
    "\n",
    "model = PyTorchModel(model_data=estimator.model_data,\n",
    "                     role = role,\n",
    "                     framework_version='0.4.0',\n",
    "                     entry_point='predict.py',\n",
    "                     source_dir='serve',\n",
    "                     predictor_cls=StringPredictor)\n",
    "predictor = model.deploy(initial_instance_count=1, instance_type='ml.m4.xlarge')"
   ]
  },
  {
   "cell_type": "markdown",
   "metadata": {},
   "source": [
    "### Testing the model\n",
    "\n",
    "Now that we have deployed our model with the custom inference code, we should test to see if everything is working. Here we test our model by loading the first `250` positive and negative reviews and send them to the endpoint, then collect the results. The reason for only sending some of the data is that the amount of time it takes for our model to process the input and then perform inference is quite long and so testing the entire data set would be prohibitive."
   ]
  },
  {
   "cell_type": "code",
   "execution_count": 51,
   "metadata": {},
   "outputs": [],
   "source": [
    "import glob\n",
    "\n",
    "def test_reviews(data_dir='../data/aclImdb', stop=250):\n",
    "    \n",
    "    results = []\n",
    "    ground = []\n",
    "    \n",
    "    # We make sure to test both positive and negative reviews    \n",
    "    for sentiment in ['pos', 'neg']:\n",
    "        \n",
    "        path = os.path.join(data_dir, 'test', sentiment, '*.txt')\n",
    "        files = glob.glob(path)\n",
    "        \n",
    "        files_read = 0\n",
    "        \n",
    "        print('Starting ', sentiment, ' files')\n",
    "        \n",
    "        # Iterate through the files and send them to the predictor\n",
    "        for f in files:\n",
    "            with open(f) as review:\n",
    "                # First, we store the ground truth (was the review positive or negative)\n",
    "                if sentiment == 'pos':\n",
    "                    ground.append(1)\n",
    "                else:\n",
    "                    ground.append(0)\n",
    "                # Read in the review and convert to 'utf-8' for transmission via HTTP\n",
    "                review_input = review.read().encode('utf-8')\n",
    "                # Send the review to the predictor and store the results\n",
    "                results.append(float(predictor.predict(review_input)))\n",
    "                \n",
    "            # Sending reviews to our endpoint one at a time takes a while so we\n",
    "            # only send a small number of reviews\n",
    "            files_read += 1\n",
    "            if files_read == stop:\n",
    "                break\n",
    "            \n",
    "    return ground, results"
   ]
  },
  {
   "cell_type": "code",
   "execution_count": 52,
   "metadata": {},
   "outputs": [
    {
     "name": "stdout",
     "output_type": "stream",
     "text": [
      "Starting  pos  files\n",
      "Starting  neg  files\n"
     ]
    }
   ],
   "source": [
    "ground, results = test_reviews()"
   ]
  },
  {
   "cell_type": "code",
   "execution_count": 53,
   "metadata": {},
   "outputs": [
    {
     "data": {
      "text/plain": [
       "0.858"
      ]
     },
     "execution_count": 53,
     "metadata": {},
     "output_type": "execute_result"
    }
   ],
   "source": [
    "from sklearn.metrics import accuracy_score\n",
    "accuracy_score(ground, results)"
   ]
  },
  {
   "cell_type": "markdown",
   "metadata": {},
   "source": [
    "As an additional test, we can try sending the `test_review` that we looked at earlier."
   ]
  },
  {
   "cell_type": "code",
   "execution_count": 54,
   "metadata": {},
   "outputs": [
    {
     "data": {
      "text/plain": [
       "b'1.0'"
      ]
     },
     "execution_count": 54,
     "metadata": {},
     "output_type": "execute_result"
    }
   ],
   "source": [
    "predictor.predict(test_review)"
   ]
  },
  {
   "cell_type": "markdown",
   "metadata": {},
   "source": [
    "Now that we know our endpoint is working as expected, we can set up the web page that will interact with it. If you don't have time to finish the project now, make sure to skip down to the end of this notebook and shut down your endpoint. You can deploy it again when you come back."
   ]
  },
  {
   "cell_type": "markdown",
   "metadata": {},
   "source": [
    "## Step 7 (again): Use the model for the web app\n",
    "\n",
    "> **TODO:** This entire section and the next contain tasks for you to complete, mostly using the AWS console.\n",
    "\n",
    "So far we have been accessing our model endpoint by constructing a predictor object which uses the endpoint and then just using the predictor object to perform inference. What if we wanted to create a web app which accessed our model? The way things are set up currently makes that not possible since in order to access a SageMaker endpoint the app would first have to authenticate with AWS using an IAM role which included access to SageMaker endpoints. However, there is an easier way! We just need to use some additional AWS services.\n",
    "\n",
    "<img src=\"Web App Diagram.svg\">\n",
    "\n",
    "The diagram above gives an overview of how the various services will work together. On the far right is the model which we trained above and which is deployed using SageMaker. On the far left is our web app that collects a user's movie review, sends it off and expects a positive or negative sentiment in return.\n",
    "\n",
    "In the middle is where some of the magic happens. We will construct a Lambda function, which you can think of as a straightforward Python function that can be executed whenever a specified event occurs. We will give this function permission to send and recieve data from a SageMaker endpoint.\n",
    "\n",
    "Lastly, the method we will use to execute the Lambda function is a new endpoint that we will create using API Gateway. This endpoint will be a url that listens for data to be sent to it. Once it gets some data it will pass that data on to the Lambda function and then return whatever the Lambda function returns. Essentially it will act as an interface that lets our web app communicate with the Lambda function.\n",
    "\n",
    "### Setting up a Lambda function\n",
    "\n",
    "The first thing we are going to do is set up a Lambda function. This Lambda function will be executed whenever our public API has data sent to it. When it is executed it will receive the data, perform any sort of processing that is required, send the data (the review) to the SageMaker endpoint we've created and then return the result.\n",
    "\n",
    "#### Part A: Create an IAM Role for the Lambda function\n",
    "\n",
    "Since we want the Lambda function to call a SageMaker endpoint, we need to make sure that it has permission to do so. To do this, we will construct a role that we can later give the Lambda function.\n",
    "\n",
    "Using the AWS Console, navigate to the **IAM** page and click on **Roles**. Then, click on **Create role**. Make sure that the **AWS service** is the type of trusted entity selected and choose **Lambda** as the service that will use this role, then click **Next: Permissions**.\n",
    "\n",
    "In the search box type `sagemaker` and select the check box next to the **AmazonSageMakerFullAccess** policy. Then, click on **Next: Review**.\n",
    "\n",
    "Lastly, give this role a name. Make sure you use a name that you will remember later on, for example `LambdaSageMakerRole`. Then, click on **Create role**.\n",
    "\n",
    "#### Part B: Create a Lambda function\n",
    "\n",
    "Now it is time to actually create the Lambda function.\n",
    "\n",
    "Using the AWS Console, navigate to the AWS Lambda page and click on **Create a function**. When you get to the next page, make sure that **Author from scratch** is selected. Now, name your Lambda function, using a name that you will remember later on, for example `sentiment_analysis_func`. Make sure that the **Python 3.6** runtime is selected and then choose the role that you created in the previous part. Then, click on **Create Function**.\n",
    "\n",
    "On the next page you will see some information about the Lambda function you've just created. If you scroll down you should see an editor in which you can write the code that will be executed when your Lambda function is triggered. In our example, we will use the code below. \n",
    "\n",
    "```python\n",
    "# We need to use the low-level library to interact with SageMaker since the SageMaker API\n",
    "# is not available natively through Lambda.\n",
    "import boto3\n",
    "\n",
    "def lambda_handler(event, context):\n",
    "\n",
    "    # The SageMaker runtime is what allows us to invoke the endpoint that we've created.\n",
    "    runtime = boto3.Session().client('sagemaker-runtime')\n",
    "\n",
    "    # Now we use the SageMaker runtime to invoke our endpoint, sending the review we were given\n",
    "    response = runtime.invoke_endpoint(EndpointName = '**ENDPOINT NAME HERE**',    # The name of the endpoint we created\n",
    "                                       ContentType = 'text/plain',                 # The data format that is expected\n",
    "                                       Body = event['body'])                       # The actual review\n",
    "\n",
    "    # The response is an HTTP response whose body contains the result of our inference\n",
    "    result = response['Body'].read().decode('utf-8')\n",
    "\n",
    "    return {\n",
    "        'statusCode' : 200,\n",
    "        'headers' : { 'Content-Type' : 'text/plain', 'Access-Control-Allow-Origin' : '*' },\n",
    "        'body' : result\n",
    "    }\n",
    "```\n",
    "\n",
    "Once you have copy and pasted the code above into the Lambda code editor, replace the `**ENDPOINT NAME HERE**` portion with the name of the endpoint that we deployed earlier. You can determine the name of the endpoint using the code cell below."
   ]
  },
  {
   "cell_type": "code",
   "execution_count": 55,
   "metadata": {},
   "outputs": [
    {
     "data": {
      "text/plain": [
       "'sagemaker-pytorch-2020-12-22-09-01-54-769'"
      ]
     },
     "execution_count": 55,
     "metadata": {},
     "output_type": "execute_result"
    }
   ],
   "source": [
    "predictor.endpoint"
   ]
  },
  {
   "cell_type": "markdown",
   "metadata": {},
   "source": [
    "Once you have added the endpoint name to the Lambda function, click on **Save**. Your Lambda function is now up and running. Next we need to create a way for our web app to execute the Lambda function.\n",
    "\n",
    "### Setting up API Gateway\n",
    "\n",
    "Now that our Lambda function is set up, it is time to create a new API using API Gateway that will trigger the Lambda function we have just created.\n",
    "\n",
    "Using AWS Console, navigate to **Amazon API Gateway** and then click on **Get started**.\n",
    "\n",
    "On the next page, make sure that **New API** is selected and give the new api a name, for example, `sentiment_analysis_api`. Then, click on **Create API**.\n",
    "\n",
    "Now we have created an API, however it doesn't currently do anything. What we want it to do is to trigger the Lambda function that we created earlier.\n",
    "\n",
    "Select the **Actions** dropdown menu and click **Create Method**. A new blank method will be created, select its dropdown menu and select **POST**, then click on the check mark beside it.\n",
    "\n",
    "For the integration point, make sure that **Lambda Function** is selected and click on the **Use Lambda Proxy integration**. This option makes sure that the data that is sent to the API is then sent directly to the Lambda function with no processing. It also means that the return value must be a proper response object as it will also not be processed by API Gateway.\n",
    "\n",
    "Type the name of the Lambda function you created earlier into the **Lambda Function** text entry box and then click on **Save**. Click on **OK** in the pop-up box that then appears, giving permission to API Gateway to invoke the Lambda function you created.\n",
    "\n",
    "The last step in creating the API Gateway is to select the **Actions** dropdown and click on **Deploy API**. You will need to create a new Deployment stage and name it anything you like, for example `prod`.\n",
    "\n",
    "You have now successfully set up a public API to access your SageMaker model. Make sure to copy or write down the URL provided to invoke your newly created public API as this will be needed in the next step. This URL can be found at the top of the page, highlighted in blue next to the text **Invoke URL**."
   ]
  },
  {
   "cell_type": "markdown",
   "metadata": {},
   "source": [
    "## Step 4: Deploying our web app\n",
    "\n",
    "Now that we have a publicly available API, we can start using it in a web app. For our purposes, we have provided a simple static html file which can make use of the public api you created earlier.\n",
    "\n",
    "In the `website` folder there should be a file called `index.html`. Download the file to your computer and open that file up in a text editor of your choice. There should be a line which contains **\\*\\*REPLACE WITH PUBLIC API URL\\*\\***. Replace this string with the url that you wrote down in the last step and then save the file.\n",
    "\n",
    "Now, if you open `index.html` on your local computer, your browser will behave as a local web server and you can use the provided site to interact with your SageMaker model.\n",
    "\n",
    "If you'd like to go further, you can host this html file anywhere you'd like, for example using github or hosting a static site on Amazon's S3. Once you have done this you can share the link with anyone you'd like and have them play with it too!\n",
    "\n",
    "> **Important Note** In order for the web app to communicate with the SageMaker endpoint, the endpoint has to actually be deployed and running. This means that you are paying for it. Make sure that the endpoint is running when you want to use the web app but that you shut it down when you don't need it, otherwise you will end up with a surprisingly large AWS bill.\n",
    "\n",
    "**TODO:** Make sure that you include the edited `index.html` file in your project submission."
   ]
  },
  {
   "cell_type": "markdown",
   "metadata": {},
   "source": [
    "Now that your web app is working, trying playing around with it and see how well it works.\n",
    "\n",
    "**Question**: Give an example of a review that you entered into your web app. What was the predicted sentiment of your example review?"
   ]
  },
  {
   "cell_type": "markdown",
   "metadata": {},
   "source": [
    "**Answer:**\n",
    "* Input:  I hate the movie   Output: Your review was NEGATIVE!\n",
    "* Input: I really like the actor.  Output: Your review POSITIVE!\n",
    "* Input: I wanted to sleep in the middle of the film. Output:  Your review was NEGATIVE!"
   ]
  },
  {
   "cell_type": "markdown",
   "metadata": {},
   "source": [
    "### Delete the endpoint\n",
    "\n",
    "Remember to always shut down your endpoint if you are no longer using it. You are charged for the length of time that the endpoint is running so if you forget and leave it on you could end up with an unexpectedly large bill."
   ]
  },
  {
   "cell_type": "code",
   "execution_count": 49,
   "metadata": {},
   "outputs": [],
   "source": [
    "predictor.delete_endpoint()"
   ]
  },
  {
   "cell_type": "code",
   "execution_count": null,
   "metadata": {},
   "outputs": [],
   "source": []
  }
 ],
 "metadata": {
  "kernelspec": {
   "display_name": "conda_pytorch_p36",
   "language": "python",
   "name": "conda_pytorch_p36"
  },
  "language_info": {
   "codemirror_mode": {
    "name": "ipython",
    "version": 3
   },
   "file_extension": ".py",
   "mimetype": "text/x-python",
   "name": "python",
   "nbconvert_exporter": "python",
   "pygments_lexer": "ipython3",
   "version": "3.6.10"
  }
 },
 "nbformat": 4,
 "nbformat_minor": 2
}
